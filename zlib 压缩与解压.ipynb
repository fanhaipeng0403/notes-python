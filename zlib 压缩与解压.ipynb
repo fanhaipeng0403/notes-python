{
 "metadata": {
  "name": "",
  "signature": "sha256:24ba072a181c17fc18299ddb37b5b84f0d72dccb1ee805c0d46dd5f23891271c"
 },
 "nbformat": 3,
 "nbformat_minor": 0,
 "worksheets": [
  {
   "cells": [
    {
     "cell_type": "markdown",
     "metadata": {},
     "source": [
      "# \u9605\u8bfb\u76ee\u5f55\n",
      "* [\u4f8b\u5b501\uff1a\u538b\u7f29\u4e0e\u89e3\u538b\u5b57\u7b26\u4e32](#1)\n",
      "* [\u4f8b\u5b502\uff1a\u538b\u7f29\u4e0e\u89e3\u538b\u6587\u4ef6](#2)\n",
      "* [\u95ee\u9898\u2014\u2014\u5904\u7406\u5bf9\u8c61\u8fc7\u5927\u5f02\u5e38](#3)"
     ]
    },
    {
     "cell_type": "markdown",
     "metadata": {},
     "source": [
      "<h3 id=1>1.\u538b\u7f29\u4e0e\u89e3\u538b\u5b57\u7b26\u4e32</h3>"
     ]
    },
    {
     "cell_type": "code",
     "collapsed": false,
     "input": [
      "import zlib\n",
      "message = 'abcd1234'\n",
      "compressed = zlib.compress(message)\n",
      "decompressed = zlib.decompress(compressed)\n",
      "\n",
      "print 'original:', repr(message)\n",
      "print 'compressed:', repr(compressed)\n",
      "print 'decompressed:', repr(decompressed)"
     ],
     "language": "python",
     "metadata": {},
     "outputs": [
      {
       "output_type": "stream",
       "stream": "stdout",
       "text": [
        "original: 'abcd1234'\n",
        "compressed: 'x\\x9cKLJN1426\\x01\\x00\\x0b\\xf8\\x02U'\n",
        "decompressed: 'abcd1234'\n"
       ]
      }
     ],
     "prompt_number": 2
    },
    {
     "cell_type": "markdown",
     "metadata": {},
     "source": [
      "<h3 id=2>2.\u538b\u7f29\u4e0e\u89e3\u538b\u6587\u4ef6</h3>"
     ]
    },
    {
     "cell_type": "code",
     "collapsed": false,
     "input": [
      "import zlib\n",
      "def compress(infile, dst, level=9):\n",
      "    infile = open(infile, 'rb')\n",
      "    dst = open(dst, 'wb')\n",
      "    compress = zlib.compressobj(level)\n",
      "    data = infile.read(1024)\n",
      "    while data:\n",
      "        dst.write(compress.compress(data))\n",
      "        data = infile.read(1024)\n",
      "    dst.write(compress.flush())\n",
      "\n",
      "def decompress(infile, dst):\n",
      "    infile = open(infile, 'rb')\n",
      "    dst = open(dst, 'wb')\n",
      "    decompress = zlib.decompressobj()\n",
      "    data = infile.read(1024)\n",
      "    while data:\n",
      "        dst.write(decompress.decompress(data))\n",
      "        data = infile.read(1024)\n",
      "    dst.write(decompress.flush())\n",
      "\n",
      "\n",
      "    "
     ],
     "language": "python",
     "metadata": {},
     "outputs": [],
     "prompt_number": 5
    },
    {
     "cell_type": "code",
     "collapsed": false,
     "input": [
      " import zlib\n",
      " a = '123'\n",
      " b = zlib.compress(a)"
     ],
     "language": "python",
     "metadata": {},
     "outputs": [],
     "prompt_number": 6
    },
    {
     "cell_type": "code",
     "collapsed": false,
     "input": [
      "b"
     ],
     "language": "python",
     "metadata": {},
     "outputs": [
      {
       "metadata": {},
       "output_type": "pyout",
       "prompt_number": 7,
       "text": [
        "'x\\x9c342\\x06\\x00\\x01-\\x00\\x97'"
       ]
      }
     ],
     "prompt_number": 7
    },
    {
     "cell_type": "code",
     "collapsed": false,
     "input": [
      "\n",
      "a = 'a' * 1024 * 1024 * 1024 * 10\n"
     ],
     "language": "python",
     "metadata": {},
     "outputs": [
      {
       "ename": "MemoryError",
       "evalue": "",
       "output_type": "pyerr",
       "traceback": [
        "\u001b[0;31m---------------------------------------------------------------------------\u001b[0m\n\u001b[0;31mMemoryError\u001b[0m                               Traceback (most recent call last)",
        "\u001b[0;32m<ipython-input-8-89c125224d13>\u001b[0m in \u001b[0;36m<module>\u001b[0;34m()\u001b[0m\n\u001b[1;32m      1\u001b[0m \u001b[0;34m\u001b[0m\u001b[0m\n\u001b[0;32m----> 2\u001b[0;31m \u001b[0ma\u001b[0m \u001b[0;34m=\u001b[0m \u001b[0;34m'a'\u001b[0m \u001b[0;34m*\u001b[0m \u001b[0;36m1024\u001b[0m \u001b[0;34m*\u001b[0m \u001b[0;36m1024\u001b[0m \u001b[0;34m*\u001b[0m \u001b[0;36m1024\u001b[0m \u001b[0;34m*\u001b[0m \u001b[0;36m10\u001b[0m\u001b[0;34m\u001b[0m\u001b[0m\n\u001b[0m",
        "\u001b[0;31mMemoryError\u001b[0m: "
       ]
      }
     ],
     "prompt_number": 8
    },
    {
     "cell_type": "markdown",
     "metadata": {},
     "source": [
      "http://www.cnblogs.com/kaituorensheng/p/5503179.html#_label1"
     ]
    },
    {
     "cell_type": "code",
     "collapsed": false,
     "input": [],
     "language": "python",
     "metadata": {},
     "outputs": []
    }
   ],
   "metadata": {}
  }
 ]
}