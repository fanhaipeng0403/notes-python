{
 "metadata": {
  "kernelspec": {
   "display_name": "Python 2",
   "language": "python",
   "name": "python2"
  },
  "language_info": {
   "codemirror_mode": {
    "name": "ipython",
    "version": 2
   },
   "file_extension": ".py",
   "mimetype": "text/x-python",
   "name": "python",
   "nbconvert_exporter": "python",
   "pygments_lexer": "ipython2",
   "version": "2.7.6"
  },
  "name": "",
  "signature": "sha256:ffef5ff89aa0cb94691c4c888980d229ac28db48c73ae89bcb3de880450a618a"
 },
 "nbformat": 3,
 "nbformat_minor": 0,
 "worksheets": [
  {
   "cells": [
    {
     "cell_type": "heading",
     "level": 1,
     "metadata": {},
     "source": [
      "\u4ea7\u751f\u76ee\u5f55"
     ]
    },
    {
     "cell_type": "code",
     "collapsed": true,
     "input": [
      "import os\n",
      "import os.path"
     ],
     "language": "python",
     "metadata": {},
     "outputs": [],
     "prompt_number": 1
    },
    {
     "cell_type": "markdown",
     "metadata": {},
     "source": [
      "\u6587\u4ef6\u5939\u540d\uff1a"
     ]
    },
    {
     "cell_type": "code",
     "collapsed": true,
     "input": [
      "folders = ['01. python tools', \n",
      "           '02. python essentials',\n",
      "           '03. numpy',\n",
      "           '04. scipy',\n",
      "           '05. advanced python',\n",
      "           '06. matplotlib',\n",
      "           '07. interfacing with other languages',\n",
      "           '08. object-oriented programming',\n",
      "           '09. theano',\n",
      "           '10. something interesting',\n",
      "           '11. useful tools',\n",
      "           '12. pandas'\n",
      "          ]"
     ],
     "language": "python",
     "metadata": {},
     "outputs": [],
     "prompt_number": 2
    },
    {
     "cell_type": "markdown",
     "metadata": {},
     "source": [
      "\u5bf9\u5e94\u7684\u4e2d\u6587\u540d\uff1a"
     ]
    },
    {
     "cell_type": "code",
     "collapsed": true,
     "input": [
      "chinese = ['01. **Python \u5de5\u5177**', \n",
      "           '02. **Python \u57fa\u7840**', \n",
      "           '03. **Numpy**',\n",
      "           '04. **Scipy**',\n",
      "           '05. **Python \u8fdb\u9636**',\n",
      "           '06. **Matplotlib**',\n",
      "           '07. **\u4f7f\u7528\u5176\u4ed6\u8bed\u8a00\u8fdb\u884c\u6269\u5c55**',\n",
      "           '08. **\u9762\u5411\u5bf9\u8c61\u7f16\u7a0b**',\n",
      "           '09. **Theano \u57fa\u7840**',\n",
      "           '10. **\u6709\u8da3\u7684\u7b2c\u4e09\u65b9\u6a21\u5757**',\n",
      "           '11. **\u6709\u7528\u7684\u5de5\u5177**',\n",
      "           '12. **Pandas**'\n",
      "          ]"
     ],
     "language": "python",
     "metadata": {},
     "outputs": [],
     "prompt_number": 3
    },
    {
     "cell_type": "markdown",
     "metadata": {},
     "source": [
      "\u4e00\u4e00\u5bf9\u5e94\u5230\u5b57\u5178\u4e2d\uff1a"
     ]
    },
    {
     "cell_type": "code",
     "collapsed": true,
     "input": [
      "folders_to_chinese = dict(zip(folders, chinese))"
     ],
     "language": "python",
     "metadata": {},
     "outputs": [],
     "prompt_number": 4
    },
    {
     "cell_type": "markdown",
     "metadata": {},
     "source": [
      "\u4ea7\u751f\u76ee\u5f55\u6587\u4ef6\uff1a"
     ]
    },
    {
     "cell_type": "code",
     "collapsed": true,
     "input": [
      "index_file = open('index.md', 'w')"
     ],
     "language": "python",
     "metadata": {},
     "outputs": [],
     "prompt_number": 5
    },
    {
     "cell_type": "markdown",
     "metadata": {},
     "source": [
      "\u904d\u5386\u4ea7\u751f\u4e2d\u6587\u76ee\u5f55\uff1a"
     ]
    },
    {
     "cell_type": "code",
     "collapsed": false,
     "input": [
      "import nbformat\n",
      "import glob\n",
      "\n",
      "for folder in folders:\n",
      "    index_file.write('- [' + folders_to_chinese[folder] \n",
      "                     +'](' + folder + ')\\n')\n",
      "    print folders_to_chinese[folder].replace('*', '')\n",
      "    files = sorted(os.listdir(folder))\n",
      "    for file_name in files:\n",
      "        if file_name.endswith('.ipynb'):\n",
      "            with open(os.path.join(folder, file_name)) as fp:\n",
      "                nb = nbformat.read(fp, nbformat.NO_CONVERT)\n",
      "            name = nb['cells'][0]['source'][1:].strip()\n",
      "            print '    ' + file_name[:5], name\n",
      "            index_file.write('\\t - [' + file_name[:5] + ' ')\n",
      "            index_file.write(name.encode('utf-8'))\n",
      "            index_file.write('](' + folder + '/' + file_name +')\\n')"
     ],
     "language": "python",
     "metadata": {
      "scrolled": false
     },
     "outputs": [
      {
       "output_type": "stream",
       "stream": "stdout",
       "text": [
        "01. Python \u5de5\u5177\n",
        "    01.01 Python \u7b80\u4ecb\n",
        "    01.02 Ipython \u89e3\u91ca\u5668\n",
        "    01.03 Ipython notebook\n",
        "    01.04 \u4f7f\u7528 Anaconda\n",
        "02. Python \u57fa\u7840\n",
        "    02.01 Python \u5165\u95e8\u6f14\u793a\n",
        "    02.02 Python \u6570\u636e\u7c7b\u578b\n",
        "    02.03 \u6570\u5b57\n",
        "    02.04 \u5b57\u7b26\u4e32\n",
        "    02.05 \u7d22\u5f15\u548c\u5206\u7247\n",
        "    02.06 \u5217\u8868\n",
        "    02.07 \u53ef\u53d8\u548c\u4e0d\u53ef\u53d8\u7c7b\u578b\n",
        "    02.08 \u5143\u7ec4\n",
        "    02.09 \u5217\u8868\u4e0e\u5143\u7ec4\u7684\u901f\u5ea6\u6bd4\u8f83\n",
        "    02.10 \u5b57\u5178\n",
        "    02.11 \u96c6\u5408\n",
        "    02.12 \u4e0d\u53ef\u53d8\u96c6\u5408\n",
        "    02.13 Python \u8d4b\u503c\u673a\u5236\n",
        "    02.14 \u5224\u65ad\u8bed\u53e5\n",
        "    02.15 \u5faa\u73af\n",
        "    02.16 \u5217\u8868\u63a8\u5bfc\u5f0f\n",
        "    02.17 \u51fd\u6570\n",
        "    02.18 \u6a21\u5757\u548c\u5305\n",
        "    02.19 \u5f02\u5e38\n",
        "    02.20 \u8b66\u544a\n",
        "    02.21 \u6587\u4ef6\u8bfb\u5199\n",
        "03. Numpy\n",
        "    03.01 Numpy \u7b80\u4ecb\n",
        "    03.02 Matplotlib \u57fa\u7840\n",
        "    03.03 Numpy \u6570\u7ec4\u53ca\u5176\u7d22\u5f15\n",
        "    03.04 \u6570\u7ec4\u7c7b\u578b\n",
        "    03.05 \u6570\u7ec4\u65b9\u6cd5\n",
        "    03.06 \u6570\u7ec4\u6392\u5e8f\n",
        "    03.07 \u6570\u7ec4\u5f62\u72b6\n",
        "    03.08 \u5bf9\u89d2\u7ebf\n",
        "    03.09 \u6570\u7ec4\u4e0e\u5b57\u7b26\u4e32\u7684\u8f6c\u6362\n",
        "    03.10 \u6570\u7ec4\u5c5e\u6027\u65b9\u6cd5\u603b\u7ed3\n",
        "    03.11 \u751f\u6210\u6570\u7ec4\u7684\u51fd\u6570\n",
        "    03.12 \u77e9\u9635\n",
        "    03.13 \u4e00\u822c\u51fd\u6570\n",
        "    03.14 \u5411\u91cf\u5316\u51fd\u6570\n",
        "    03.15 \u4e8c\u5143\u8fd0\u7b97\n",
        "    03.16 ufunc \u5bf9\u8c61\n",
        "    03.17 choose \u51fd\u6570\u5b9e\u73b0\u6761\u4ef6\u7b5b\u9009\n",
        "    03.18 \u6570\u7ec4\u5e7f\u64ad\u673a\u5236\n",
        "    03.19 \u6570\u7ec4\u8bfb\u5199\n",
        "    03.20 \u7ed3\u6784\u5316\u6570\u7ec4\n",
        "    03.21 \u8bb0\u5f55\u6570\u7ec4\n",
        "    03.22 \u5185\u5b58\u6620\u5c04\n",
        "    03.23 \u4ece Matlab \u5230 Numpy\n",
        "04. Scipy\n",
        "    04.01 SCIentific PYthon \u7b80\u4ecb\n",
        "    04.02 \u63d2\u503c\n",
        "    04.03 \u6982\u7387\u7edf\u8ba1\u65b9\u6cd5\n",
        "    04.04 \u66f2\u7ebf\u62df\u5408\n",
        "    04.05 \u6700\u5c0f\u5316\u51fd\u6570\n",
        "    04.06 \u79ef\u5206\n",
        "    04.07 \u89e3\u5fae\u5206\u65b9\u7a0b\n",
        "    04.08 \u7a00\u758f\u77e9\u9635\n",
        "    04.09 \u7ebf\u6027\u4ee3\u6570\n",
        "    04.10 \u7a00\u758f\u77e9\u9635\u7684\u7ebf\u6027\u4ee3\u6570\n",
        "05. Python \u8fdb\u9636\n",
        "    05.01 sys \u6a21\u5757\u7b80\u4ecb\n",
        "    05.02 \u4e0e\u64cd\u4f5c\u7cfb\u7edf\u8fdb\u884c\u4ea4\u4e92\uff1aos \u6a21\u5757\n",
        "    05.03 CSV \u6587\u4ef6\u548c csv \u6a21\u5757\n",
        "    05.04 \u6b63\u5219\u8868\u8fbe\u5f0f\u548c re \u6a21\u5757\n",
        "    05.05 datetime \u6a21\u5757\n",
        "    05.06 SQL \u6570\u636e\u5e93\n",
        "    05.07 \u5bf9\u8c61\u5173\u7cfb\u6620\u5c04\n",
        "    05.08 \u51fd\u6570\u8fdb\u9636\uff1a\u53c2\u6570\u4f20\u9012\uff0c\u9ad8\u9636\u51fd\u6570\uff0clambda \u533f\u540d\u51fd\u6570\uff0cglobal \u53d8\u91cf\uff0c\u9012\u5f52\n",
        "    05.09 \u8fed\u4ee3\u5668\n",
        "    05.10 \u751f\u6210\u5668\n",
        "    05.11 with \u8bed\u53e5\u548c\u4e0a\u4e0b\u6587\u7ba1\u7406\u5668\n",
        "    05.12 \u4fee\u9970\u7b26\n",
        "    05.13 \u4fee\u9970\u7b26\u7684\u4f7f\u7528\n",
        "    05.14 operator, functools, itertools, toolz, fn, funcy \u6a21\u5757\n",
        "    05.15 \u4f5c\u7528\u57df\n",
        "    05.16 \u52a8\u6001\u7f16\u8bd1\n",
        "06. Matplotlib\n",
        "    06.01 Pyplot \u6559\u7a0b\n",
        "    06.02 \u4f7f\u7528 style \u6765\u914d\u7f6e pyplot \u98ce\u683c\n",
        "    06.03 \u5904\u7406\u6587\u672c\uff08\u57fa\u7840\uff09\n",
        "    06.04 \u5904\u7406\u6587\u672c\uff08\u6570\u5b66\u8868\u8fbe\u5f0f\uff09\n",
        "    06.05 \u56fe\u50cf\u57fa\u7840\n",
        "    06.06 \u6ce8\u91ca\n",
        "    06.07 \u6807\u7b7e\n",
        "    06.08 figures, subplots, axes \u548c ticks \u5bf9\u8c61\n",
        "    06.09 \u4e0d\u8981\u8ff7\u4fe1\u9ed8\u8ba4\u8bbe\u7f6e\n",
        "    06.10 \u5404\u79cd\u7ed8\u56fe\u5b9e\u4f8b\n",
        "07. \u4f7f\u7528\u5176\u4ed6\u8bed\u8a00\u8fdb\u884c\u6269\u5c55\n",
        "    07.01 \u7b80\u4ecb\n",
        "    07.02 Python \u6269\u5c55\u6a21\u5757\n",
        "    07.03 Cython\uff1aCython \u57fa\u7840\uff0c\u5c06\u6e90\u4ee3\u7801\u8f6c\u6362\u6210\u6269\u5c55\u6a21\u5757\n",
        "    07.04 Cython\uff1aCython \u8bed\u6cd5\uff0c\u8c03\u7528\u5176\u4ed6C\u5e93\n",
        "    07.05 Cython\uff1aclass \u548c cdef class\uff0c\u4f7f\u7528 C++\n",
        "    07.06 Cython\uff1aTyped memoryviews\n",
        "    07.07 \u751f\u6210\u7f16\u8bd1\u6ce8\u91ca\n",
        "    07.08 ctypes\n",
        "08. \u9762\u5411\u5bf9\u8c61\u7f16\u7a0b\n",
        "    08.01 \u7b80\u4ecb\n",
        "    08.02 \u4f7f\u7528 OOP \u5bf9\u68ee\u6797\u706b\u707e\u5efa\u6a21\n",
        "    08.03 \u4ec0\u4e48\u662f\u5bf9\u8c61\uff1f\n",
        "    08.04 \u5b9a\u4e49 class\n",
        "    08.05 \u7279\u6b8a\u65b9\u6cd5\n",
        "    08.06 \u5c5e\u6027\n",
        "    08.07 \u68ee\u6797\u706b\u707e\u6a21\u62df\n",
        "    08.08 \u7ee7\u627f\n",
        "    08.09 super() \u51fd\u6570\n",
        "    08.10 \u91cd\u5b9a\u4e49\u68ee\u6797\u706b\u707e\u6a21\u62df\n",
        "    08.11 \u63a5\u53e3\n",
        "    08.12 \u5171\u6709\uff0c\u79c1\u6709\u548c\u7279\u6b8a\u65b9\u6cd5\u548c\u5c5e\u6027\n",
        "    08.13 \u591a\u91cd\u7ee7\u627f\n",
        "09. Theano \u57fa\u7840\n",
        "    09.01 Theano \u7b80\u4ecb\u53ca\u5176\u5b89\u88c5\n",
        "    09.02 Theano \u57fa\u7840\n",
        "    09.03 Theano \u5728 Windows \u4e0a\u7684\u914d\u7f6e\n",
        "    09.04 Theano \u7b26\u53f7\u56fe\u7ed3\u6784\n",
        "    09.05 Theano \u914d\u7f6e\u548c\u7f16\u8bd1\u6a21\u5f0f\n",
        "    09.06 Theano \u6761\u4ef6\u8bed\u53e5\n",
        "    09.07 Theano \u5faa\u73af\uff1ascan\uff08\u8be6\u89e3\uff09\n",
        "    09.08 Theano \u5b9e\u4f8b\uff1a\u7ebf\u6027\u56de\u5f52\n",
        "    09.09 Theano \u5b9e\u4f8b\uff1aLogistic \u56de\u5f52\n",
        "    09.10 Theano \u5b9e\u4f8b\uff1aSoftmax \u56de\u5f52\n",
        "    09.11 Theano \u5b9e\u4f8b\uff1a\u4eba\u5de5\u795e\u7ecf\u7f51\u7edc\n",
        "    09.12 Theano \u968f\u673a\u6570\u6d41\u53d8\u91cf\n",
        "    09.13 Theano \u5b9e\u4f8b\uff1a\u66f4\u590d\u6742\u7684\u7f51\u7edc\n",
        "    09.14 Theano \u5b9e\u4f8b\uff1a\u5377\u79ef\u795e\u7ecf\u7f51\u7edc\n",
        "    09.15 Theano tensor \u6a21\u5757\uff1a\u57fa\u7840\n",
        "    09.16 Theano tensor \u6a21\u5757\uff1a\u7d22\u5f15\n",
        "    09.17 Theano tensor \u6a21\u5757\uff1a\u64cd\u4f5c\u7b26\u548c\u9010\u5143\u7d20\u64cd\u4f5c\n",
        "    09.18 Theano tensor \u6a21\u5757\uff1annet \u5b50\u6a21\u5757\n",
        "    09.19 Theano tensor \u6a21\u5757\uff1aconv \u5b50\u6a21\u5757\n",
        "10. \u6709\u8da3\u7684\u7b2c\u4e09\u65b9\u6a21\u5757\n",
        "    10.01 \u4f7f\u7528 basemap \u753b\u5730\u56fe\n",
        "    10.02 \u4f7f\u7528 cartopy \u753b\u5730\u56fe\n",
        "    10.03 \u63a2\u7d22 NBA \u6570\u636e\n",
        "    10.04 \u91d1\u5eb8\u7684\u6b66\u4fa0\u4e16\u754c\n",
        "11. \u6709\u7528\u7684\u5de5\u5177\n",
        "    11.01 pprint \u6a21\u5757\uff1a\u6253\u5370 Python \u5bf9\u8c61\n",
        "    11.02 pickle, cPickle \u6a21\u5757\uff1a\u5e8f\u5217\u5316 Python \u5bf9\u8c61\n",
        "    11.03 json \u6a21\u5757\uff1a\u5904\u7406 JSON \u6570\u636e\n",
        "    11.04 glob \u6a21\u5757\uff1a\u6587\u4ef6\u6a21\u5f0f\u5339\u914d\n",
        "    11.05 shutil \u6a21\u5757\uff1a\u9ad8\u7ea7\u6587\u4ef6\u64cd\u4f5c\n",
        "    11.06 gzip, zipfile, tarfile \u6a21\u5757\uff1a\u5904\u7406\u538b\u7f29\u6587\u4ef6\n",
        "    11.07 logging \u6a21\u5757\uff1a\u8bb0\u5f55\u65e5\u5fd7\n",
        "    11.08 string \u6a21\u5757\uff1a\u5b57\u7b26\u4e32\u5904\u7406\n",
        "    11.09 collections \u6a21\u5757\uff1a\u66f4\u591a\u6570\u636e\u7ed3\u6784\n",
        "    11.10 requests \u6a21\u5757\uff1aHTTP for Human\n",
        "12. Pandas\n",
        "    12.01 \u5341\u5206\u949f\u4e0a\u624b Pandas\n",
        "    12.02 \u4e00\u7ef4\u6570\u636e\u7ed3\u6784\uff1aSeries\n",
        "    12.03 \u4e8c\u7ef4\u6570\u636e\u7ed3\u6784\uff1aDataFrame\n"
       ]
      }
     ],
     "prompt_number": 6
    },
    {
     "cell_type": "markdown",
     "metadata": {
      "collapsed": false
     },
     "source": [
      "\u5173\u95ed\u76ee\u5f55\u6587\u4ef6\uff1a"
     ]
    },
    {
     "cell_type": "code",
     "collapsed": true,
     "input": [
      "index_file.close()"
     ],
     "language": "python",
     "metadata": {},
     "outputs": [],
     "prompt_number": 7
    }
   ],
   "metadata": {}
  }
 ]
}