{
 "cells": [
  {
   "cell_type": "code",
   "execution_count": 1,
   "metadata": {
    "collapsed": false
   },
   "outputs": [
    {
     "name": "stdout",
     "output_type": "stream",
     "text": [
      "show time after 10 seconds:\n"
     ]
    }
   ],
   "source": [
    "#! /usr/bin/env python\n",
    "#coding=utf-8\n",
    "#这里需要引入三个模块\n",
    "import time, os, sched \n",
    "    \n",
    "# 第一个参数确定任务的时间，返回从某个特定的时间到现在经历的秒数 \n",
    "# 第二个参数以某种人为的方式衡量时间 \n",
    "schedule = sched.scheduler(time.time, time.sleep) \n",
    "    \n",
    "def perform_command(cmd, inc): \n",
    "    os.system(cmd) \n",
    "        \n",
    "def timming_exe(cmd, inc = 60): \n",
    "    # enter用来安排某事件的发生时间，从现在起第n秒开始启动 \n",
    "    schedule.enter(inc, 0, perform_command, (cmd, inc)) \n",
    "    # 持续运行，直到计划时间队列变成空为止 \n",
    "    schedule.run() \n",
    "        \n",
    "    \n",
    "print(\"show time after 10 seconds:\") \n",
    "timming_exe(\"echo %time%\", 10)"
   ]
  },
  {
   "cell_type": "code",
   "execution_count": null,
   "metadata": {
    "collapsed": true
   },
   "outputs": [],
   "source": [
    "http://www.pythontab.com/html/2013/pythonjichu_0119/146.html"
   ]
  }
 ],
 "metadata": {
  "kernelspec": {
   "display_name": "Python 2",
   "language": "python",
   "name": "python2"
  },
  "language_info": {
   "codemirror_mode": {
    "name": "ipython",
    "version": 2
   },
   "file_extension": ".py",
   "mimetype": "text/x-python",
   "name": "python",
   "nbconvert_exporter": "python",
   "pygments_lexer": "ipython2",
   "version": "2.7.12"
  }
 },
 "nbformat": 4,
 "nbformat_minor": 1
}
