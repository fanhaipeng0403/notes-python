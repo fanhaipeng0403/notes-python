{
 "cells": [
  {
   "cell_type": "markdown",
   "metadata": {},
   "source": [
    "http://oj.leetcode.com/problems/evaluate-reverse-polish-notation/"
   ]
  },
  {
   "cell_type": "code",
   "execution_count": 7,
   "metadata": {
    "collapsed": false
   },
   "outputs": [],
   "source": [
    " def calRPN(RPN_stack):\n",
    "    ...:     if (len(RPN_stack) == 0):\n",
    "    ...:         return 0;\n",
    "    ...:     result = []\n",
    "    ...:     for i in range(len(RPN_stack)):\n",
    "    ...:         element = RPN_stack[i] \n",
    "    ...:         if  element in  [\"+\", \"-\", \"*\", \"/\"]:   #判断是操作符还是操作数\n",
    "    ...:             y = result.pop()\n",
    "    ...:             x = result.pop()\n",
    "    ...:             result.append(eval(str(x)+str(element)+str(y)))  #使用操作符计算\n",
    "    ...:         else:\n",
    "    ...:             result.append(element)\n",
    "    ...:     return int(result.pop())"
   ]
  },
  {
   "cell_type": "code",
   "execution_count": 8,
   "metadata": {
    "collapsed": false
   },
   "outputs": [
    {
     "name": "stdout",
     "output_type": "stream",
     "text": [
      "0\n",
      "9\n"
     ]
    }
   ],
   "source": [
    "RPN_stack =  []#test\n",
    "    ...: print(calRPN(RPN_stack))\n",
    "    ...: RPN_stack =  [\"2\", \"1\", \"+\", \"3\", \"*\"]#test\n",
    "    ...: print(calRPN(RPN_stack))"
   ]
  }
 ],
 "metadata": {
  "kernelspec": {
   "display_name": "Python 2",
   "language": "python",
   "name": "python2"
  },
  "language_info": {
   "codemirror_mode": {
    "name": "ipython",
    "version": 2
   },
   "file_extension": ".py",
   "mimetype": "text/x-python",
   "name": "python",
   "nbconvert_exporter": "python",
   "pygments_lexer": "ipython2",
   "version": "2.7.12"
  }
 },
 "nbformat": 4,
 "nbformat_minor": 1
}
