{
 "cells": [
  {
   "cell_type": "markdown",
   "metadata": {},
   "source": [
    "http://www.runoob.com/w3cnote/google-python-styleguide.html"
   ]
  },
  {
   "cell_type": "code",
   "execution_count": null,
   "metadata": {
    "collapsed": true
   },
   "outputs": [],
   "source": [
    "x == 1  #在二元操作符两边都加上一个空格 "
   ]
  },
  {
   "cell_type": "code",
   "execution_count": null,
   "metadata": {
    "collapsed": true
   },
   "outputs": [],
   "source": [
    "Yes: import os\n",
    "     import sys"
   ]
  },
  {
   "cell_type": "code",
   "execution_count": null,
   "metadata": {
    "collapsed": true
   },
   "outputs": [],
   "source": [
    "应该避免的名称\n",
    "单字符名称, 除了计数器和迭代器."
   ]
  },
  {
   "cell_type": "code",
   "execution_count": null,
   "metadata": {
    "collapsed": true
   },
   "outputs": [],
   "source": [
    "注释和语句间空2格,注释和#之间空一格.\n",
    "    \n",
    "     foo = 1000  # 注释\n",
    "     long_name = 2  # 注释不需要对齐\n",
    "\n",
    "绝不要描述代码. 假设阅读代码的人比你更懂Python, 他只是不知道你的代码要做什么.\n",
    "       "
   ]
  },
  {
   "cell_type": "code",
   "execution_count": null,
   "metadata": {
    "collapsed": true
   },
   "outputs": [],
   "source": [
    "在注释中，如果必要，将长的URL放在一行上。\n",
    "\n",
    "Yes:  # See details at\n",
    "      # http://www.example.com/us/developer/documentation/api/content/v2.0/csv_file_name_extension_full_specification.html"
   ]
  },
  {
   "cell_type": "code",
   "execution_count": null,
   "metadata": {
    "collapsed": true
   },
   "outputs": [],
   "source": [
    "圆括号, 中括号和花括号中的行隐式的连接起来 \n",
    "\n",
    "推荐: foo_bar(self, width, height, color='black', design=None, x='foo',\n",
    "             emphasis=None, highlight=0)  # 与起始变量对齐\n",
    "\n",
    "     if (width == 0 and height == 0 and\n",
    "         color == 'red' and emphasis == 'strong'):"
   ]
  },
  {
   "cell_type": "code",
   "execution_count": null,
   "metadata": {
    "collapsed": true
   },
   "outputs": [],
   "source": [
    "成员之间空一格\n",
    "Yes: spam(ham[1], {eggs: 2}, [])"
   ]
  },
  {
   "cell_type": "code",
   "execution_count": null,
   "metadata": {
    "collapsed": true
   },
   "outputs": [],
   "source": [
    "程序的main文件应该以 #!/usr/bin/python2或者 #!/usr/bin/python3开始."
   ]
  },
  {
   "cell_type": "code",
   "execution_count": null,
   "metadata": {
    "collapsed": true
   },
   "outputs": [],
   "source": [
    " 一个文档字符串应该这样组织: 首先是一行以句号,\n",
    "问号或惊叹号结尾的概述(或者该文档字符串单纯只有一行).\n",
    "接着是一个空行. 接着是文档字符串剩下的部分, \n",
    "它应该与文档字符串的第一行的第一个引号对齐. 下面有更多文档字符串的格式化规范."
   ]
  },
  {
   "cell_type": "code",
   "execution_count": null,
   "metadata": {
    "collapsed": true
   },
   "outputs": [],
   "source": [
    "def fetch_bigtable_rows(big_table, keys, other_silly_variable=None):\n",
    "    \"\"\"Fetches rows from a Bigtable.\n",
    "\n",
    "    Retrieves rows pertaining to the given keys from the Table instance\n",
    "    represented by big_table.  Silly things may happen if\n",
    "    other_silly_variable is not None.\n",
    "\n",
    "    Args:\n",
    "        big_table: An open Bigtable Table instance.\n",
    "        keys: A sequence of strings representing the key of each table row\n",
    "            to fetch.\n",
    "        other_silly_variable: Another optional variable, that has a much\n",
    "            longer name than the other args, and which does nothing.\n",
    "\n",
    "    Returns:\n",
    "        A dict mapping keys to the corresponding table row data\n",
    "        fetched. Each row is represented as a tuple of strings. For\n",
    "        example:\n",
    "\n",
    "        {'Serak': ('Rigel VII', 'Preparer'),\n",
    "         'Zim': ('Irk', 'Invader'),\n",
    "         'Lrrr': ('Omicron Persei 8', 'Emperor')}\n",
    "\n",
    "        If a key from the keys argument is missing from the dictionary,\n",
    "        then that row was not found in the table.\n",
    "\n",
    "    Raises:\n",
    "        IOError: An error occurred accessing the bigtable.Table object.\n",
    "    \"\"\"\n",
    "    pass"
   ]
  },
  {
   "cell_type": "code",
   "execution_count": null,
   "metadata": {
    "collapsed": true
   },
   "outputs": [],
   "source": [
    "类\n",
    "类应该在其定义下有一个用于描述该类的文档字符串. 如果你的类有公共属性(Attributes), 那么文档中应该有一个属性(Attributes)段. 并且应该遵守和函数参数相同的格式.\n",
    "class SampleClass(object):\n",
    "    \"\"\"Summary of class here.  # 首先是一行以句号,问号或惊叹号结尾的概述(或者该文档字符串单纯只有一行).接着是一个空行. 接着是文档字符串剩下的部分, 它应该与文档字符串的第一行的第一个引号对齐\n",
    "\n",
    "    Longer class information....\n",
    "    Longer class information....\n",
    "\n",
    "    Attributes:\n",
    "        likes_spam: A boolean indicating if we like SPAM or not.\n",
    "        eggs: An integer count of the eggs we have laid.\n",
    "    \"\"\"\n",
    "\n",
    "    def __init__(self, likes_spam=False):\n",
    "        \"\"\"Inits SampleClass with blah.\"\"\"\n",
    "        self.likes_spam = likes_spam\n",
    "        self.eggs = 0\n",
    "\n",
    "    def public_method(self):\n",
    "        \"\"\"Performs operation blah.\"\"\""
   ]
  },
  {
   "cell_type": "code",
   "execution_count": null,
   "metadata": {
    "collapsed": true
   },
   "outputs": [],
   "source": [
    "类\n",
    "如果一个类不继承自其它类, 就显式的从object继承. 嵌套类也一样."
   ]
  },
  {
   "cell_type": "code",
   "execution_count": null,
   "metadata": {
    "collapsed": true
   },
   "outputs": [],
   "source": [
    "TODO注释\n",
    "为临时代码使用TODO注释, 它是一种短期解决方案. 不算完美, 但够好了.\n",
    "TODO注释应该在所有开头处包含\"TODO\"字符串, 紧跟着是用括号括起来的你的名字, email地址或其它标识符. 然后是一个可选的冒号. 接着必须有一行注释, 解释要做什么. 主要目的是为了有一个统一的TODO格式, 这样添加注释的人就可以搜索到(并可以按需提供更多细节). 写了TODO注释并不保证写的人会亲自解决问题. 当你写了一个TODO, 请注上你的名字.\n",
    "# TODO(kl@gmail.com): Use a \"*\" here for string repetition.\n",
    "# TODO(Zeke) Change this to use relations.\n",
    "如果你的TODO是\"将来做某事\"的形式, 那么请确保你包含了一个指定的日期(\"2009年11月解决\")或者一个特定的事件(\"等到所有的客户都可以处理XML请求就移除这些代码\")."
   ]
  },
  {
   "cell_type": "markdown",
   "metadata": {},
   "source": [
    "Main\n",
    "即使是一个打算被用作脚本的文件, 也应该是可导入的. 并且简单的导入**不应该**导致这个脚本的主功能(main functionality)被执行, 这是一种副作用. 主功能应该放在一个main()函数中.\n",
    "在Python中, pydoc以及单元测试要求模块必须是可导入的. 你的代码应该在执行主程序前总是检查 if __name__ == '__main__' , 这样当模块被导入时主程序就不会被执行.\n",
    "def main():\n",
    "      ...\n",
    "\n",
    "if __name__ == '__main__':\n",
    "    main()\n",
    "所有的顶级代码在模块导入时都会被执行. 要小心不要去调用函数, 创建对象, 或者执行那些不应该在使用pydoc时执行的操作."
   ]
  }
 ],
 "metadata": {
  "kernelspec": {
   "display_name": "Python 2",
   "language": "python",
   "name": "python2"
  },
  "language_info": {
   "codemirror_mode": {
    "name": "ipython",
    "version": 2
   },
   "file_extension": ".py",
   "mimetype": "text/x-python",
   "name": "python",
   "nbconvert_exporter": "python",
   "pygments_lexer": "ipython2",
   "version": "2.7.12"
  }
 },
 "nbformat": 4,
 "nbformat_minor": 1
}
