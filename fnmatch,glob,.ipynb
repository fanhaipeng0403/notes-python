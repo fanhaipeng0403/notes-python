{
 "cells": [
  {
   "cell_type": "code",
   "execution_count": null,
   "metadata": {
    "collapsed": true
   },
   "outputs": [],
   "source": [
    "fnmatch模块的使用\n",
    "简单记录一下fnmatch模块的使用，此模块的主要作用是文件名称的匹配，并且匹配的模式使用的unix shell风格。字面意思感觉就是filename match\n",
    "\n",
    "如下例子所示：\n",
    "\n",
    "#!/usr/bin/env python  \n",
    "  \n",
    "import os  \n",
    "import fnmatch  \n",
    "  \n",
    "for filename in os.listdir('.'):  \n",
    "    if fnmatch.fnmatch(filename,'*.txt'): #匹配模式为星号，表示任意的字符  \n",
    "        print filename  \n",
    " 例子中，主要使用os.listdir来列出当前目录中的文件，如果匹配的后缀为.txt，那么就打印出来，fnmatch.fnmatch是一个布尔函数，返回为True或者Faulse。\n",
    "\n",
    "主要使用的匹配模式如下：\n",
    "\n",
    "\n",
    "if fnmatch.fnmatch('kel','?el'): #匹配模式为问号，及匹配一个任意字符  \n",
    "    print 'match'  \n",
    "  \n",
    "if fnmatch.fnmatch('kel','[a-z]el'): #匹配模式为单个字符，在a-z之间  \n",
    "    print 'match'  \n",
    "  \n",
    "if fnmatch.fnmatch('1el','[!a-z]el'):#匹配模式为不能是a-z之间的字符  \n",
    "    print 'match'  \n",
    "执行结果如下：\n",
    "[root@python 429]# python fnmatchexample.py   \n",
    "kel.txt  \n",
    "match  \n",
    "match  \n",
    "match  \n",
    " 问号相当于一个占位符，从而能匹配\n",
    "k是字母a-z之间的字母，从而能匹配\n",
    "\n",
    "数字1不在a-z之间的字母，从而能匹配\n"
   ]
  },
  {
   "cell_type": "code",
   "execution_count": null,
   "metadata": {
    "collapsed": true
   },
   "outputs": [],
   "source": [
    ">>> fnmatch.fnmatch('_py','_.py') \n",
    ">>> False\n",
    ">>> fnmatch.fnmatch('tlie.py','*.py')\n",
    ">>> True\n",
    "注意:匹配样式是unix shell风格的.其中*表示匹配任何单个或多个字符.?表示匹配单个字符;[seq] 匹配单个seq中的字符;[!seq]匹配单个不是seq中的字符.与此相同功能的还有fnmatch.fnmatchcase(name, pat),用法基本相似; 2.fnmatch.filter(names, pat)实现列表特殊字符的过滤或筛选,返回符合匹配模式的字符列表,当然names表示的是列表; eg:\n",
    "\n",
    "names = ['dlsf', 'ewro.txt', 'te.py', 'youe.py']\n",
    "匹配以.py结尾的字符\n",
    "\n",
    ">>> fnmatch.filter(names, '*.py')\n",
    ">>> ['te.py', 'youe.py']\n",
    ">>> fnmatch.filter(names, '[de]')\n",
    ">>> []\n",
    "匹配以d或e开头的字符\n",
    "\n",
    "fnmatch.filter(names, '[de]*') ['dlsf', 'ewro.txt']"
   ]
  },
  {
   "cell_type": "code",
   "execution_count": null,
   "metadata": {
    "collapsed": true
   },
   "outputs": [],
   "source": []
  }
 ],
 "metadata": {
  "kernelspec": {
   "display_name": "Python 2",
   "language": "python",
   "name": "python2"
  },
  "language_info": {
   "codemirror_mode": {
    "name": "ipython",
    "version": 2
   },
   "file_extension": ".py",
   "mimetype": "text/x-python",
   "name": "python",
   "nbconvert_exporter": "python",
   "pygments_lexer": "ipython2",
   "version": "2.7.12"
  }
 },
 "nbformat": 4,
 "nbformat_minor": 1
}
