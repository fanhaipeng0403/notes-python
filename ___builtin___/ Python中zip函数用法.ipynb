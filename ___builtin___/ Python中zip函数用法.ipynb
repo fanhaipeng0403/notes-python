{
 "cells": [
  {
   "cell_type": "markdown",
   "metadata": {},
   "source": [
    "<br>\n",
    "<br>\n",
    "<p></p>\n",
    "<p>有一个简单易懂的例子，有2个列表A,B，A存了班级里的人的名字，B是每个人的考试分数，你需要通过某个人的名字来查考试分数，那你需要一个字典，zip可以很方便地帮你建立字典：<br>\n",
    "&gt;&gt;&gt; x=['bob','tom','kitty']<br>\n",
    "&gt;&gt;&gt; y=[80,90,95]<br>\n",
    "&gt;&gt;&gt;d=dict(zip(x,y))<br>\n",
    "[('bob', 80), ('tom', 90), ('kitty', 95)]<br>\n",
    "</p>\n",
    "<p>zip()是<a href=\"http://lib.csdn.net/base/python\" class=\"replace_word\" title=\"Python知识库\" target=\"_blank\" style=\"color:#df3434; font-weight:bold;\">Python</a>的一个内建函数，它接受一系列可迭代的对象作为参数，将对象中对应的元素打包成一个个tuple（元组），然后返回由这些tuples组成的list（列表）。若传入参数的长度不等，则返回list的长度和参数中长度最短的对象相同。利用*号操作符，可以将list unzip（解压），看下面的例子就明白了：</p>\n",
    "&gt;&gt;&gt; a = [1,2,3]<br>\n",
    "&gt;&gt;&gt; b = [4,5,6]<br>\n",
    "&gt;&gt;&gt; c = [4,5,6,7,8]<br>\n",
    "&gt;&gt;&gt; zipped = zip(a,b)<br>\n",
    "[(1, 4), (2, 5), (3, 6)]<br>\n",
    "&gt;&gt;&gt; zip(a,c)<br>\n",
    "[(1, 4), (2, 5), (3, 6)]<br>\n",
    "&gt;&gt;&gt; zip(*zipped)<br>\n",
    "[(1, 2, 3), (4, 5, 6)]<br>\n",
    "对于这个并不是很常用函数，下面举几个例子说明它的用法：<br>\n",
    "* 二维矩阵变换（矩阵的行列互换）<br>\n",
    "比如我们有一个由列表描述的二维矩阵<br>\n",
    "a = [[1, 2, 3], [4, 5, 6], [7, 8, 9]]<br>\n",
    "通过python列表推导的方法，我们也能轻易完成这个任务<br>\n",
    "print [ [row[col] for row in a] for col in range(len(a[0]))]<br>\n",
    "[[1, 4, 7], [2, 5, 8], [3, 6, 9]]<br>\n",
    "另外一种让人困惑的方法就是利用zip函数：<br>\n",
    "&gt;&gt;&gt; a = [[1, 2, 3], [4, 5, 6], [7, 8, 9]]<br>\n",
    "&gt;&gt;&gt; zip(*a)<br>\n",
    "[(1, 4, 7), (2, 5, 8), (3, 6, 9)]<br>\n",
    "&gt;&gt;&gt; map(list,zip(*a))<br>\n",
    "[[1, 4, 7], [2, 5, 8], [3, 6, 9]]<br>\n",
    "&nbsp;<br>\n",
    "zip函数接受任意多个序列作为参数，将所有序列按相同的索引组合成一个元素是各个序列合并成的tuple的新序列，新的序列的长度以参数中最短的序列为准。另外(*)操作符与zip函数配合可以实现与zip相反的功能，即将合并的序列拆成多个tuple。<br>\n",
    "①tuple的新序列<br>\n",
    "&gt;&gt;&gt;&gt;x=[1,2,3],y=['a','b','c']<br>\n",
    "&gt;&gt;&gt;zip(x,y)<br>\n",
    "[(1,'a'),(2,'b'),(3,'c')]<br>\n",
    "<br>\n",
    "<br>\n",
    "②新的序列的长度以参数中最短的序列为准.<br>\n",
    "&gt;&gt;&gt;&gt;x=[1,2],y=['a','b','c']<br>\n",
    "&gt;&gt;&gt;zip(x,y)<br>\n",
    "[(1,'a'),(2,'b')]<br>\n",
    "<br>\n",
    "<br>\n",
    "③(*)操作符与zip函数配合可以实现与zip相反的功能,即将合并的序列拆成多个tuple。<br>\n",
    "&gt;&gt;&gt;&gt;x=[1,2,3],y=['a','b','c']<br>\n",
    "&gt;&gt;&gt;&gt;zip(*zip(x,y))<br>\n",
    "<p>[(1,2,3),('a','b','c')]</p>\n",
    "<p>"
   ]
  },
  {
   "cell_type": "markdown",
   "metadata": {},
   "source": [
    "http://blog.csdn.net/zhu_liangwei/article/details/7967237"
   ]
  }
 ],
 "metadata": {
  "kernelspec": {
   "display_name": "Python 2",
   "language": "python",
   "name": "python2"
  },
  "language_info": {
   "codemirror_mode": {
    "name": "ipython",
    "version": 2
   },
   "file_extension": ".py",
   "mimetype": "text/x-python",
   "name": "python",
   "nbconvert_exporter": "python",
   "pygments_lexer": "ipython2",
   "version": "2.7.12"
  }
 },
 "nbformat": 4,
 "nbformat_minor": 1
}
