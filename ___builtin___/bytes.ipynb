{
 "cells": [
  {
   "cell_type": "code",
   "execution_count": 1,
   "metadata": {
    "collapsed": true
   },
   "outputs": [],
   "source": [
    "a='a'"
   ]
  },
  {
   "cell_type": "code",
   "execution_count": 2,
   "metadata": {
    "collapsed": false
   },
   "outputs": [
    {
     "data": {
      "text/plain": [
       "'a'"
      ]
     },
     "execution_count": 2,
     "metadata": {},
     "output_type": "execute_result"
    }
   ],
   "source": [
    "a.encode('utf-8')"
   ]
  },
  {
   "cell_type": "markdown",
   "metadata": {},
   "source": [
    "python2"
   ]
  },
  {
   "cell_type": "code",
   "execution_count": 5,
   "metadata": {
    "collapsed": false
   },
   "outputs": [
    {
     "data": {
      "text/plain": [
       "'a'"
      ]
     },
     "execution_count": 5,
     "metadata": {},
     "output_type": "execute_result"
    }
   ],
   "source": [
    "bytes(a)"
   ]
  },
  {
   "cell_type": "raw",
   "metadata": {},
   "source": [
    "python3"
   ]
  },
  {
   "cell_type": "raw",
   "metadata": {},
   "source": [
    "bytes('a','utf-8')\n",
    "Out[]: b'a'\n"
   ]
  },
  {
   "cell_type": "raw",
   "metadata": {},
   "source": [
    "返回一个新的数组对象，这个数组对象不能对数组元素进行修改。每个元素值范围: 0 <= x < 256。bytes函数与bytearray函数主要区别是bytes函数产生的对象的元素不能修改，而bytearray函数产生的对象的元素可以修改。因此，除了可修改的对象函数跟bytearray函数不一样之外，其它使用方法全部是相同的。最后它的参数定义方式也与bytearray函数是一样的。\n",
    "\n",
    "例子：\n",
    "\n",
    "[python] view plain copy 在CODE上查看代码片派生到我的代码片\n",
    "#bytes()函数  \n",
    "  \n",
    "a = bytes('abc', 'utf-8')  \n",
    "print(a)  \n",
    "  \n",
    "b  = bytes(1)  \n",
    "print(b)  \n",
    "  \n",
    "c = bytes([2,3,6,8])  \n",
    "print(c)  \n",
    "\n",
    "输出结果如下：\n",
    "\n",
    "b'abc'\n",
    "\n",
    "b'\\x00'\n",
    "\n",
    "b'\\x02\\x03\\x06\\x08'"
   ]
  },
  {
   "cell_type": "code",
   "execution_count": null,
   "metadata": {
    "collapsed": true
   },
   "outputs": [],
   "source": []
  }
 ],
 "metadata": {
  "kernelspec": {
   "display_name": "Python 2",
   "language": "python",
   "name": "python2"
  },
  "language_info": {
   "codemirror_mode": {
    "name": "ipython",
    "version": 2
   },
   "file_extension": ".py",
   "mimetype": "text/x-python",
   "name": "python",
   "nbconvert_exporter": "python",
   "pygments_lexer": "ipython2",
   "version": "2.7.12"
  }
 },
 "nbformat": 4,
 "nbformat_minor": 1
}
