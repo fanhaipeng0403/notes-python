{
 "cells": [
  {
   "cell_type": "raw",
   "metadata": {},
   "source": [
    "[python] view plain copy\n",
    "python的set和其他语言类似, 是一个无序不重复元素集, 基本功能包括关系测试和消除重复元素. 集合对象还支持union(联合), intersection(交), difference(差)和sysmmetric difference(对称差集)等数学运算.  \n",
    "  \n",
    "sets 支持 x in set, len(set),和 for x in set。作为一个无序的集合，sets不记录元素位置或者插入点。因此，sets不支持 indexing, slicing, 或其它类序列（sequence-like）的操作。  \n",
    "  \n",
    "   \n",
    "  \n",
    "下面来点简单的小例子说明把。  \n",
    "  \n",
    ">>> x = set('spam')  \n",
    ">>> y = set(['h','a','m'])  \n",
    ">>> x, y  \n",
    "(set(['a', 'p', 's', 'm']), set(['a', 'h', 'm']))  \n",
    "  \n",
    "再来些小应用。  \n",
    "  \n",
    ">>> x & y # 交集  \n",
    "set(['a', 'm'])  \n",
    "  \n",
    ">>> x | y # 并集  \n",
    "set(['a', 'p', 's', 'h', 'm'])  \n",
    "  \n",
    ">>> x - y # 差集  \n",
    "set(['p', 's'])  \n",
    "  \n",
    "记得以前个网友提问怎么去除海量列表里重复元素，用hash来解决也行，只不过感觉在性能上不是很高，用set解决还是很不错的，示例如下：  \n",
    "  \n",
    ">>> a = [11,22,33,44,11,22]  \n",
    ">>> b = set(a)  \n",
    ">>> b  \n",
    "set([33, 11, 44, 22])  \n",
    ">>> c = [i for i in b]  \n",
    ">>> c  \n",
    "[33, 11, 44, 22]  \n",
    "  \n",
    "很酷把，几行就可以搞定。  \n",
    "  \n",
    "1.8　集合   \n",
    "   \n",
    "集合用于包含一组无序的对象。要创建集合，可使用set()函数并像下面这样提供一系列的项：  \n",
    "  \n",
    "   \n",
    "  \n",
    "s = set([3,5,9,10])      #创建一个数值集合  \n",
    "  \n",
    "t = set(\"Hello\")         #创建一个唯一字符的集合  \n",
    "  \n",
    "   \n",
    "  \n",
    "与列表和元组不同，集合是无序的，也无法通过数字进行索引。此外，集合中的元素不能重复。例如，如果检查前面代码中t集合的值，结果会是：  \n",
    "  \n",
    "   \n",
    "  \n",
    ">>> t  \n",
    "  \n",
    "set(['H', 'e', 'l', 'o'])  \n",
    "  \n",
    "   \n",
    "  \n",
    "注意只出现了一个'l'。  \n",
    "  \n",
    "集合支持一系列标准操作，包括并集、交集、差集和对称差集，例如：  \n",
    "  \n",
    "   \n",
    "  \n",
    "a = t | s          # t 和 s的并集  \n",
    "  \n",
    "b = t & s          # t 和 s的交集  \n",
    "  \n",
    "c = t – s          # 求差集（项在t中，但不在s中）  \n",
    "  \n",
    "d = t ^ s          # 对称差集（项在t或s中，但不会同时出现在二者中）  \n",
    "  \n",
    "   \n",
    "  \n",
    "基本操作：  \n",
    "  \n",
    "t.add('x')            # 添加一项  \n",
    "  \n",
    "s.update([10,37,42])  # 在s中添加多项  \n",
    "  \n",
    "   \n",
    "  \n",
    "使用remove()可以删除一项：  \n",
    "  \n",
    "t.remove('H')  \n",
    "  \n",
    "   \n",
    "  \n",
    "len(s)  \n",
    "set 的长度  \n",
    "  \n",
    "x in s  \n",
    "测试 x 是否是 s 的成员  \n",
    "  \n",
    "x not in s  \n",
    "测试 x 是否不是 s 的成员  \n",
    "  \n",
    "s.issubset(t)  \n",
    "s <= t  \n",
    "测试是否 s 中的每一个元素都在 t 中  \n",
    "  \n",
    "s.issuperset(t)  \n",
    "s >= t  \n",
    "测试是否 t 中的每一个元素都在 s 中  \n",
    "  \n",
    "s.union(t)  \n",
    "s | t  \n",
    "返回一个新的 set 包含 s 和 t 中的每一个元素  \n",
    "  \n",
    "s.intersection(t)  \n",
    "s & t  \n",
    "返回一个新的 set 包含 s 和 t 中的公共元素  \n",
    "  \n",
    "s.difference(t)  \n",
    "s - t  \n",
    "返回一个新的 set 包含 s 中有但是 t 中没有的元素  \n",
    "  \n",
    "s.symmetric_difference(t)  \n",
    "s ^ t  \n",
    "返回一个新的 set 包含 s 和 t 中不重复的元素  \n",
    "  \n",
    "s.copy()  \n",
    "返回 set “s”的一个浅复制  \n",
    "  \n",
    "  \n",
    "请注意：union(), intersection(), difference() 和 symmetric_difference() 的非运算符（non-operator，就是形如 s.union()这样的）版本将会接受任何 iterable 作为参数。相反，它们的运算符版本（operator based counterparts）要求参数必须是 sets。这样可以避免潜在的错误，如：为了更可读而使用 set('abc') & 'cbs' 来替代 set('abc').intersection('cbs')。从 2.3.1 版本中做的更改：以前所有参数都必须是 sets。  \n",
    "  \n",
    "另外，Set 和 ImmutableSet 两者都支持 set 与 set 之间的比较。两个 sets 在也只有在这种情况下是相等的：每一个 set 中的元素都是另一个中的元素（二者互为subset）。一个 set 比另一个 set 小，只有在第一个 set 是第二个 set 的 subset 时（是一个 subset，但是并不相等）。一个 set 比另一个 set 打，只有在第一个 set 是第二个 set 的 superset 时（是一个 superset，但是并不相等）。  \n",
    "  \n",
    "子 set 和相等比较并不产生完整的排序功能。例如：任意两个 sets 都不相等也不互为子 set，因此以下的运算都会返回 False：a<b, a==b, 或者a>b。因此，sets 不提供 __cmp__ 方法。  \n",
    "  \n",
    "因为 sets 只定义了部分排序功能（subset 关系），list.sort() 方法的输出对于 sets 的列表没有定义。  \n",
    "  \n",
    "  \n",
    "运算符  \n",
    "   运算结果  \n",
    "  \n",
    "hash(s)  \n",
    "   返回 s 的 hash 值  \n",
    "  \n",
    "  \n",
    "下面这个表列出了对于 Set 可用二对于 ImmutableSet 不可用的运算：  \n",
    "  \n",
    "运算符（voperator）  \n",
    "等价于  \n",
    "运算结果  \n",
    "  \n",
    "s.update(t)  \n",
    "s |= t  \n",
    "返回增加了 set “t”中元素后的 set “s”  \n",
    "  \n",
    "s.intersection_update(t)  \n",
    "s &= t  \n",
    "返回只保留含有 set “t”中元素的 set “s”  \n",
    "  \n",
    "s.difference_update(t)  \n",
    "s -= t  \n",
    "返回删除了 set “t”中含有的元素后的 set “s”  \n",
    "  \n",
    "s.symmetric_difference_update(t)  \n",
    "s ^= t  \n",
    "返回含有 set “t”或者 set “s”中有而不是两者都有的元素的 set “s”  \n",
    "  \n",
    "s.add(x)  \n",
    "  \n",
    "向 set “s”中增加元素 x  \n",
    "  \n",
    "s.remove(x)  \n",
    "  \n",
    "从 set “s”中删除元素 x, 如果不存在则引发 KeyError  \n",
    "  \n",
    "s.discard(x)  \n",
    "  \n",
    "如果在 set “s”中存在元素 x, 则删除  \n",
    "  \n",
    "s.pop()  \n",
    "  \n",
    "删除并且返回 set “s”中的一个不确定的元素, 如果为空则引发 KeyError  \n",
    "  \n",
    "s.clear()  \n",
    "  \n",
    "删除 set “s”中的所有元素  \n",
    "  \n",
    "  \n",
    "请注意：非运算符版本的 update(), intersection_update(), difference_update()和symmetric_difference_update()将会接受任意 iterable 作为参数。从 2.3.1 版本做的更改：以前所有参数都必须是 sets。  \n",
    "  \n",
    "还请注意：这个模块还包含一个 union_update() 方法，它是 update() 方法的一个别名。包含这个方法是为了向后兼容。程序员们应该多使用 update() 方法，因为这个方法也被内置的 set() 和 frozenset() 类型支持。"
   ]
  },
  {
   "cell_type": "code",
   "execution_count": 1,
   "metadata": {
    "collapsed": true
   },
   "outputs": [],
   "source": [
    "a={1,2,3,4,5,6}"
   ]
  },
  {
   "cell_type": "code",
   "execution_count": 7,
   "metadata": {
    "collapsed": true
   },
   "outputs": [],
   "source": [
    "b={1,2,3,4,5,6,7}"
   ]
  },
  {
   "cell_type": "code",
   "execution_count": 8,
   "metadata": {
    "collapsed": false
   },
   "outputs": [
    {
     "data": {
      "text/plain": [
       "{1, 2, 3, 4, 5, 6, 7}"
      ]
     },
     "execution_count": 8,
     "metadata": {},
     "output_type": "execute_result"
    }
   ],
   "source": [
    "a|b"
   ]
  },
  {
   "cell_type": "code",
   "execution_count": 9,
   "metadata": {
    "collapsed": false
   },
   "outputs": [
    {
     "data": {
      "text/plain": [
       "{1, 2, 3, 4, 5, 6}"
      ]
     },
     "execution_count": 9,
     "metadata": {},
     "output_type": "execute_result"
    }
   ],
   "source": [
    "a\n"
   ]
  },
  {
   "cell_type": "code",
   "execution_count": 10,
   "metadata": {
    "collapsed": false
   },
   "outputs": [
    {
     "data": {
      "text/plain": [
       "{1, 2, 3, 4, 5, 6, 7}"
      ]
     },
     "execution_count": 10,
     "metadata": {},
     "output_type": "execute_result"
    }
   ],
   "source": [
    "a.union(b)"
   ]
  },
  {
   "cell_type": "code",
   "execution_count": 11,
   "metadata": {
    "collapsed": false
   },
   "outputs": [
    {
     "data": {
      "text/plain": [
       "{1, 2, 3, 4, 5, 6}"
      ]
     },
     "execution_count": 11,
     "metadata": {},
     "output_type": "execute_result"
    }
   ],
   "source": [
    "a"
   ]
  },
  {
   "cell_type": "code",
   "execution_count": 12,
   "metadata": {
    "collapsed": true
   },
   "outputs": [],
   "source": [
    "a.update(b)"
   ]
  },
  {
   "cell_type": "code",
   "execution_count": 13,
   "metadata": {
    "collapsed": false
   },
   "outputs": [
    {
     "data": {
      "text/plain": [
       "{1, 2, 3, 4, 5, 6, 7}"
      ]
     },
     "execution_count": 13,
     "metadata": {},
     "output_type": "execute_result"
    }
   ],
   "source": [
    "a"
   ]
  },
  {
   "cell_type": "code",
   "execution_count": 22,
   "metadata": {
    "collapsed": false
   },
   "outputs": [
    {
     "data": {
      "text/plain": [
       "True"
      ]
     },
     "execution_count": 22,
     "metadata": {},
     "output_type": "execute_result"
    }
   ],
   "source": [
    "a.issubset({1,2,3,4,5,6,7,8,})"
   ]
  },
  {
   "cell_type": "code",
   "execution_count": 20,
   "metadata": {
    "collapsed": false
   },
   "outputs": [
    {
     "data": {
      "text/plain": [
       "True"
      ]
     },
     "execution_count": 20,
     "metadata": {},
     "output_type": "execute_result"
    }
   ],
   "source": [
    "a.issuperset({2})"
   ]
  },
  {
   "cell_type": "code",
   "execution_count": 21,
   "metadata": {
    "collapsed": false
   },
   "outputs": [
    {
     "data": {
      "text/plain": [
       "False"
      ]
     },
     "execution_count": 21,
     "metadata": {},
     "output_type": "execute_result"
    }
   ],
   "source": [
    "a.issuperset('2')"
   ]
  },
  {
   "cell_type": "code",
   "execution_count": 16,
   "metadata": {
    "collapsed": false
   },
   "outputs": [
    {
     "data": {
      "text/plain": [
       "{1, 2, 3, 4, 5, 6, 7, '2'}"
      ]
     },
     "execution_count": 16,
     "metadata": {},
     "output_type": "execute_result"
    }
   ],
   "source": [
    "a.symmetric_difference('222')"
   ]
  },
  {
   "cell_type": "code",
   "execution_count": null,
   "metadata": {
    "collapsed": true
   },
   "outputs": [],
   "source": []
  }
 ],
 "metadata": {
  "kernelspec": {
   "display_name": "Python 2",
   "language": "python",
   "name": "python2"
  },
  "language_info": {
   "codemirror_mode": {
    "name": "ipython",
    "version": 2
   },
   "file_extension": ".py",
   "mimetype": "text/x-python",
   "name": "python",
   "nbconvert_exporter": "python",
   "pygments_lexer": "ipython2",
   "version": "2.7.12"
  }
 },
 "nbformat": 4,
 "nbformat_minor": 1
}
