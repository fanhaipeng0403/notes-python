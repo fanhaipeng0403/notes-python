{
 "cells": [
  {
   "cell_type": "markdown",
   "metadata": {},
   "source": [
    "# Super"
   ]
  },
  {
   "cell_type": "code",
   "execution_count": null,
   "metadata": {
    "collapsed": true
   },
   "outputs": [],
   "source": [
    "super()\n",
    "用于显性的指定父类的方法。同时实现方法的绑定。\n",
    "\n",
    "class C(B):\n",
    "    def method(self, arg):\n",
    "        super(C, self).method(arg)  #C的父类实例的method()"
   ]
  },
  {
   "cell_type": "markdown",
   "metadata": {},
   "source": [
    "# staticmethod"
   ]
  },
  {
   "cell_type": "code",
   "execution_count": null,
   "metadata": {
    "collapsed": true
   },
   "outputs": [],
   "source": [
    "staticmethod(function)\n",
    "返回一个静态方法。\n",
    "\n",
    "class C(object):\n",
    "    @staticmethod\n",
    "    def f(arg1, arg2):\n",
    "        pass\n",
    "注意:静态方法基可以在类上调用C.f()，也可以在实例上调用C().f()。"
   ]
  },
  {
   "cell_type": "markdown",
   "metadata": {},
   "source": [
    "# classmethod"
   ]
  },
  {
   "cell_type": "code",
   "execution_count": null,
   "metadata": {
    "collapsed": true
   },
   "outputs": [],
   "source": [
    "classmethod(functions)\n",
    "将传入的方法包装成类方法（类方法是指，类不需要实力化就可以直接调用的方法）。\n",
    "类方法的第一个参数必须为类（约定俗称用cls代表），实例方法的第一个参数必须为实例（约定俗称为self），这两种接收参数的方法叫做：隐式第一参数（implicit first argument）。静态方法（通过@staticmethod装饰的方法)不需要如上述两个方法的隐式参数。\n",
    "\n",
    "class C(object):\n",
    "    @classmethod\n",
    "    def f(cls, arg1, arg2):\n",
    "        pass\n",
    "注意：通过@classmethod修饰的方法，为类方法。类可以直接调用（如C.f())；实例也可以直接调用（如C().f())，切记类方法中不能操作实例的属性。如果子类调用类方法，子类对象被传递为隐式的第一个参数（也就是cls为子类对象）。\n",
    "\n",
    "\n"
   ]
  },
  {
   "cell_type": "code",
   "execution_count": null,
   "metadata": {
    "collapsed": true
   },
   "outputs": [],
   "source": [
    "Python类里会出现这三个单词，self和cls都可以用别的单词代替，类的方法有三种，\n",
    "\n",
    "一是通过def定义的 普通的一般的，需要至少传递一个参数，一般用self，这样的方法必须通过一个类的实例去访问，类似于c++中通过对象去访问；\n",
    "\n",
    "二是在def前面加上@classmethod，这种类方法的一个特点就是可以通过类名去调用，但是也必须传递一个参数，一般用cls表示class，表示可以通过类直接调用；\n",
    "\n",
    "三是在def前面加上@staticmethod，这种类方法是静态的类方法，类似于c++的静态函数，他的一个特点是参数可以为空，同样支持类名和对象两种调用方式；\n",
    "\n",
    "代码：\n",
    "\n",
    "[python] view plain copy\n",
    "class A:  \n",
    "    member = \"this is a test.\"  \n",
    "    def __init__(self):  \n",
    "        pass  \n",
    " \n",
    "    @classmethod  \n",
    "    def Print1(cls):  \n",
    "        print \"print 1: \", cls.member  \n",
    "          \n",
    "    def Print2(self):  \n",
    "        print \"print 2: \", self.member  \n",
    "            \n",
    "         \n",
    "    @classmethod      \n",
    "    def Print3(paraTest):  \n",
    "        print \"print 3: \", paraTest.member  \n",
    "    @staticmethod  \n",
    "    def print4():  \n",
    "        print \"hello\"  \n",
    "      \n",
    "  \n",
    "a = A()  \n",
    "A.Print1()    \n",
    "a.Print1()  \n",
    "#A.Print2()  \n",
    "a.Print2()  \n",
    "A.Print3()  \n",
    "a.Print3()   \n",
    "A.print4()  \n"
   ]
  },
  {
   "cell_type": "code",
   "execution_count": null,
   "metadata": {
    "collapsed": true
   },
   "outputs": [],
   "source": [
    "一般来说，要使用某个类的方法，需要先实例化一个对象再调用方法。\n",
    "而使用@staticmethod或@classmethod，就可以不需要实例化，直接类名.方法名()来调用。\n",
    "这有利于组织代码，把某些应该属于某个类的函数给放到那个类里去，同时有利于命名空间的整洁。\n",
    "\n",
    "既然@staticmethod和@classmethod都可以直接类名.方法名()来调用，那他们有什么区别呢\n",
    "从它们的使用上来看,\n",
    "@staticmethod不需要表示自身对象的self和自身类的cls参数，就跟使用函数一样。\n",
    "@classmethod也不需要self参数，但第一个参数需要是表示自身类的cls参数。\n",
    "如果在@staticmethod中要调用到这个类的一些属性方法，只能直接类名.属性名或类名.方法名。\n",
    "而@classmethod因为持有cls参数，可以来调用类的属性，类的方法，实例化对象等，避免硬编码。\n",
    "下面上代码。\n",
    "[python] view plain copy\n",
    "class A(object):  \n",
    "    bar = 1  \n",
    "    def foo(self):  \n",
    "        print 'foo'  \n",
    " \n",
    "    @staticmethod  \n",
    "    def static_foo():  \n",
    "        print 'static_foo'  \n",
    "        print A.bar  \n",
    " \n",
    "    @classmethod  \n",
    "    def class_foo(cls):  \n",
    "        print 'class_foo'  \n",
    "        print cls.bar  \n",
    "        cls().foo()  \n",
    "  \n",
    "A.static_foo()  \n",
    "A.class_foo()  \n",
    "输出\n",
    "static_foo\n",
    "1\n",
    "class_foo\n",
    "1\n",
    "foo\n"
   ]
  },
  {
   "cell_type": "code",
   "execution_count": null,
   "metadata": {
    "collapsed": true
   },
   "outputs": [],
   "source": [
    "装饰器@staticmethod和@classmethod有什么区别?\n",
    "\n",
    "也许一些例子会有帮助:注意foo, class_foo 和static_foo参数的区别:\n",
    "\n",
    "class A(object):\n",
    "    def foo(self,x):\n",
    "        print \"executing foo(%s,%s)\"%(self,x)\n",
    "\n",
    "    @classmethod\n",
    "    def class_foo(cls,x):\n",
    "        print \"executing class_foo(%s,%s)\"%(cls,x)\n",
    "\n",
    "    @staticmethod\n",
    "    def static_foo(x):\n",
    "        print \"executing static_foo(%s)\"%x\n",
    "\n",
    "a=A()\n",
    "下面是一个对象实体调用方法的常用方式.对象实体a被隐藏的传递给了第一个参数.\n",
    "\n",
    "a.foo(1)\n",
    "# executing foo(<__main__.A object at 0xb7dbef0c>,1)\n",
    "用classmethods装饰,隐藏的传递给第一个参数的是对象实体的类(class A)而不是self.\n",
    "\n",
    "a.class_foo(1)\n",
    "# executing class_foo(<class '__main__.A'>,1)\n",
    "你也可以用类调用class_foo.实际上,如果你把一些方法定义成classmethod,那么实际上你是希望用类来调用这个方法,而不是用这个类的实例来调用这个方法.A.foo(1)将会返回一个TypeError错误,A.class_foo(1)将会正常运行:\n",
    "\n",
    "A.class_foo(1)\n",
    "# executing class_foo(<class '__main__.A'>,1)\n",
    "One use people have found for class methods is to create inheritable alternative constructors.\n",
    "\n",
    "用staticmethods来装饰,不管传递给第一个参数的是self(对象实体)还是cls(类).它们的表现都一样:\n",
    "\n",
    "a.static_foo(1)\n",
    "# executing static_foo(1)\n",
    "\n",
    "A.static_foo('hi')\n",
    "# executing static_foo(hi)\n",
    "静态方法被用来组织类之间有逻辑关系的函数.\n",
    "\n",
    "foo只是个函数,但是当你调用a.foo的时候你得到的不仅仅是一个函数,你得到的是一个第一个参数绑定到a的\"加强版\"函数.foo需要两个参数,而a.foo仅仅需要一个参数.\n",
    "\n",
    "a绑定了foo.下面可以知道什么叫\"绑定\"了:\n",
    "\n",
    "print(a.foo)\n",
    "# <bound method A.foo of <__main__.A object at 0xb7d52f0c>>\n",
    "如果使用a.class_foo,是A绑定到了class_foo而不是a.\n",
    "\n",
    "print(a.class_foo)\n",
    "# <bound method type.class_foo of <class '__main__.A'>>\n",
    "最后剩下静态方法,说到底它就是一个方法.a.static_foo只是返回一个不带参数绑定的方法.static_foo和a.static_foo只需要一个参数.\n",
    "\n",
    "print(a.static_foo)\n",
    "# <function static_foo at 0xb7d479cc>"
   ]
  },
  {
   "cell_type": "code",
   "execution_count": null,
   "metadata": {
    "collapsed": true
   },
   "outputs": [],
   "source": [
    "作者：李保银\n",
    "链接：https://www.zhihu.com/question/20021164/answer/18224953\n",
    "来源：知乎\n",
    "著作权归作者所有，转载请联系作者获得授权。\n",
    "\n",
    "普通方法，静态方法和类方法 \n",
    "\n",
    "这个答案的原文是Difference between @staticmethod and @classmethod in Python\n",
    "这里的内容是我通知原作者并得到允许的情况下的翻译稿\n",
    "这个是我的博客文章的地址pyhton静态方法和类方法\n",
    "类中最常用的方法是实例方法, 即通过通过实例作为第一个参数的方法。\n",
    "举个例子，一个基本的实例方法就向下面这个:\n",
    "\n",
    " \n",
    "class Kls(object):\n",
    "    def __init__(self, data):\n",
    "        self.data = data\n",
    "    def printd(self):\n",
    "        print(self.data)\n",
    "ik1 = Kls('arun')\n",
    "ik2 = Kls('seema')\n",
    "ik1.printd()\n",
    "ik2.printd()\n",
    "\n",
    "这会给出如下的输出:\n",
    "arun\n",
    "seema\n",
    "\n",
    "\n",
    "\n",
    "然后看一下代码和示例图片:\n",
    "1，2参数传递给方法.\n",
    "3 self参数指向当前实例自身.\n",
    "4 我们不需要传递实例自身给方法，Python解释器自己会做这些操作的.\n",
    "如果现在我们想写一些仅仅与类交互而不是和实例交互的方法会怎么样呢? 我们可以在类外面写一个简单的方法来做这些，但是这样做就扩散了类代码的关系到类定义的外面. 如果像下面这样写就会导致以后代码维护的困难:\n",
    "\n",
    " \n",
    "def get_no_of_instances(cls_obj):\n",
    "    return cls_obj.no_inst\n",
    "class Kls(object):\n",
    "    no_inst = 0\n",
    "    def __init__(self):\n",
    "        Kls.no_inst = Kls.no_inst + 1\n",
    "ik1 = Kls()\n",
    "ik2 = Kls()\n",
    "print(get_no_of_instances(Kls))\n",
    "\n",
    "输出:\n",
    "2\n",
    "@classmethod\n",
    "我们要写一个只在类中运行而不在实例中运行的方法. 如果我们想让方法不在实例中运行，可以这么做:\n",
    "\n",
    " \n",
    "def iget_no_of_instance(ins_obj):\n",
    "    return ins_obj.__class__.no_inst\n",
    "class Kls(object):\n",
    "    no_inst = 0\n",
    "    def __init__(self):\n",
    "    Kls.no_inst = Kls.no_inst + 1\n",
    "ik1 = Kls()\n",
    "ik2 = Kls()\n",
    "print iget_no_of_instance(ik1)\n",
    "\n",
    "输出\n",
    "2\n",
    "在Python2.2以后可以使用@classmethod装饰器来创建类方法.\n",
    "\n",
    " \n",
    "class Kls(object):\n",
    "    no_inst = 0\n",
    "    def __init__(self):\n",
    "        Kls.no_inst = Kls.no_inst + 1\n",
    "    @classmethod\n",
    "    def get_no_of_instance(cls_obj):\n",
    "        return cls_obj.no_inst\n",
    "ik1 = Kls()\n",
    "ik2 = Kls()\n",
    "print ik1.get_no_of_instance()\n",
    "print Kls.get_no_of_instance()\n",
    "\n",
    "输出:\n",
    "2\n",
    "2\n",
    "这样的好处是: 不管这个方式是从实例调用还是从类调用，它都用第一个参数把类传递过来.\n",
    "@staticmethod\n",
    "经常有一些跟类有关系的功能但在运行时又不需要实例和类参与的情况下需要用到静态方法. 比如更改环境变量或者修改其他类的属性等能用到静态方法. 这种情况可以直接用函数解决, 但这样同样会扩散类内部的代码，造成维护困难.\n",
    "比如这样:\n",
    "\n",
    " \n",
    "IND = 'ON'\n",
    "def checkind():\n",
    "    return (IND == 'ON')\n",
    "class Kls(object):\n",
    "     def __init__(self,data):\n",
    "        self.data = data\n",
    "def do_reset(self):\n",
    "    if checkind():\n",
    "        print('Reset done for:', self.data)\n",
    "def set_db(self):\n",
    "    if checkind():\n",
    "        self.db = 'new db connection'\n",
    "        print('DB connection made for:',self.data)\n",
    "ik1 = Kls(12)\n",
    "ik1.do_reset()\n",
    "ik1.set_db()\n",
    "\n",
    "输出:\n",
    "Reset done for: 12\n",
    "DB connection made for: 12\n",
    "如果使用@staticmethod就能把相关的代码放到对应的位置了.\n",
    " \n",
    "IND = 'ON'\n",
    "class Kls(object):\n",
    "    def __init__(self, data):\n",
    "        self.data = data\n",
    "    @staticmethod\n",
    "    def checkind():\n",
    "        return (IND == 'ON')\n",
    "    def do_reset(self):\n",
    "        if self.checkind():\n",
    "            print('Reset done for:', self.data)\n",
    "    def set_db(self):\n",
    "        if self.checkind():\n",
    "            self.db = 'New db connection'\n",
    "        print('DB connection made for: ', self.data)\n",
    "ik1 = Kls(12)\n",
    "ik1.do_reset()\n",
    "ik1.set_db()\n",
    "\n",
    "输出:\n",
    "Reset done for: 12\n",
    "DB connection made for: 12\n",
    "下面这个更全面的代码和图示来展示这两种方法的不同\n",
    "@staticmethod 和 @classmethod的不同\n",
    "\n",
    " \n",
    "class Kls(object):\n",
    "    def __init__(self, data):\n",
    "        self.data = data\n",
    "    def printd(self):\n",
    "        print(self.data)\n",
    "    @staticmethod\n",
    "    def smethod(*arg):\n",
    "        print('Static:', arg)\n",
    "    @classmethod\n",
    "    def cmethod(*arg):\n",
    "        print('Class:', arg)\n",
    " \n",
    ">>> ik = Kls(23)\n",
    ">>> ik.printd()\n",
    "23\n",
    ">>> ik.smethod()\n",
    "Static: ()\n",
    ">>> ik.cmethod()\n",
    "Class: (<class '__main__.Kls'>,)\n",
    ">>> Kls.printd()\n",
    "TypeError: unbound method printd() must be called with Kls instance as first argument (got nothing instead)\n",
    ">>> Kls.smethod()\n",
    "Static: ()\n",
    ">>> Kls.cmethod()\n",
    "Class: (<class '__main__.Kls'>,)"
   ]
  },
  {
   "cell_type": "markdown",
   "metadata": {},
   "source": [
    "https://www.zhihu.com/question/20021164"
   ]
  },
  {
   "cell_type": "markdown",
   "metadata": {},
   "source": [
    "# property"
   ]
  },
  {
   "cell_type": "markdown",
   "metadata": {},
   "source": [
    "##  使用property的类必须继承自object，否则不会正常工作的。"
   ]
  },
  {
   "cell_type": "code",
   "execution_count": null,
   "metadata": {
    "collapsed": true
   },
   "outputs": [],
   "source": [
    "property()\n",
    "property其实就是个控制属性的权限的方法。\n",
    "同时实现，经property装饰的方法，可通过Object.xxx调用属性，\n",
    "把实例方法，变成实例的属性。\n",
    "这样做的好处是：可以在方法中实现限制条件，同时限制可执行的操作。\n",
    "\n",
    "class Student(object):\n",
    "    def __init__(self):\n",
    "        self._name = None\n",
    "    @property\n",
    "    def name(self):\n",
    "        return self._name\n",
    "    @name.setter\n",
    "    def name(self, value):\n",
    "    if value != 'xueweihan':\n",
    "        self._name = value\n",
    "    @name.deleter\n",
    "    def name(self):\n",
    "        print 'del name!'\n",
    "        del self._name\n",
    "s = Student()\n",
    "s.name = 'aaa'\n",
    "s.name  #赋值成功'aaa'\n",
    "s.name = 'xueweihan'\n",
    "s.name  #赋值失败'aaa'\n",
    "del s.name  #‘del name!’"
   ]
  },
  {
   "cell_type": "code",
   "execution_count": null,
   "metadata": {
    "collapsed": true
   },
   "outputs": [],
   "source": [
    "在绑定属性时，如果我们直接把属性暴露出去，虽然写起来很简单，但是，没办法检查参数，导致可以把成绩随便改：\n",
    "\n",
    "s = Student()\n",
    "s.score = 9999\n",
    "这显然不合逻辑。为了限制score的范围，可以通过一个set_score()方法来设置成绩，再通过一个get_score()来获取成绩，这样，在set_score()方法里，就可以检查参数：\n",
    "\n",
    "class Student(object):\n",
    "\n",
    "    def get_score(self):\n",
    "        return self._score\n",
    "\n",
    "    def set_score(self, value):\n",
    "        if not isinstance(value, int):\n",
    "            raise ValueError('score must be an integer!')\n",
    "        if value < 0 or value > 100:\n",
    "            raise ValueError('score must between 0 ~ 100!')\n",
    "        self._score = value\n",
    "现在，对任意的Student实例进行操作，就不能随心所欲地设置score了：\n",
    "\n",
    ">>> s = Student()\n",
    ">>> s.set_score(60) # ok!\n",
    ">>> s.get_score()\n",
    "60\n",
    ">>> s.set_score(9999)\n",
    "Traceback (most recent call last):\n",
    "  ...\n",
    "ValueError: score must between 0 ~ 100!\n",
    "但是，上面的调用方法又略显复杂，没有直接用属性这么直接简单。\n",
    "\n",
    "有没有既能检查参数，又可以用类似属性这样简单的方式来访问类的变量呢？对于追求完美的Python程序员来说，这是必须要做到的！\n",
    "\n",
    "还记得装饰器（decorator）可以给函数动态加上功能吗？对于类的方法，装饰器一样起作用。Python内置的@property装饰器就是负责把一个方法变成属性调用的：\n",
    "\n",
    "class Student(object):\n",
    "\n",
    "    @property\n",
    "    def score(self):\n",
    "        return self._score\n",
    "\n",
    "    @score.setter\n",
    "    def score(self, value):\n",
    "        if not isinstance(value, int):\n",
    "            raise ValueError('score must be an integer!')\n",
    "        if value < 0 or value > 100:\n",
    "            raise ValueError('score must between 0 ~ 100!')\n",
    "        self._score = value\n",
    "@property的实现比较复杂，我们先考察如何使用。把一个getter方法变成属性，只需要加上@property就可以了，此时，@property本身又创建了另一个装饰器@score.setter，负责把一个setter方法变成属性赋值，于是，我们就拥有一个可控的属性操作：\n",
    "\n",
    ">>> s = Student()\n",
    ">>> s.score = 60 # OK，实际转化为s.set_score(60)\n",
    ">>> s.score # OK，实际转化为s.get_score()\n",
    "60\n",
    ">>> s.score = 9999\n",
    "Traceback (most recent call last):\n",
    "  ...\n",
    "ValueError: score must between 0 ~ 100!\n",
    "注意到这个神奇的@property，我们在对实例属性操作的时候，就知道该属性很可能不是直接暴露的，而是通过getter和setter方法来实现的。\n",
    "\n",
    "还可以定义只读属性，只定义getter方法，不定义setter方法就是一个只读属性：\n",
    "\n",
    "class Student(object):\n",
    "\n",
    "    @property\n",
    "    def birth(self):\n",
    "        return self._birth\n",
    "\n",
    "    @birth.setter\n",
    "    def birth(self, value):\n",
    "        self._birth = value\n",
    "\n",
    "    @property\n",
    "    def age(self):\n",
    "        return 2014 - self._birth\n",
    "上面的birth是可读写属性，而age就是一个只读属性，因为age可以根据birth和当前时间计算出来"
   ]
  },
  {
   "cell_type": "markdown",
   "metadata": {},
   "source": [
    "# reload"
   ]
  },
  {
   "cell_type": "code",
   "execution_count": null,
   "metadata": {
    "collapsed": true
   },
   "outputs": [],
   "source": [
    "How to use reload(module)  in python3?"
   ]
  },
  {
   "cell_type": "code",
   "execution_count": null,
   "metadata": {
    "collapsed": true
   },
   "outputs": [],
   "source": [
    "In [18]: from imp import reload\n",
    "\n",
    "In [19]: reload?\n",
    "Reload the module and return it.\n",
    "\n",
    "The module must have been successfully imported before."
   ]
  },
  {
   "cell_type": "markdown",
   "metadata": {},
   "source": [
    "# object"
   ]
  },
  {
   "cell_type": "code",
   "execution_count": null,
   "metadata": {
    "collapsed": true
   },
   "outputs": [],
   "source": [
    "object()\n",
    "object是所有新式类的基类\n",
    "\n",
    "class A(object):\n",
    "    pass\n",
    "#继承于object的类为新式类"
   ]
  },
  {
   "cell_type": "code",
   "execution_count": null,
   "metadata": {
    "collapsed": true
   },
   "outputs": [],
   "source": [
    "如: Note xxx() only works for new-style classes. python2,则需要继承object类才可以使用, 否则无效;\n",
    "在python 3.x中, 则隐式(implicit)继承object类, 即新型式的类(new-style class), 则不需要继承object."
   ]
  },
  {
   "cell_type": "code",
   "execution_count": null,
   "metadata": {
    "collapsed": true
   },
   "outputs": [],
   "source": [
    "memoryview()\n",
    "返回memoryview对象，它允许Python代码访问对象的内部数据而不用复制，只要该对象支持缓冲区协议。\n",
    "如有疑问请参考python内建类型memoryview"
   ]
  },
  {
   "cell_type": "code",
   "execution_count": null,
   "metadata": {
    "collapsed": true
   },
   "outputs": [],
   "source": [
    "issubclass(class, classinfo)\n",
    "如果class是classinfo的子类，则返回真。\n",
    "\n",
    "\n",
    "iter(o[,sentinel])\n",
    "返回一个iterator(迭代器)对象。如果没有第二个参数，o必须是个集合独享，要么支持迭代协议参考，要么支持序列协议。例如：\n",
    "\n",
    "for x in [1, 2, 3]:\n",
    "    pass\n",
    "\n",
    "#等同于\n",
    "it = iter([1, 2, 3])\n",
    "\n",
    "while True:\n",
    "    try:\n",
    "        x = next(it)\n",
    "    except StopIteration:\n",
    "        break\n",
    "如果有第二个参数sentinel，o必须是个可调用对象。使用场景：\n",
    "\n",
    "# 读取一个文件的行，直到读到特定行\n",
    "with open('test.txt') as fp:\n",
    "    for line in iter(fp.readline, ''):\n",
    "        process_line(line)"
   ]
  },
  {
   "cell_type": "markdown",
   "metadata": {},
   "source": [
    "# hasattr"
   ]
  },
  {
   "cell_type": "code",
   "execution_count": null,
   "metadata": {
    "collapsed": true
   },
   "outputs": [],
   "source": [
    "hasattr(object, name)\n",
    "参数是一个对象和一个字符串。如果对象含有该属性则返回True；否则返回False。"
   ]
  },
  {
   "cell_type": "code",
   "execution_count": null,
   "metadata": {
    "collapsed": true
   },
   "outputs": [],
   "source": [
    "本函数是用来判断对象object的属性（name表示）是否存在。如果属性（name表示）存在，则返回True，否则返回False。参数object是一个对象，参数name是一个属性的字符串表示。\n",
    "\n",
    "例子：\n",
    "\n",
    "[python] view plain copy\n",
    "#hasattr()  \n",
    "  \n",
    "class Foo:  \n",
    "    def __init__(self):  \n",
    "        self.x = 123  \n",
    "    def test(x):  \n",
    "        self.x = x  \n",
    "  \n",
    "foo = Foo()  \n",
    "print(hasattr(foo, 'x'))  \n",
    "print(hasattr(foo, 'y'))  \n",
    "print(hasattr(foo, 'test'))  \n",
    "\n",
    "输出结果如下：\n",
    "\n",
    "True\n",
    "\n",
    "False\n",
    "\n",
    "True"
   ]
  },
  {
   "cell_type": "code",
   "execution_count": 1,
   "metadata": {
    "collapsed": false
   },
   "outputs": [
    {
     "name": "stdout",
     "output_type": "stream",
     "text": [
      "True\n",
      "False\n",
      "True\n"
     ]
    }
   ],
   "source": [
    "\n",
    "\n",
    "  \n",
    "class Foo:  \n",
    "    def __init__(self):  \n",
    "        self.x = 123  \n",
    "    def test(x):  \n",
    "        self.x = x  \n",
    "  \n",
    "foo = Foo()  \n",
    "print(hasattr(foo, 'x'))  \n",
    "print(hasattr(foo, 'y'))  \n",
    "print(hasattr(foo, 'test'))  \n",
    "\n",
    "\n",
    "\n"
   ]
  },
  {
   "cell_type": "markdown",
   "metadata": {},
   "source": [
    "# bytearray"
   ]
  },
  {
   "cell_type": "code",
   "execution_count": null,
   "metadata": {
    "collapsed": true
   },
   "outputs": [],
   "source": [
    "bytearray()\n",
    "结合memoryview，实现改变str类型对象的值。请移步python内建类型\n",
    "\n",
    "\n",
    "callable(object)\n",
    "如果object参数可调用，返回True；否则返回False。对类的调用，返回一个新的实例。对于实例，如果实例有call方法，则该实例也是可以调用的。例如：\n",
    "\n",
    "class TestCallable(object):\n",
    "    def __init__(self):\n",
    "        pass\n",
    "\n",
    "    def __call__(self):\n",
    "        pass\n",
    "\n",
    "callable(TestCallable) # True\n",
    "callable(TestCallable()) # True"
   ]
  }
 ],
 "metadata": {
  "kernelspec": {
   "display_name": "Python 2",
   "language": "python",
   "name": "python2"
  },
  "language_info": {
   "codemirror_mode": {
    "name": "ipython",
    "version": 2
   },
   "file_extension": ".py",
   "mimetype": "text/x-python",
   "name": "python",
   "nbconvert_exporter": "python",
   "pygments_lexer": "ipython2",
   "version": "2.7.12"
  }
 },
 "nbformat": 4,
 "nbformat_minor": 1
}
