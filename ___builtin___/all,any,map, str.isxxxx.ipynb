{
 "cells": [
  {
   "cell_type": "raw",
   "metadata": {},
   "source": [
    "# python中str函数isdigit、isdecimal、isnumeric的区别\n",
    "\n",
    "num = \"1\"  #unicode\n",
    "num.isdigit()   # True\n",
    "num.isdecimal() # True\n",
    "num.isnumeric() # True\n",
    "\n",
    "num = \"1\" # 全角\n",
    "num.isdigit()   # True\n",
    "num.isdecimal() # True\n",
    "num.isnumeric() # True\n",
    "\n",
    "num = b\"1\" # byte\n",
    "num.isdigit()   # True\n",
    "num.isdecimal() # AttributeError 'bytes' object has no attribute 'isdecimal'\n",
    "num.isnumeric() # AttributeError 'bytes' object has no attribute 'isnumeric'\n",
    "\n",
    "num = \"IV\" # 罗马数字\n",
    "num.isdigit()   # True\n",
    "num.isdecimal() # False\n",
    "num.isnumeric() # True\n",
    "\n",
    "num = \"四\" # 汉字\n",
    "num.isdigit()   # False\n",
    "num.isdecimal() # False\n",
    "num.isnumeric() # True\n",
    "\n",
    "===================\n",
    "isdigit()\n",
    "True: Unicode数字，byte数字（单字节），全角数字（双字节），罗马数字\n",
    "False: 汉字数字\n",
    "Error: 无\n",
    "\n",
    "isdecimal()\n",
    "True: Unicode数字，，全角数字（双字节）\n",
    "False: 罗马数字，汉字数字\n",
    "Error: byte数字（单字节）\n",
    "\n",
    "isnumeric()\n",
    "True: Unicode数字，全角数字（双字节），罗马数字，汉字数字\n",
    "False: 无\n",
    "Error: byte数字（单字节）\n",
    "\n",
    "================\n",
    "import unicodedata\n",
    "\n",
    "unicodedata.digit(\"2\")   # 2\n",
    "unicodedata.decimal(\"2\") # 2\n",
    "unicodedata.numeric(\"2\") # 2.0\n",
    "\n",
    "unicodedata.digit(\"2\")   # 2\n",
    "unicodedata.decimal(\"2\") # 2\n",
    "unicodedata.numeric(\"2\") # 2.0\n",
    "\n",
    "unicodedata.digit(b\"3\")   # TypeError: must be str, not bytes\n",
    "unicodedata.decimal(b\"3\") # TypeError: must be str, not bytes\n",
    "unicodedata.numeric(b\"3\") # TypeError: must be str, not bytes\n",
    "\n",
    "unicodedata.digit(\"Ⅷ\")   # ValueError: not a digit\n",
    "unicodedata.decimal(\"Ⅷ\") # ValueError: not a decimal\n",
    "unicodedata.numeric(\"Ⅷ\") # 8.0\n",
    "\n",
    "unicodedata.digit(\"四\")   # ValueError: not a digit\n",
    "unicodedata.decimal(\"四\") # ValueError: not a decimal\n",
    "unicodedata.numeric(\"四\") # 4.0\n",
    "\n",
    "#\"〇\",\"零\",\"一\",\"壱\",\"二\",\"弐\",\"三\",\"参\",\"四\",\"五\",\"六\",\"七\",\"八\",\"九\",\"十\",\"廿\",\"卅\",\"卌\",\"百\",\"千\",\"万\",\"万\",\"亿\""
   ]
  },
  {
   "cell_type": "raw",
   "metadata": {},
   "source": [
    "string.isalnum()\n",
    "如果 string 至少有一个字符并且所有字符都是字母或数字则返\n",
    "回 True,否则返回 False\n",
    "string.isalpha()\n",
    "如果 string 至少有一个字符并且所有字符都是字母则返回 True,\n",
    "否则返回 False"
   ]
  },
  {
   "cell_type": "markdown",
   "metadata": {},
   "source": [
    "<p>本文实例讲述了python中map、any、all函数用法。分享给大家供大家参考。具体分析如下：</p>\n",
    "<p>最近想学python，就一直比较关注python，昨天在python吧看到有个帖子提问怎么在python中怎么判断密码是否符合规范，回帖中有很多用循环的，除此外还有一个没有用循环，代码非常简练，下面是代码：</p>\n",
    "<div class=\"jb51code\">\n",
    "<div><div id=\"highlighter_77968\" class=\"syntaxhighlighter  py\"><div class=\"toolbar\"><span><a href=\"#\" class=\"toolbar_item command_help help\">?</a></span></div><table cellspacing=\"0\" cellpadding=\"0\" border=\"0\"><tbody><tr><td class=\"gutter\"><div class=\"line number1 index0 alt2\">1</div><div class=\"line number2 index1 alt1\">2</div><div class=\"line number3 index2 alt2\">3</div><div class=\"line number4 index3 alt1\">4</div><div class=\"line number5 index4 alt2\">5</div><div class=\"line number6 index5 alt1\">6</div></td><td class=\"code\"><div class=\"container\"><div class=\"line number1 index0 alt2\"><code class=\"py keyword\">def</code> <code class=\"py plain\">volid(pwd):</code></div><div class=\"line number2 index1 alt1\"><code class=\"py spaces\">&nbsp;&nbsp;</code><code class=\"py plain\">a </code><code class=\"py keyword\">=</code> <code class=\"py functions\">any</code><code class=\"py plain\">(</code><code class=\"py functions\">map</code><code class=\"py plain\">(</code><code class=\"py functions\">str</code><code class=\"py plain\">.isupper,pwd))</code></div><div class=\"line number3 index2 alt2\"><code class=\"py spaces\">&nbsp;&nbsp;</code><code class=\"py plain\">b </code><code class=\"py keyword\">=</code> <code class=\"py functions\">any</code><code class=\"py plain\">(</code><code class=\"py functions\">map</code><code class=\"py plain\">(</code><code class=\"py functions\">str</code><code class=\"py plain\">.islower,pwd))</code></div><div class=\"line number4 index3 alt1\"><code class=\"py spaces\">&nbsp;&nbsp;</code><code class=\"py plain\">c </code><code class=\"py keyword\">=</code> <code class=\"py functions\">any</code><code class=\"py plain\">(</code><code class=\"py functions\">map</code><code class=\"py plain\">(</code><code class=\"py functions\">str</code><code class=\"py plain\">.isdigit,pwd))</code></div><div class=\"line number5 index4 alt2\"><code class=\"py spaces\">&nbsp;&nbsp;</code><code class=\"py plain\">d </code><code class=\"py keyword\">=</code> <code class=\"py keyword\">not</code> <code class=\"py functions\">all</code><code class=\"py plain\">(</code><code class=\"py functions\">map</code><code class=\"py plain\">(</code><code class=\"py functions\">str</code><code class=\"py plain\">.isalnum,pwd))</code></div><div class=\"line number6 index5 alt1\"><code class=\"py spaces\">&nbsp;&nbsp;</code><code class=\"py keyword\">return</code> <code class=\"py functions\">all</code><code class=\"py plain\">([a,b,c,d])</code></div></div></td></tr></tbody></table></div></div>\n",
    "</div>\n",
    "<p>这里的isupper islower&nbsp; isdigit&nbsp; isalnum 函数都很好理解，就是判断是不是大写，是不是小写，是不是数字，是不是全是数字和字母（反过来就是判断有没有其他符号），而这里的map函数就是把后面那个集合的每个元素用第一个参数的函数执行一遍，返回一个bool类型的集合，最外层的any和all函数就比较容易理解了，可以用“或”和“与”来理解，如果参数集合有一个为真，any函数就返回true，相当于把所有元素“或”一下，只有当参数集合全部为真，all函数才返回true,其他情况都是返回false ,所以如果volid函数传入一个包含大写小写字母数字和特殊符号的字符串后，abcd就被赋值为true，最后return true，所以这个函数就可以判断密码够复杂。</p>"
   ]
  },
  {
   "cell_type": "markdown",
   "metadata": {},
   "source": [
    "http://www.jb51.net/article/64516.htm"
   ]
  }
 ],
 "metadata": {
  "kernelspec": {
   "display_name": "Python 2",
   "language": "python",
   "name": "python2"
  },
  "language_info": {
   "codemirror_mode": {
    "name": "ipython",
    "version": 2
   },
   "file_extension": ".py",
   "mimetype": "text/x-python",
   "name": "python",
   "nbconvert_exporter": "python",
   "pygments_lexer": "ipython2",
   "version": "2.7.12"
  }
 },
 "nbformat": 4,
 "nbformat_minor": 1
}
