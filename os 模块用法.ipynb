{
 "metadata": {
  "name": "",
  "signature": "sha256:442ef2b57dfb8aaa1bfe0a99213d09991ab6e5c3572b8182e888345bd558cd8a"
 },
 "nbformat": 3,
 "nbformat_minor": 0,
 "worksheets": [
  {
   "cells": [
    {
     "cell_type": "code",
     "collapsed": false,
     "input": [
      "import os"
     ],
     "language": "python",
     "metadata": {},
     "outputs": [],
     "prompt_number": 1
    },
    {
     "cell_type": "code",
     "collapsed": false,
     "input": [
      "os.getcwd()"
     ],
     "language": "python",
     "metadata": {},
     "outputs": [
      {
       "metadata": {},
       "output_type": "pyout",
       "prompt_number": 2,
       "text": [
        "'/home/fanhaipeng/notes-python'"
       ]
      }
     ],
     "prompt_number": 2
    },
    {
     "cell_type": "code",
     "collapsed": false,
     "input": [
      "pwd"
     ],
     "language": "python",
     "metadata": {},
     "outputs": [
      {
       "metadata": {},
       "output_type": "pyout",
       "prompt_number": 4,
       "text": [
        "u'/home/fanhaipeng/notes-python'"
       ]
      }
     ],
     "prompt_number": 4
    },
    {
     "cell_type": "code",
     "collapsed": false,
     "input": [
      "os.listdir('.')"
     ],
     "language": "python",
     "metadata": {},
     "outputs": [
      {
       "metadata": {},
       "output_type": "pyout",
       "prompt_number": 3,
       "text": [
        "['Recursion_and_loop.pyc',\n",
        " 'generate index.ipynb',\n",
        " '.ipynb_checkpoints',\n",
        " '\\xe5\\x85\\xb3\\xe4\\xba\\x8e_ _slot_ _\\xe7\\x9a\\x84\\xe4\\xbd\\xbf\\xe7\\x94\\xa8.ipynb',\n",
        " 'duichenshu.py',\n",
        " '06. matplotlib',\n",
        " 'README.md',\n",
        " 'sorted.pyc',\n",
        " 'index.md',\n",
        " 'index.ipynb',\n",
        " '04. scipy',\n",
        " 'sorted.py',\n",
        " 'generate_static_files.py',\n",
        " '10. something interesting',\n",
        " '07. interfacing with other languages',\n",
        " 'untitled.txt',\n",
        " '09. theano',\n",
        " 'generate static files.ipynb',\n",
        " '01. python tools',\n",
        " 'Decorator.ipynb',\n",
        " '\\xe5\\x8f\\x98\\xe9\\x87\\x8f\\xe8\\xae\\xbf\\xe9\\x97\\xae\\xe9\\x99\\x90\\xe5\\x88\\xb6.ipynb',\n",
        " 'Reprlib.ipynb',\n",
        " '08. object-oriented programming',\n",
        " '.gitattibutes',\n",
        " '05. advanced python',\n",
        " '12. pandas',\n",
        " 'random',\n",
        " '.git',\n",
        " 'Untitled1.ipynb',\n",
        " 'Untitled2.ipynb',\n",
        " '\\xe6\\x9e\\x9a\\xe4\\xb8\\xbe\\xe7\\xb1\\xbb.ipynb',\n",
        " '11. useful tools',\n",
        " 'Os .ipynb',\n",
        " '.gitignore',\n",
        " 'Python\\xe4\\xb8\\xadatexit\\xe6\\xa8\\xa1\\xe5\\x9d\\x97\\xe7\\x9a\\x84\\xe5\\x9f\\xba\\xe6\\x9c\\xac\\xe4\\xbd\\xbf\\xe7\\x94\\xa8\\xe7\\xa4\\xba\\xe4\\xbe\\x8b.ipynb',\n",
        " 'copy.ipynb',\n",
        " 'Recursion_and_loop.py',\n",
        " '02. python essentials',\n",
        " 'Untitled0.ipynb',\n",
        " '03. numpy',\n",
        " '\\xe9\\x80\\x92\\xe5\\xbd\\x92\\xe7\\xae\\x97\\xe6\\xb3\\x95.docx']"
       ]
      }
     ],
     "prompt_number": 3
    },
    {
     "cell_type": "code",
     "collapsed": false,
     "input": [
      "ls"
     ],
     "language": "python",
     "metadata": {},
     "outputs": [
      {
       "output_type": "stream",
       "stream": "stdout",
       "text": [
        "\u001b[0m\u001b[01;34m01. python tools\u001b[0m/                      index.md\r\n",
        "\u001b[01;34m02. python essentials\u001b[0m/                 Os .ipynb\r\n",
        "\u001b[01;34m03. numpy\u001b[0m/                             Python\u4e2datexit\u6a21\u5757\u7684\u57fa\u672c\u4f7f\u7528\u793a\u4f8b.ipynb\r\n",
        "\u001b[01;34m04. scipy\u001b[0m/                             \u001b[01;34mrandom\u001b[0m/\r\n",
        "\u001b[01;34m05. advanced python\u001b[0m/                   README.md\r\n",
        "\u001b[01;34m06. matplotlib\u001b[0m/                        Recursion_and_loop.py\r\n",
        "\u001b[01;34m07. interfacing with other languages\u001b[0m/  Recursion_and_loop.pyc\r\n",
        "\u001b[01;34m08. object-oriented programming\u001b[0m/       Reprlib.ipynb\r\n",
        "\u001b[01;34m09. theano\u001b[0m/                            sorted.py\r\n",
        "\u001b[01;34m10. something interesting\u001b[0m/             sorted.pyc\r\n",
        "\u001b[01;34m11. useful tools\u001b[0m/                      Untitled0.ipynb\r\n",
        "\u001b[01;34m12. pandas\u001b[0m/                            Untitled1.ipynb\r\n",
        "copy.ipynb                             Untitled2.ipynb\r\n",
        "Decorator.ipynb                        untitled.txt\r\n",
        "\u001b[01;32mduichenshu.py\u001b[0m*                         \u53d8\u91cf\u8bbf\u95ee\u9650\u5236.ipynb\r\n",
        "generate index.ipynb                   \u9012\u5f52\u7b97\u6cd5.docx\r\n",
        "generate static files.ipynb            \u5173\u4e8e_ _slot_ _\u7684\u4f7f\u7528.ipynb\r\n",
        "generate_static_files.py               \u679a\u4e3e\u7c7b.ipynb\r\n",
        "index.ipynb\r\n"
       ]
      }
     ],
     "prompt_number": 5
    },
    {
     "cell_type": "code",
     "collapsed": false,
     "input": [
      "os.chdir('.')"
     ],
     "language": "python",
     "metadata": {},
     "outputs": [],
     "prompt_number": 6
    },
    {
     "cell_type": "markdown",
     "metadata": {},
     "source": [
      "cd .."
     ]
    },
    {
     "cell_type": "code",
     "collapsed": false,
     "input": [
      "os.name"
     ],
     "language": "python",
     "metadata": {},
     "outputs": [
      {
       "metadata": {},
       "output_type": "pyout",
       "prompt_number": 7,
       "text": [
        "'posix'"
       ]
      }
     ],
     "prompt_number": 7
    },
    {
     "cell_type": "code",
     "collapsed": false,
     "input": [
      "os.getenv('HOME')"
     ],
     "language": "python",
     "metadata": {},
     "outputs": [
      {
       "metadata": {},
       "output_type": "pyout",
       "prompt_number": 14,
       "text": [
        "'/home/fanhaipeng'"
       ]
      }
     ],
     "prompt_number": 14
    },
    {
     "cell_type": "code",
     "collapsed": false,
     "input": [
      "os.getenv('PATH')"
     ],
     "language": "python",
     "metadata": {},
     "outputs": [
      {
       "metadata": {},
       "output_type": "pyout",
       "prompt_number": 15,
       "text": [
        "'/usr/local/sbin:/usr/local/bin:/usr/sbin:/usr/bin:/sbin:/bin:/usr/games:/usr/local/games:/snap/bin'"
       ]
      }
     ],
     "prompt_number": 15
    },
    {
     "cell_type": "code",
     "collapsed": false,
     "input": [
      "cd .."
     ],
     "language": "python",
     "metadata": {},
     "outputs": [
      {
       "output_type": "stream",
       "stream": "stdout",
       "text": [
        "/home/fanhaipeng\n"
       ]
      }
     ],
     "prompt_number": 17
    },
    {
     "cell_type": "code",
     "collapsed": false,
     "input": [
      "os.path.isdir('python')"
     ],
     "language": "python",
     "metadata": {},
     "outputs": [
      {
       "metadata": {},
       "output_type": "pyout",
       "prompt_number": 18,
       "text": [
        "True"
       ]
      }
     ],
     "prompt_number": 18
    },
    {
     "cell_type": "code",
     "collapsed": false,
     "input": [
      "os.chdir('notes-python/')"
     ],
     "language": "python",
     "metadata": {},
     "outputs": [],
     "prompt_number": 19
    },
    {
     "cell_type": "code",
     "collapsed": false,
     "input": [
      "os.path.isfile('Python\u4e2datexit\u6a21\u5757\u7684\u57fa\u672c\u4f7f\u7528\u793a\u4f8b.ipynb')"
     ],
     "language": "python",
     "metadata": {},
     "outputs": [
      {
       "metadata": {},
       "output_type": "pyout",
       "prompt_number": 21,
       "text": [
        "True"
       ]
      }
     ],
     "prompt_number": 21
    },
    {
     "cell_type": "code",
     "collapsed": false,
     "input": [
      "os.path.exists('/home/fanhaipeng')"
     ],
     "language": "python",
     "metadata": {},
     "outputs": [
      {
       "metadata": {},
       "output_type": "pyout",
       "prompt_number": 23,
       "text": [
        "True"
       ]
      }
     ],
     "prompt_number": 23
    },
    {
     "cell_type": "code",
     "collapsed": false,
     "input": [
      "os.path.split('home/fanhaipeng/notes-python/Python\u4e2datexit\u6a21\u5757\u7684\u57fa\u672c\u4f7f\u7528\u793a\u4f8b.ipynb')"
     ],
     "language": "python",
     "metadata": {},
     "outputs": [
      {
       "metadata": {},
       "output_type": "pyout",
       "prompt_number": 24,
       "text": [
        "('home/fanhaipeng/notes-python',\n",
        " 'Python\\xe4\\xb8\\xadatexit\\xe6\\xa8\\xa1\\xe5\\x9d\\x97\\xe7\\x9a\\x84\\xe5\\x9f\\xba\\xe6\\x9c\\xac\\xe4\\xbd\\xbf\\xe7\\x94\\xa8\\xe7\\xa4\\xba\\xe4\\xbe\\x8b.ipynb')"
       ]
      }
     ],
     "prompt_number": 24
    },
    {
     "cell_type": "code",
     "collapsed": false,
     "input": [
      "os.access('/home',os.X_OK)"
     ],
     "language": "python",
     "metadata": {},
     "outputs": [
      {
       "metadata": {},
       "output_type": "pyout",
       "prompt_number": 35,
       "text": [
        "True"
       ]
      }
     ],
     "prompt_number": 35
    },
    {
     "cell_type": "code",
     "collapsed": false,
     "input": [
      "os.access('/home',os.R_OK)"
     ],
     "language": "python",
     "metadata": {},
     "outputs": [
      {
       "metadata": {},
       "output_type": "pyout",
       "prompt_number": 36,
       "text": [
        "True"
       ]
      }
     ],
     "prompt_number": 36
    },
    {
     "cell_type": "code",
     "collapsed": false,
     "input": [
      "os.access('/home',os.W_OK)"
     ],
     "language": "python",
     "metadata": {},
     "outputs": [
      {
       "metadata": {},
       "output_type": "pyout",
       "prompt_number": 37,
       "text": [
        "False"
       ]
      }
     ],
     "prompt_number": 37
    },
    {
     "cell_type": "code",
     "collapsed": false,
     "input": [
      "os.access('/home',os.F_OK)"
     ],
     "language": "python",
     "metadata": {},
     "outputs": [
      {
       "metadata": {},
       "output_type": "pyout",
       "prompt_number": 38,
       "text": [
        "True"
       ]
      }
     ],
     "prompt_number": 38
    },
    {
     "cell_type": "code",
     "collapsed": false,
     "input": [
      "os.sep"
     ],
     "language": "python",
     "metadata": {},
     "outputs": [
      {
       "metadata": {},
       "output_type": "pyout",
       "prompt_number": 47,
       "text": [
        "'/'"
       ]
      }
     ],
     "prompt_number": 47
    },
    {
     "cell_type": "code",
     "collapsed": false,
     "input": [
      "os.linesep"
     ],
     "language": "python",
     "metadata": {},
     "outputs": [
      {
       "metadata": {},
       "output_type": "pyout",
       "prompt_number": 48,
       "text": [
        "'\\n'"
       ]
      }
     ],
     "prompt_number": 48
    },
    {
     "cell_type": "markdown",
     "metadata": {},
     "source": [
      "os.sep \u53ef\u4ee5\u53d6\u4ee3\u64cd\u4f5c\u7cfb\u7edf\u7279\u5b9a\u7684\u8def\u5f84\u5206\u5272\u7b26\u3002 linux\u4e0b\u662f&lsquo;/\u2019,windows\u4e0b\u662f'\\'\n",
      "os.linesep\u5b57\u7b26\u4e32\u7ed9\u51fa\u5f53\u524d\u5e73\u53f0\u4f7f\u7528\u7684\u884c\u7ec8\u6b62\u7b26\u3002\u4f8b\u5982\uff0cWindows\u4f7f\u7528'\\r\\n'\uff0cLinux\u4f7f\u7528'\\n'\u800cMac\u4f7f\u7528'\\r'\u3002"
     ]
    },
    {
     "cell_type": "markdown",
     "metadata": {},
     "source": [
      "<h1>Python os.popen() \u65b9\u6cd5</h1>\n",
      "<p> Python OS \u6587\u4ef6/\u76ee\u5f55\u65b9\u6cd5</p>\n",
      "<hr>\n",
      "\n",
      "<h3>\u6982\u8ff0</h3>\n",
      "\n",
      "<p>os.popen() \u65b9\u6cd5\u7528\u4e8e\u4ece\u4e00\u4e2a\u547d\u4ee4\u6253\u5f00\u4e00\u4e2a\u7ba1\u9053\u3002</p>\n",
      "<p>\u5728Unix\uff0cWindows\u4e2d\u6709\u6548</p>\n",
      "\n",
      "<h3>\u8bed\u6cd5</h3>\n",
      "<p><b>popen()</b>\u65b9\u6cd5\u8bed\u6cd5\u683c\u5f0f\u5982\u4e0b\uff1a</p>\n",
      "<pre class=\"prettyprint prettyprinted\" style=\"\"><span class=\"pln\">os</span><span class=\"pun\">.</span><span class=\"pln\">popen</span><span class=\"pun\">(</span><span class=\"pln\">command</span><span class=\"pun\">[,</span><span class=\"pln\"> mode</span><span class=\"pun\">[,</span><span class=\"pln\"> bufsize</span><span class=\"pun\">]])</span></pre>\n",
      "\n",
      "<h3>\u53c2\u6570</h3>\n",
      "<ul>\n",
      "<li><p><b>command</b> -- \u4f7f\u7528\u7684\u547d\u4ee4\u3002</p></li><li>\n",
      "<p><b>mode</b> -- \u6a21\u5f0f\u6743\u9650\u53ef\u4ee5\u662f 'r'(\u9ed8\u8ba4) \u6216 'w'\u3002</p></li><li>\n",
      "<p><b>bufsize</b> -- \u6307\u660e\u4e86\u6587\u4ef6\u9700\u8981\u7684\u7f13\u51b2\u5927\u5c0f\uff1a0\u610f\u5473\u7740\u65e0\u7f13\u51b2\uff1b1\u610f\u5473\u7740\u884c\u7f13\u51b2\uff1b\u5176\u5b83\u6b63\u503c\u8868\u793a\u4f7f\u7528\u53c2\u6570\u5927\u5c0f\u7684\u7f13\u51b2\uff08\u5927\u6982\u503c\uff0c\u4ee5\u5b57\u8282\u4e3a\u5355\u4f4d\uff09\u3002\u8d1f\u7684bufsize\u610f\u5473\u7740\u4f7f\u7528\u7cfb\u7edf\u7684\u9ed8\u8ba4\u503c\uff0c\u4e00\u822c\u6765\u8bf4\uff0c\u5bf9\u4e8etty\u8bbe\u5907\uff0c\u5b83\u662f\u884c\u7f13\u51b2\uff1b\u5bf9\u4e8e\u5176\u5b83\u6587\u4ef6\uff0c\u5b83\u662f\u5168\u7f13\u51b2\u3002\u5982\u679c\u6ca1\u6709\u6539\u53c2\u6570\uff0c\u4f7f\u7528\u7cfb\u7edf\u7684\u9ed8\u8ba4\u503c\u3002</p></li>\n",
      "</ul>\n",
      "\n",
      "\n",
      "<h3>\u8fd4\u56de\u503c</h3>\n",
      "\n",
      "<p>\u8fd4\u56de\u4e00\u4e2a\u6587\u4ef6\u63cf\u8ff0\u7b26\u53f7\u4e3afd\u7684\u6253\u5f00\u7684\u6587\u4ef6\u5bf9\u8c61 </p>\n",
      "\n",
      "<h3>\u5b9e\u4f8b</h3>\n",
      "<p>\u4ee5\u4e0b\u5b9e\u4f8b\u6f14\u793a\u4e86 popen() \u65b9\u6cd5\u7684\u4f7f\u7528\uff1a</p>\n",
      "<pre class=\"prettyprint prettyprinted\" style=\"\"><span class=\"com\">#!/usr/bin/python</span><span class=\"pln\">\n",
      "</span><span class=\"com\"># -*- coding: UTF-8 -*-</span><span class=\"pln\">\n",
      "\n",
      "</span><span class=\"kwd\">import</span><span class=\"pln\"> os</span><span class=\"pun\">,</span><span class=\"pln\"> sys\n",
      "\n",
      "</span><span class=\"com\"># \u4f7f\u7528 mkdir \u547d\u4ee4</span><span class=\"pln\">\n",
      "a </span><span class=\"pun\">=</span><span class=\"pln\"> </span><span class=\"str\">'mkdir nwdir'</span><span class=\"pln\">\n",
      "\n",
      "b </span><span class=\"pun\">=</span><span class=\"pln\"> os</span><span class=\"pun\">.</span><span class=\"pln\">popen</span><span class=\"pun\">(</span><span class=\"pln\">a</span><span class=\"pun\">,</span><span class=\"str\">'r'</span><span class=\"pun\">,</span><span class=\"lit\">1</span><span class=\"pun\">)</span><span class=\"pln\">\n",
      "\n",
      "</span><span class=\"kwd\">print</span><span class=\"pln\"> b</span></pre>\n",
      "<p>\u6267\u884c\u4ee5\u4e0a\u7a0b\u5e8f\u8f93\u51fa\u7ed3\u679c\u4e3a\uff1a</p>\n",
      "<pre class=\"prettyprint prettyprinted\" style=\"\"><span class=\"pln\">open file </span><span class=\"str\">'mkdir nwdir'</span><span class=\"pun\">,</span><span class=\"pln\"> mode </span><span class=\"str\">'r'</span><span class=\"pln\"> at </span><span class=\"lit\">0x81614d0</span></pre>\n",
      "\n"
     ]
    },
    {
     "cell_type": "markdown",
     "metadata": {},
     "source": [
      "\n",
      " <table cellspacing=\"0\" cellpadding=\"0\" border=\"1\" width=\"95%\"> \n",
      "  <tbody> \n",
      "   <tr style=\"font:normal normal normal 12px/normal song, Verdana;\"> \n",
      "    <td><p style=\"font:normal normal normal 12px/normal song, Verdana;line-height:18px;margin-top:5px;margin-right:5px;margin-bottom:5px;margin-left:5px;\"><code><span style=\"color:#000000;\">os<span style=\"color:#0000cc;\">.</span>system<span style=\"color:#0000cc;\">(</span><span style=\"color:#ff00ff;\">'cat /proc/cpuinfo'</span><span style=\"color:#0000cc;\">)</span></span></code></p> </td> \n",
      "   </tr> \n",
      "  </tbody> \n",
      " </table> <br style=\"font:normal normal normal 12px/normal song, Verdana;\"> \u4f46\u662f\u8fd9\u6837\u662f\u65e0\u6cd5\u83b7\u5f97\u5230\u8f93\u51fa\u548c\u8fd4\u56de\u503c\u7684\uff0c\u7ee7\u7eed Google\uff0c\u4e4b\u540e\u5b66\u4f1a\u4e86 os.popen()\u3002<br style=\"font:normal normal normal 12px/normal song, Verdana;\"> <br style=\"font:normal normal normal 12px/normal song, Verdana;\"> \n",
      " <table cellspacing=\"0\" cellpadding=\"0\" border=\"1\" width=\"95%\"> \n",
      "  <tbody> \n",
      "   <tr style=\"font:normal normal normal 12px/normal song, Verdana;\"> \n",
      "    <td><p style=\"font:normal normal normal 12px/normal song, Verdana;line-height:18px;margin-top:5px;margin-right:5px;margin-bottom:5px;margin-left:5px;\"><code><span style=\"color:#000000;\">output&nbsp;<span style=\"color:#0000cc;\">=</span>&nbsp;os<span style=\"color:#0000cc;\">.</span>popen<span style=\"color:#0000cc;\">(</span><span style=\"color:#ff00ff;\">'cat /proc/cpuinfo'</span><span style=\"color:#0000cc;\">)</span><br style=\"font:normal normal normal 12px/normal song, Verdana;\"> <span style=\"color:#0000ff;\">print</span>&nbsp;output<span style=\"color:#0000cc;\">.</span>read<span style=\"color:#0000cc;\">(</span><span style=\"color:#0000cc;\">)</span></span></code></p> </td> \n",
      "   </tr> \n",
      "  </tbody> \n",
      " </table> <br style=\"font:normal normal normal 12px/normal song, Verdana;\"> \u901a\u8fc7 os.popen() \u8fd4\u56de\u7684\u662f file read \u7684\u5bf9\u8c61\uff0c\u5bf9\u5176\u8fdb\u884c\u8bfb\u53d6 read() \u7684\u64cd\u4f5c\u53ef\u4ee5\u770b\u5230\u6267\u884c\u7684\u8f93\u51fa\u3002\u4f46\u662f\u600e\u4e48\u8bfb\u53d6\u7a0b\u5e8f\u6267\u884c\u7684\u8fd4\u56de\u503c\u5462\u3002Google \u7ed9\u6211\u6307\u5411\u4e86&nbsp;<a href=\"http://docs.python.org/library/commands.html\">commands \u2014 Utilities for running commands</a>\u3002<br style=\"font:normal normal normal 12px/normal song, Verdana;\"> \u8fd9\u6837\u901a\u8fc7 commands.getstatusoutput() \u4e00\u4e2a\u65b9\u6cd5\u5c31\u53ef\u4ee5\u83b7\u5f97\u5230\u8fd4\u56de\u503c\u548c\u8f93\u51fa\uff0c\u975e\u5e38\u597d\u7528\u3002<br style=\"font:normal normal normal 12px/normal song, Verdana;\"> <br style=\"font:normal normal normal 12px/normal song, Verdana;\"> \n",
      " <table cellspacing=\"0\" cellpadding=\"0\" border=\"1\" width=\"95%\"> \n",
      "  <tbody> \n",
      "   <tr style=\"font:normal normal normal 12px/normal song, Verdana;\"> \n",
      "    <td><p style=\"font:normal normal normal 12px/normal song, Verdana;line-height:18px;margin-top:5px;margin-right:5px;margin-bottom:5px;margin-left:5px;\"><code><span style=\"color:#000000;\"><span style=\"color:#0000cc;\">(</span>status<span style=\"color:#0000cc;\">,</span>&nbsp;output<span style=\"color:#0000cc;\">)</span>&nbsp;<span style=\"color:#0000cc;\">=</span>&nbsp;commands<span style=\"color:#0000cc;\">.</span>getstatusoutput<span style=\"color:#0000cc;\">(</span><span style=\"color:#ff00ff;\">'cat /proc/cpuinfo'</span><span style=\"color:#0000cc;\">)</span><br style=\"font:normal normal normal 12px/normal song, Verdana;\"> <span style=\"color:#0000ff;\">print</span>&nbsp;status<span style=\"color:#0000cc;\">,</span>&nbsp;output<br style=\"font:normal normal normal 12px/normal song, Verdana;\"> </span></code></p> </td> \n",
      "   </tr> \n",
      "  </tbody> \n",
      " </table> Python Document \u4e2d\u7ed9\u7684\u4e00\u4e2a\u4f8b\u5b50\uff0c\u5f88\u6e05\u695a\u7684\u7ed9\u51fa\u4e86\u5404\u65b9\u6cd5\u7684\u8fd4\u56de\u3002<br style=\"font:normal normal normal 12px/normal song, Verdana;\"> <br style=\"font:normal normal normal 12px/normal song, Verdana;\"> \n",
      " <table cellspacing=\"0\" cellpadding=\"0\" border=\"1\" width=\"95%\"> \n",
      "  <tbody> \n",
      "   <tr style=\"font:normal normal normal 12px/normal song, Verdana;\"> \n",
      "    <td><p style=\"font:normal normal normal 12px/normal song, Verdana;line-height:18px;margin-top:5px;margin-right:5px;margin-bottom:5px;margin-left:5px;\"><code><span style=\"color:#000000;\"><span style=\"color:#0000cc;\">&gt;</span><span style=\"color:#0000cc;\">&gt;</span><span style=\"color:#0000cc;\">&gt;</span>&nbsp;<span style=\"color:#0000ff;\">import</span>&nbsp;commands<br style=\"font:normal normal normal 12px/normal song, Verdana;\"> <span style=\"color:#0000cc;\">&gt;</span><span style=\"color:#0000cc;\">&gt;</span><span style=\"color:#0000cc;\">&gt;</span>&nbsp;commands<span style=\"color:#0000cc;\">.</span>getstatusoutput<span style=\"color:#0000cc;\">(</span><span style=\"color:#ff00ff;\">'ls /bin/ls'</span><span style=\"color:#0000cc;\">)</span><br style=\"font:normal normal normal 12px/normal song, Verdana;\"> <span style=\"color:#0000cc;\">(</span>0<span style=\"color:#0000cc;\">,</span>&nbsp;<span style=\"color:#ff00ff;\">'/bin/ls'</span><span style=\"color:#0000cc;\">)</span><br style=\"font:normal normal normal 12px/normal song, Verdana;\"> <span style=\"color:#0000cc;\">&gt;</span><span style=\"color:#0000cc;\">&gt;</span><span style=\"color:#0000cc;\">&gt;</span>&nbsp;commands<span style=\"color:#0000cc;\">.</span>getstatusoutput<span style=\"color:#0000cc;\">(</span><span style=\"color:#ff00ff;\">'cat /bin/junk'</span><span style=\"color:#0000cc;\">)</span><br style=\"font:normal normal normal 12px/normal song, Verdana;\"> <span style=\"color:#0000cc;\">(</span>256<span style=\"color:#0000cc;\">,</span>&nbsp;<span style=\"color:#ff00ff;\">'cat: /bin/junk: No such file or directory'</span><span style=\"color:#0000cc;\">)</span><br style=\"font:normal normal normal 12px/normal song, Verdana;\"> <span style=\"color:#0000cc;\">&gt;</span><span style=\"color:#0000cc;\">&gt;</span><span style=\"color:#0000cc;\">&gt;</span>&nbsp;commands<span style=\"color:#0000cc;\">.</span>getstatusoutput<span style=\"color:#0000cc;\">(</span><span style=\"color:#ff00ff;\">'/bin/junk'</span><span style=\"color:#0000cc;\">)</span><br style=\"font:normal normal normal 12px/normal song, Verdana;\"> <span style=\"color:#0000cc;\">(</span>256<span style=\"color:#0000cc;\">,</span>&nbsp;<span style=\"color:#ff00ff;\">'sh: /bin/junk: not found'</span><span style=\"color:#0000cc;\">)</span><br style=\"font:normal normal normal 12px/normal song, Verdana;\"> <span style=\"color:#0000cc;\">&gt;</span><span style=\"color:#0000cc;\">&gt;</span><span style=\"color:#0000cc;\">&gt;</span>&nbsp;commands<span style=\"color:#0000cc;\">.</span>getoutput<span style=\"color:#0000cc;\">(</span><span style=\"color:#ff00ff;\">'ls /bin/ls'</span><span style=\"color:#0000cc;\">)</span><br style=\"font:normal normal normal 12px/normal song, Verdana;\"> <span style=\"color:#ff00ff;\">'/bin/ls'</span><br style=\"font:normal normal normal 12px/normal song, Verdana;\"> <span style=\"color:#0000cc;\">&gt;</span><span style=\"color:#0000cc;\">&gt;</span><span style=\"color:#0000cc;\">&gt;</span>&nbsp;commands<span style=\"color:#0000cc;\">.</span>getstatus<span style=\"color:#0000cc;\">(</span><span style=\"color:#ff00ff;\">'/bin/ls'</span><span style=\"color:#0000cc;\">)</span><br style=\"font:normal normal normal 12px/normal song, Verdana;\"> <span style=\"color:#ff00ff;\">'-rwxr-xr-x 1 root 13352 Oct 14 1994 /bin/ls'</span>"
     ]
    },
    {
     "cell_type": "markdown",
     "metadata": {},
     "source": [
      "\n",
      "\n",
      "<a id=\"cb_post_title_url\" class=\"postTitle2\" >\n",
      "\t\t</h1>\n",
      "\t\t<div class=\"clear\"></div>\n",
      "\t\t<div class=\"postBody\">\n",
      "\t\t\t<div id=\"cnblogs_post_body\"><p>python\u7f16\u7a0b\u65f6\uff0c\u7ecf\u5e38\u548c\u6587\u4ef6\u3001\u76ee\u5f55\u6253\u4ea4\u9053\uff0c\u8fd9\u662f\u5c31\u79bb\u4e0d\u4e86os\u6a21\u5757\u3002os\u6a21\u5757\u5305\u542b\u666e\u904d\u7684\u64cd\u4f5c\u7cfb\u7edf\u529f\u80fd\uff0c\u4e0e\u5177\u4f53\u7684\u5e73\u53f0\u65e0\u5173\u3002\u4ee5\u4e0b\u5217\u4e3e\u5e38\u7528\u7684\u547d\u4ee4</p>\n",
      "<p><strong>1. os.name()</strong>\u2014\u2014\u5224\u65ad\u73b0\u5728\u6b63\u5728\u5b9e\u7528\u7684\u5e73\u53f0\uff0cWindows \u8fd4\u56de \u2018nt'; Linux \u8fd4\u56de\u2019posix'</p>\n",
      "<p><strong>2. os.getcwd()</strong>\u2014\u2014\u5f97\u5230\u5f53\u524d\u5de5\u4f5c\u7684\u76ee\u5f55\u3002</p>\n",
      "<p><strong>3. os.listdir()</strong>\u2014\u2014\u6307\u5b9a\u6240\u6709\u76ee\u5f55\u4e0b\u6240\u6709\u7684\u6587\u4ef6\u548c\u76ee\u5f55\u540d\u3002\u4f8b\uff1a&nbsp;</p>\n",
      "<p><img style=\"line-height: 1.5;\" src=\"http://images.cnitblog.com/blog/408927/201303/18115306-563e263ae8ca4292a4f7d0aef45434fe.png\" alt=\"\">&nbsp;&nbsp;&nbsp; &nbsp;&nbsp;&nbsp;&nbsp;<span style=\"line-height: 1.5;\">&nbsp; &nbsp; &nbsp;&nbsp;</span></p>\n",
      "<p>\u3000\u3000\u4ee5\u5217\u8868\u7684\u5f62\u5f0f\u5168\u90e8\u5217\u4e3e\u51fa\u6765\uff0c\u5176\u4e2d\u6ca1\u6709\u533a\u5206\u76ee\u5f55\u548c\u6587\u4ef6\u3002</p>\n",
      "<p><strong>4. os.remove()</strong>\u2014\u2014\u5220\u9664\u6307\u5b9a\u6587\u4ef6</p>\n",
      "<p><strong>5. os.rmdir()</strong>\u2014\u2014\u5220\u9664\u6307\u5b9a\u76ee\u5f55</p>\n",
      "<p><strong>6. os.mkdir()</strong>\u2014\u2014\u521b\u5efa\u76ee\u5f55</p>\n",
      "<p>\u3000\u3000<span style=\"color: #ff0000;\">\u6ce8\u610f</span>\uff1a\u8fd9\u6837\u53ea\u80fd\u5efa\u7acb\u4e00\u5c42\uff0c\u8981\u60f3\u9012\u5f52\u5efa\u7acb\u53ef\u7528\uff1a<strong>os.makedirs()</strong></p>\n",
      "<p><strong>7. os.path.isfile()</strong>\u2014\u2014\u5224\u65ad\u6307\u5b9a\u5bf9\u8c61\u662f\u5426\u4e3a\u6587\u4ef6\u3002\u662f\u8fd4\u56deTrue,\u5426\u5219False</p>\n",
      "<p><strong>8. os.path.isdir()</strong>\u2014\u2014\u5224\u65ad\u6307\u5b9a\u5bf9\u8c61\u662f\u5426\u4e3a\u76ee\u5f55\u3002\u662fTrue,\u5426\u5219False\u3002\u4f8b\uff1a &nbsp; &nbsp; &nbsp; &nbsp;&nbsp;<img src=\"http://images.cnitblog.com/blog/408927/201303/18120333-2852288070df441fb9aa31c7b53ab2bd.png\" alt=\"\">&nbsp;<strong>9. os.path.exists()</strong>\u2014\u2014\u68c0\u9a8c\u6307\u5b9a\u7684\u5bf9\u8c61\u662f\u5426\u5b58\u5728\u3002\u662fTrue,\u5426\u5219False.\u4f8b\uff1a</p>\n",
      "<p>&nbsp; &nbsp; &nbsp;<img src=\"http://images.cnitblog.com/blog/408927/201303/18120645-e705dcdabbde4f04ad8919c158b01dae.png\" alt=\"\"></p>\n",
      "<p><strong>10. os.path.split()</strong>\u2014\u2014\u8fd4\u56de\u8def\u5f84\u7684\u76ee\u5f55\u548c\u6587\u4ef6\u540d\u3002\u4f8b\uff1a</p>\n",
      "<p>&nbsp; &nbsp; &nbsp;<img src=\"http://images.cnitblog.com/blog/408927/201303/18120952-4c4bb37114c84fd9bcfbd1368648270f.png\" alt=\"\"></p>\n",
      "<p>\u6b64\u5904\u53ea\u662f\u628a\u524d\u540e\u4e24\u90e8\u5206\u5206\u5f00\u800c\u5df2\u3002\u5c31\u662f\u627e\u6700\u540e\u4e00\u4e2a'/'\u3002\u770b\u4f8b\u5b50\uff1a</p>\n",
      "<p>&nbsp; &nbsp; &nbsp;<img src=\"http://images.cnitblog.com/blog/408927/201303/18121145-ef01b4e2b7ce49b0bdc4b9c675249322.png\" alt=\"\"></p>\n",
      "<p><strong>11. os.getcwd()</strong>\u2014\u2014\u83b7\u5f97\u5f53\u524d\u5de5\u4f5c\u7684\u76ee\u5f55\uff08get current work dir)</p>\n",
      "<p><strong>12. os.system()</strong>\u2014\u2014\u6267\u884cshell\u547d\u4ee4\u3002\u4f8b\uff1a</p>\n",
      "<p>&nbsp; &nbsp; &nbsp;<img src=\"http://images.cnitblog.com/blog/408927/201303/18121413-b5594302ccec47b397a72aaa0b328a52.png\" alt=\"\"></p>\n",
      "<p><strong><span style=\"color: #ff0000;\">\u6ce8\u610f</span></strong>\uff1a\u6b64\u5904\u8fd0\u884cshell\u547d\u4ee4\u65f6\uff0c\u5982\u679c\u8981\u8c03\u7528python\u4e4b\u524d\u7684\u53d8\u91cf\uff0c\u53ef\u4ee5\u7528\u5982\u4e0b\u65b9\u5f0f\uff1a</p>\n",
      "<div class=\"cnblogs_code\">\n",
      "<pre>var=123<span style=\"color: #000000;\">\n",
      "os.<span style=\"color: #0000ff;\"><strong>environ</strong></span>[</span><span style=\"color: #800000;\">'</span><span style=\"color: #800000;\">var</span><span style=\"color: #800000;\">'</span>]=str(var) <span style=\"color: #99ccff;\">//</span><span style=\"color: #000000;\"><span style=\"color: #99ccff;\">\u6ce8\u610f\u6b64\u5904[]\u5185\u5f97\u662f \u201c\u5b57\u7b26\u4e32\u201d</span>\n",
      "os.system(</span><span style=\"color: #800000;\">'</span><span style=\"color: #800000;\">echo $var</span><span style=\"color: #800000;\">'</span>)</pre>\n",
      "</div>\n",
      "<p><strong style=\"line-height: 1.5;\">13. os.chdir()</strong><span style=\"line-height: 1.5;\">\u2014\u2014\u6539\u53d8\u76ee\u5f55\u5230\u6307\u5b9a\u76ee\u5f55</span></p>\n",
      "<p><strong>14. os.path.getsize()</strong>\u2014\u2014\u83b7\u5f97\u6587\u4ef6\u7684\u5927\u5c0f<span style=\"background-color: #ff0000;\">\uff0c\u5982\u679c\u4e3a\u76ee\u5f55\uff0c\u8fd4\u56de0</span></p>\n",
      "<p><strong>15. os.path.abspath()</strong>\u2014\u2014\u83b7\u5f97\u7edd\u5bf9\u8def\u5f84\u3002\u4f8b\uff1a</p>\n",
      "<p>&nbsp; &nbsp;&nbsp;<img src=\"http://images.cnitblog.com/blog/408927/201303/18122026-9b2c1165ae0d4ed3921d550d3b3d15d9.png\" alt=\"\"></p>\n",
      "<p><strong>16. os.path.join(path, name)</strong>\u2014\u2014\u8fde\u63a5\u76ee\u5f55\u548c\u6587\u4ef6\u540d\u3002\u4f8b\uff1a</p>\n",
      "<p>&nbsp; &nbsp;&nbsp;<img src=\"http://images.cnitblog.com/blog/408927/201303/18122325-2522900dab2848d3a876e3b7f3d49a5b.png\" alt=\"\"></p>\n",
      "<p><strong>17.os.path.basename(path)</strong>\u2014\u2014\u8fd4\u56de\u6587\u4ef6\u540d</p>\n",
      "<p>&nbsp; &nbsp;&nbsp;<img src=\"http://images.cnitblog.com/blog/408927/201303/18122413-0bc29870c2814a34b9a574af305016ba.png\" alt=\"\"></p>\n",
      "<p><strong>18. os.path.dirname(path)</strong>\u2014\u2014\u8fd4\u56de\u6587\u4ef6\u8def\u5f84</p>\n",
      "<p>&nbsp; &nbsp;&nbsp;<img src=\"http://images.cnitblog.com/blog/408927/201303/18122449-f8d29510b96942e59d8f1ae81b80a851.png\" alt=\"\"></p>\n",
      "<p><strong>19. \u83b7\u5f97\u7a0b\u5e8f\u6240\u5728\u7684\u5b9e\u9645\u76ee\u5f55</strong></p>\n",
      "<div class=\"cnblogs_code\"><div class=\"cnblogs_code_toolbar\"><span class=\"cnblogs_code_copy\"><a href=\"javascript:void(0);\" onclick=\"copyCnblogsCode(this)\" title=\"\u590d\u5236\u4ee3\u7801\"><img src=\"//common.cnblogs.com/images/copycode.gif\" alt=\"\u590d\u5236\u4ee3\u7801\"></a></span></div>\n",
      "<pre><span style=\"color: #0000ff;\">import</span><span style=\"color: #000000;\"> os\n",
      "</span><span style=\"color: #0000ff;\">import</span><span style=\"color: #000000;\"> sys\n",
      "\n",
      "</span><span style=\"color: #0000ff;\">if</span> <span style=\"color: #800080;\">__name__</span> == <span style=\"color: #800000;\">\"</span><span style=\"color: #800000;\">__main__</span><span style=\"color: #800000;\">\"</span><span style=\"color: #000000;\">:\n",
      "    </span><span style=\"color: #0000ff;\">print</span><span style=\"color: #000000;\"> os.path.realpath(sys.argv[0])\n",
      "    </span><span style=\"color: #0000ff;\">print</span><span style=\"color: #000000;\"> os.path.split(os.path.realpath(sys.argv[0]))\n",
      "    </span><span style=\"color: #0000ff;\">print</span> os.path.split(os.path.realpath(sys.argv[0]))[0]</pre>\n",
      "<div class=\"cnblogs_code_toolbar\"><span class=\"cnblogs_code_copy\"><a href=\"javascript:void(0);\" onclick=\"copyCnblogsCode(this)\" title=\"\u590d\u5236\u4ee3\u7801\"><img src=\"//common.cnblogs.com/images/copycode.gif\" alt=\"\u590d\u5236\u4ee3\u7801\"></a></span></div></div>\n",
      "<p>\u6267\u884c\u7ed3\u679c</p>\n",
      "<div class=\"cnblogs_Highlighter sh-gutter\">\n",
      "<div><div id=\"highlighter_806699\" class=\"syntaxhighlighter  css\"><div class=\"toolbar\"><span><a href=\"#\" class=\"toolbar_item command_help help\">?</a></span></div><table cellspacing=\"0\" cellpadding=\"0\" border=\"0\"><tbody><tr><td class=\"gutter\"><div class=\"line number1 index0 alt2\">1</div><div class=\"line number2 index1 alt1\">2</div><div class=\"line number3 index2 alt2\">3</div></td><td class=\"code\"><div class=\"container\"><div class=\"line number1 index0 alt2\"><code class=\"css plain\">/home/jihite/ftp/del.py</code></div><div class=\"line number2 index1 alt1\"><code class=\"css plain\">(</code><code class=\"css string\">'/home/jihite/ftp'</code><code class=\"css plain\">, </code><code class=\"css string\">'del.py'</code><code class=\"css plain\">)</code></div><div class=\"line number3 index2 alt2\"><code class=\"css plain\">/home/jihite/ftp\u3000</code></div></div></td></tr></tbody></table></div></div>\n",
      "</div>\n",
      "<p>&nbsp;<span style=\"color: #ff0000;\"><strong>\u7ec6\u8282</strong></span>\u2014\u2014os.path.spilit()\u628a\u76ee\u5f55\u548c\u6587\u4ef6\u533a\u5206\u5f00</p>\n",
      "<div class=\"cnblogs_Highlighter sh-gutter\">\n",
      "<div><div id=\"highlighter_965158\" class=\"syntaxhighlighter  css\"><div class=\"toolbar\"><span><a href=\"#\" class=\"toolbar_item command_help help\">?</a></span></div><table cellspacing=\"0\" cellpadding=\"0\" border=\"0\"><tbody><tr><td class=\"gutter\"><div class=\"line number1 index0 alt2\">1</div><div class=\"line number2 index1 alt1\">2</div><div class=\"line number3 index2 alt2\">3</div><div class=\"line number4 index3 alt1\">4</div><div class=\"line number5 index4 alt2\">5</div></td><td class=\"code\"><div class=\"container\"><div class=\"line number1 index0 alt2\"><code class=\"css plain\">&gt;&gt;&gt; import os</code></div><div class=\"line number2 index1 alt1\"><code class=\"css plain\">&gt;&gt;&gt; os.path.split(</code><code class=\"css string\">\"a/b/c/d\"</code><code class=\"css plain\">)</code></div><div class=\"line number3 index2 alt2\"><code class=\"css plain\">(</code><code class=\"css string\">'a/b/c'</code><code class=\"css plain\">, </code><code class=\"css string\">'d'</code><code class=\"css plain\">)</code></div><div class=\"line number4 index3 alt1\"><code class=\"css plain\">&gt;&gt;&gt; os.path.split(</code><code class=\"css string\">\"a/b/c/d/\"</code><code class=\"css plain\">)</code></div><div class=\"line number5 index4 alt2\"><code class=\"css plain\">(</code><code class=\"css string\">'a/b/c/d'</code><code class=\"css plain\">, </code><code class=\"css string\">''</code><code class=\"css plain\">)</code>"
     ]
    },
    {
     "cell_type": "code",
     "collapsed": false,
     "input": [
      "os.popen('touch test')"
     ],
     "language": "python",
     "metadata": {},
     "outputs": [
      {
       "metadata": {},
       "output_type": "pyout",
       "prompt_number": 61,
       "text": [
        "<open file 'touch test', mode 'r' at 0x7fdf680db390>"
       ]
      }
     ],
     "prompt_number": 61
    },
    {
     "cell_type": "code",
     "collapsed": false,
     "input": [
      "f=open('test','r+')"
     ],
     "language": "python",
     "metadata": {},
     "outputs": [],
     "prompt_number": 68
    },
    {
     "cell_type": "code",
     "collapsed": false,
     "input": [
      "f.read()"
     ],
     "language": "python",
     "metadata": {},
     "outputs": [
      {
       "metadata": {},
       "output_type": "pyout",
       "prompt_number": 69,
       "text": [
        "''"
       ]
      }
     ],
     "prompt_number": 69
    },
    {
     "cell_type": "code",
     "collapsed": false,
     "input": [
      "f.write('fff')"
     ],
     "language": "python",
     "metadata": {},
     "outputs": [],
     "prompt_number": 70
    },
    {
     "cell_type": "code",
     "collapsed": false,
     "input": [
      "f.read()"
     ],
     "language": "python",
     "metadata": {},
     "outputs": [
      {
       "metadata": {},
       "output_type": "pyout",
       "prompt_number": 71,
       "text": [
        "''"
       ]
      }
     ],
     "prompt_number": 71
    },
    {
     "cell_type": "code",
     "collapsed": false,
     "input": [
      "f.close()"
     ],
     "language": "python",
     "metadata": {},
     "outputs": [],
     "prompt_number": 72
    },
    {
     "cell_type": "code",
     "collapsed": false,
     "input": [
      "cat test"
     ],
     "language": "python",
     "metadata": {},
     "outputs": [
      {
       "output_type": "stream",
       "stream": "stdout",
       "text": [
        "fff"
       ]
      }
     ],
     "prompt_number": 74
    },
    {
     "cell_type": "code",
     "collapsed": false,
     "input": [
      "f=open('test','r+')"
     ],
     "language": "python",
     "metadata": {},
     "outputs": [],
     "prompt_number": 75
    },
    {
     "cell_type": "code",
     "collapsed": false,
     "input": [
      "f.read()"
     ],
     "language": "python",
     "metadata": {},
     "outputs": [
      {
       "metadata": {},
       "output_type": "pyout",
       "prompt_number": 76,
       "text": [
        "'fff'"
       ]
      }
     ],
     "prompt_number": 76
    },
    {
     "cell_type": "code",
     "collapsed": false,
     "input": [
      "f.write('dddd')"
     ],
     "language": "python",
     "metadata": {},
     "outputs": [],
     "prompt_number": 77
    },
    {
     "cell_type": "code",
     "collapsed": false,
     "input": [
      "f.read()"
     ],
     "language": "python",
     "metadata": {},
     "outputs": [
      {
       "metadata": {},
       "output_type": "pyout",
       "prompt_number": 78,
       "text": [
        "''"
       ]
      }
     ],
     "prompt_number": 78
    },
    {
     "cell_type": "code",
     "collapsed": false,
     "input": [
      "f.flush()\n"
     ],
     "language": "python",
     "metadata": {},
     "outputs": [],
     "prompt_number": 79
    },
    {
     "cell_type": "code",
     "collapsed": false,
     "input": [
      "f.read()"
     ],
     "language": "python",
     "metadata": {},
     "outputs": [
      {
       "metadata": {},
       "output_type": "pyout",
       "prompt_number": 80,
       "text": [
        "''"
       ]
      }
     ],
     "prompt_number": 80
    },
    {
     "cell_type": "code",
     "collapsed": false,
     "input": [
      "f.close()"
     ],
     "language": "python",
     "metadata": {},
     "outputs": [],
     "prompt_number": 81
    },
    {
     "cell_type": "code",
     "collapsed": false,
     "input": [],
     "language": "python",
     "metadata": {},
     "outputs": []
    }
   ],
   "metadata": {}
  }
 ]
}