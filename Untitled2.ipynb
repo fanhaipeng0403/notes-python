{
 "metadata": {
  "name": "",
  "signature": "sha256:e73c4ea210852874b22790c38c17741cf51f6f3d4fd8a22d981b7bd0cebc79a1"
 },
 "nbformat": 3,
 "nbformat_minor": 0,
 "worksheets": []
}