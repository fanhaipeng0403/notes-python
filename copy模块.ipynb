{
 "metadata": {
  "name": "",
  "signature": "sha256:977aa193a16028abcdb10d021394a06f4790430dc6f0443453de883cf5cb7332"
 },
 "nbformat": 3,
 "nbformat_minor": 0,
 "worksheets": [
  {
   "cells": [
    {
     "cell_type": "markdown",
     "metadata": {},
     "source": [
      "1. copy.copy \u6d45\u62f7\u8d1d \u53ea\u62f7\u8d1d\u7236\u5bf9\u8c61\uff0c\u4e0d\u4f1a\u62f7\u8d1d\u5bf9\u8c61\u7684\u5185\u90e8\u7684\u5b50\u5bf9\u8c61\u3002\n",
      "2. copy.deepcopy \u6df1\u62f7\u8d1d \u62f7\u8d1d\u5bf9\u8c61\u53ca\u5176\u5b50\u5bf9\u8c61"
     ]
    },
    {
     "cell_type": "code",
     "collapsed": false,
     "input": [
      "import copy  \n",
      "a = [1, 2, 3, 4, ['a', 'b']]  #\u539f\u59cb\u5bf9\u8c61  \n",
      "  \n",
      "b = a  #\u8d4b\u503c\uff0c\u4f20\u5bf9\u8c61\u7684\u5f15\u7528  \n",
      "c = copy.copy(a)  #\u5bf9\u8c61\u62f7\u8d1d\uff0c\u6d45\u62f7\u8d1d  \n",
      "d = copy.deepcopy(a)  #\u5bf9\u8c61\u62f7\u8d1d\uff0c\u6df1\u62f7\u8d1d  \n",
      "  \n",
      "a.append(5)  #\u4fee\u6539\u5bf9\u8c61a  \n",
      "a[4].append('c')  #\u4fee\u6539\u5bf9\u8c61a\u4e2d\u7684['a', 'b']\u6570\u7ec4\u5bf9\u8c61  \n",
      "  \n",
      "print 'a = ', a  \n",
      "print 'b = ', b  \n",
      "print 'c = ', c  \n",
      "print 'd = ', d  \n",
      "\n"
     ],
     "language": "python",
     "metadata": {},
     "outputs": [
      {
       "output_type": "stream",
       "stream": "stdout",
       "text": [
        "a =  [1, 2, 3, 4, ['a', 'b', 'c'], 5]\n",
        "b =  [1, 2, 3, 4, ['a', 'b', 'c'], 5]\n",
        "c =  [1, 2, 3, 4, ['a', 'b', 'c']]\n",
        "d =  [1, 2, 3, 4, ['a', 'b']]\n"
       ]
      }
     ],
     "prompt_number": 1
    },
    {
     "cell_type": "code",
     "collapsed": false,
     "input": [
      "c"
     ],
     "language": "python",
     "metadata": {},
     "outputs": [
      {
       "metadata": {},
       "output_type": "pyout",
       "prompt_number": 3,
       "text": [
        "[1, 2, 3, 4, ['a', 'b', 'c']]"
       ]
      }
     ],
     "prompt_number": 3
    },
    {
     "cell_type": "markdown",
     "metadata": {},
     "source": [
      "\u7236\u5bf9\u8c61\u662f\u590d\u5236,\u4e0d\u53d7\u5f71\u54cd.\n",
      "\u5b50\u5bf9\u8c61\u662f\u5f15\u7528,\u53d7\u5f71\u54cd"
     ]
    }
   ],
   "metadata": {}
  }
 ]
}