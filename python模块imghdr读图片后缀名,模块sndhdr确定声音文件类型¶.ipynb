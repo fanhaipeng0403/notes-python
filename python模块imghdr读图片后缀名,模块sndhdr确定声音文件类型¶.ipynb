{
 "cells": [
  {
   "cell_type": "markdown",
   "metadata": {},
   "source": [
    "爬数据的时候常常遇到img标签的src中不包含图片的后缀名，如http://photos.prnewswire.com/prn/20100819/LA52539LOGO所示，\n",
    "\n",
    "这时通过imghdr模块就能够把图片的后缀名读出来"
   ]
  },
  {
   "cell_type": "code",
   "execution_count": 4,
   "metadata": {
    "collapsed": false
   },
   "outputs": [
    {
     "name": "stdout",
     "output_type": "stream",
     "text": [
      "jpeg\n"
     ]
    }
   ],
   "source": [
    "import urllib2\n",
    "import imghdr\n",
    "\n",
    "url = 'http://photos.prnewswire.com/prn/20100819/LA52539LOGO'\n",
    "response = urllib2.urlopen(url)\n",
    "webpage = response.read()\n",
    "print imghdr.what('', webpage)"
   ]
  },
  {
   "cell_type": "markdown",
   "metadata": {},
   "source": [
    "## imghdr.what(filename, h=None)¶\n",
    "Tests the image data contained in the file named by filename, and returns a string describing the image type. If optional h is provided, **the filename is ignored** and h is assumed to contain the **byte stream** to test.`"
   ]
  },
  {
   "cell_type": "code",
   "execution_count": 5,
   "metadata": {
    "collapsed": false
   },
   "outputs": [
    {
     "data": {
      "text/plain": [
       "'jpeg'"
      ]
     },
     "execution_count": 5,
     "metadata": {},
     "output_type": "execute_result"
    }
   ],
   "source": [
    "imghdr.what('被忽略', webpage)"
   ]
  },
  {
   "cell_type": "code",
   "execution_count": 2,
   "metadata": {
    "collapsed": false
   },
   "outputs": [
    {
     "name": "stdout",
     "output_type": "stream",
     "text": [
      "Help on module imghdr:\n",
      "\n",
      "NAME\n",
      "    imghdr - Recognize image file formats based on their first few bytes.\n",
      "\n",
      "FILE\n",
      "    /usr/lib/python2.7/imghdr.py\n",
      "\n",
      "MODULE DOCS\n",
      "    http://docs.python.org/library/imghdr\n",
      "\n",
      "FUNCTIONS\n",
      "    what(file, h=None)\n",
      "\n",
      "DATA\n",
      "    __all__ = ['what']\n",
      "\n",
      "\n"
     ]
    }
   ],
   "source": [
    "help(imghdr)"
   ]
  },
  {
   "cell_type": "code",
   "execution_count": null,
   "metadata": {
    "collapsed": true
   },
   "outputs": [],
   "source": []
  }
 ],
 "metadata": {
  "kernelspec": {
   "display_name": "Python 2",
   "language": "python",
   "name": "python2"
  },
  "language_info": {
   "codemirror_mode": {
    "name": "ipython",
    "version": 2
   },
   "file_extension": ".py",
   "mimetype": "text/x-python",
   "name": "python",
   "nbconvert_exporter": "python",
   "pygments_lexer": "ipython2",
   "version": "2.7.12"
  }
 },
 "nbformat": 4,
 "nbformat_minor": 1
}
