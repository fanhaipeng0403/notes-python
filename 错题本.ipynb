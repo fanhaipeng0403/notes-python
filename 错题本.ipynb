{
 "cells": [
  {
   "cell_type": "markdown",
   "metadata": {},
   "source": [
    "\n",
    "\n",
    "# Heading\n",
    "\n",
    "## Sub-heading\n",
    "\n",
    "### Another deeper heading\n",
    " \n",
    "Paragraphs are separated\n",
    "by a blank line.\n",
    "\n",
    "Two spaces at the end of a line leave a  \n",
    "line break.\n",
    "\n",
    "Text attributes _italic_, *italic*, __bold__, **bold**, `monospace`.\n",
    "\n",
    "Horizontal rule:\n",
    "\n",
    "---\n",
    "\n",
    "Bullet list:\n",
    "\n",
    "  * apples\n",
    "  * oranges\n",
    "  * pears\n",
    "\n",
    "Numbered list:\n",
    "\n",
    "  1. apples\n",
    "  2. oranges\n",
    "  3. pears\n",
    "\n",
    "A [link](http://example.com)."
   ]
  },
  {
   "cell_type": "code",
   "execution_count": null,
   "metadata": {
    "collapsed": true
   },
   "outputs": [],
   "source": [
    " def maxSequence(a):\n",
    "    ...:      b,c=[],[]\n",
    "    ...:      for i in range(len(a)):\n",
    "    ...:          for j in range(1,len(a)+1-i):\n",
    "    ...:                b.append( a[i:i+j])\n",
    "    ...:      for k in b:\n",
    "    ...:          c.append(sum(k))\n",
    "    ...:      d=max(c)\n",
    "    ...:      e=c.index(d)\n",
    "    ...:      return b[e]\n",
    "    ...:      \n",
    "http://www.jianshu.com/p/20afa593c4d3"
   ]
  },
  {
   "cell_type": "code",
   "execution_count": null,
   "metadata": {
    "collapsed": true
   },
   "outputs": [],
   "source": [
    "\n",
    "In [42]: b.fromkeys(a).keys()\n",
    "Out[42]: dict_keys([1, 2, 3, 5, 55, 88, 77])\n",
    "\n",
    "In [43]: a\n",
    "Out[43]: [1, 2, 3, 5, 5, 88, 77, 55, 2, 88]\n",
    "\n",
    "In [44]: sorted(a,key=a.index)\n",
    "Out[44]: [1, 2, 2, 3, 5, 5, 88, 88, 77, 55]\n",
    "\n",
    "In [45]: sorted(set(a),key=a.index)\n",
    "Out[45]: [1, 2, 3, 5, 88, 77, 55]\n",
    "\n",
    "In [46]: \n"
   ]
  },
  {
   "cell_type": "code",
   "execution_count": null,
   "metadata": {
    "collapsed": true
   },
   "outputs": [],
   "source": [
    "sorted(set(a),key=attrgetter('index')(a))"
   ]
  },
  {
   "cell_type": "code",
   "execution_count": null,
   "metadata": {
    "collapsed": true
   },
   "outputs": [],
   "source": []
  },
  {
   "cell_type": "code",
   "execution_count": null,
   "metadata": {
    "collapsed": true
   },
   "outputs": [],
   "source": [
    "函数,形参,实参,变量,全局变量,局部变量,作用域,命名空间"
   ]
  },
  {
   "cell_type": "code",
   "execution_count": null,
   "metadata": {
    "collapsed": true
   },
   "outputs": [],
   "source": [
    "\n",
    "In [15]: a=[3,9,8,5,2]\n",
    "\n",
    "In [16]: b=[1,4,9,2,6]\n",
    "\n",
    "In [17]: c=zip(a,b)\n",
    "\n",
    "In [18]: reduce(lambda z,(x,y): z+x*y,c,0)\n",
    "Out[18]: 133\n",
    "\n",
    "In [19]: c\n",
    "Out[19]: [(3, 1), (9, 4), (8, 9), (5, 2), (2, 6)]\n"
   ]
  },
  {
   "cell_type": "code",
   "execution_count": null,
   "metadata": {
    "collapsed": true
   },
   "outputs": [],
   "source": [
    "\n",
    "In [12]: def test2(x,*arg):\n",
    "    ...:     print x\n",
    "    ...:     print arg\n",
    "    ...:     \n",
    "\n",
    "In [13]: test2(1,2,3,3,4)\n",
    "1\n",
    "(2, 3, 3, 4)\n",
    "\n",
    "In [14]: test2(1,(2,3,3,4))\n",
    "1\n",
    "((2, 3, 3, 4),)\n",
    "\n",
    "In [15]: test2(1,*(2,3,3,4))\n",
    "1\n",
    "(2, 3, 3, 4)\n",
    "\n",
    "In [16]: test2(1,2)\n",
    "1\n",
    "(2,)\n",
    "\n",
    "In [19]: test2(1,*(2,))\n",
    "1\n",
    "(2,)\n"
   ]
  },
  {
   "cell_type": "code",
   "execution_count": null,
   "metadata": {
    "collapsed": true
   },
   "outputs": [],
   "source": [
    "\n",
    "\n",
    "\n",
    "In [34]:  def test3(**kargs):\n",
    "    ...:   print kargs\n",
    "\n",
    "\n",
    "In [35]: test3(a=1,b=2)\n",
    "{'a': 1, 'b': 2}\n",
    "\n",
    "In [36]: c={1:1,2:2}\n",
    "\n",
    "In [37]: test3(**c)\n",
    "---------------------------------------------------------------------------\n",
    "TypeError                                 Traceback (most recent call last)\n",
    "<ipython-input-37-8d03e7922bda> in <module>()\n",
    "----> 1 test3(**c)\n",
    "\n",
    "TypeError: test3() keywords must be strings\n",
    "\n",
    "In [38]: d={'a':1,'b':2}\n",
    "\n",
    "In [39]: test3(**d)\n",
    "{'a': 1, 'b': 2}\n"
   ]
  },
  {
   "cell_type": "code",
   "execution_count": null,
   "metadata": {
    "collapsed": true
   },
   "outputs": [],
   "source": [
    ">>> def foo(**args):    #这种方式接收，以 dictionary 的形式接收数据对象\n",
    "...     print args\n",
    "... \n",
    "\n",
    ">>> foo(1,2,3)          #这样就报错了\n",
    "Traceback (most recent call last):\n",
    "  File \"<stdin>\", line 1, in <module>\n",
    "TypeError: foo() takes exactly 0 arguments (3 given)\n",
    "\n",
    ">>> foo(a=1,b=2,c=3)    #这样就可以了，因为有了键值对\n",
    "{'a': 1, 'c': 3, 'b': 2}\n",
    "下面来一个综合的，看看以上四种参数传递方法的执行顺序\n",
    "\n",
    ">>> def foo(x,y=2,*targs,**dargs):\n",
    "...     print \"x==>\",x\n",
    "...     print \"y==>\",y\n",
    "...     print \"targs_tuple==>\",targs\n",
    "...     print \"dargs_dict==>\",dargs\n",
    "... \n",
    "\n",
    ">>> foo(\"1x\")\n",
    "x==> 1x\n",
    "y==> 2\n",
    "targs_tuple==> ()\n",
    "dargs_dict==> {}\n",
    "\n",
    ">>> foo(\"1x\",\"2y\")\n",
    "x==> 1x\n",
    "y==> 2y\n",
    "targs_tuple==> ()\n",
    "dargs_dict==> {}\n",
    "\n",
    ">>> foo(\"1x\",\"2y\",\"3t1\",\"3t2\")\n",
    "x==> 1x\n",
    "y==> 2y\n",
    "targs_tuple==> ('3t1', '3t2')\n",
    "dargs_dict==> {}\n",
    "\n",
    ">>> foo(\"1x\",\"2y\",\"3t1\",\"3t2\",d1=\"4d1\",d2=\"4d2\")\n",
    "x==> 1x\n",
    "y==> 2y\n",
    "targs_tuple==> ('3t1', '3t2')\n",
    "dargs_dict==> {'d2': '4d2', 'd1': '4d1'}"
   ]
  },
  {
   "cell_type": "code",
   "execution_count": null,
   "metadata": {
    "collapsed": true
   },
   "outputs": [],
   "source": [
    "In [10]: def test1(n):\n",
    "    ...:     if n==0:\n",
    "    ...:         return 0\n",
    "    ...:     else:\n",
    "    ...:         return test1(n-2)+n\n",
    "    ...:         \n",
    "    ...:         \n",
    "    ...:         \n",
    "    ...:     \n",
    "\n",
    "In [11]: test1(10)\n",
    "Out[11]: 30\n",
    "\n",
    "In [12]: test1(2)\n",
    "Out[12]: 2\n",
    "\n",
    "In [13]: sum([x for x in range(11) if x%2==0])\n",
    "Out[13]: 30\n"
   ]
  },
  {
   "cell_type": "code",
   "execution_count": null,
   "metadata": {
    "collapsed": true
   },
   "outputs": [],
   "source": [
    "In [7]: map(add,[1,2,3,4],[1,2,3,4])\n",
    "Out[7]: [2, 4, 6, 8]\n",
    "    \n",
    "    \n",
    "In [34]: reduce(add,[1,2,3,4])\n",
    "Out[34]: 10\n",
    "\n",
    "    \n",
    "\n",
    "In [8]: map(lambda x,y:x+y,[1,2,3,4],[1,2,3,4])\n",
    "Out[8]: [2, 4, 6, 8]\n",
    "\n",
    "\n",
    "In [10]: [ x+y for x in [1,2,3,4]  for y in [1,2,3,4]]\n",
    "Out[10]: [2, 3, 4, 5, 3, 4, 5, 6, 4, 5, 6, 7, 5, 6, 7, 8]\n",
    "    \n",
    "    "
   ]
  },
  {
   "cell_type": "code",
   "execution_count": null,
   "metadata": {
    "collapsed": true
   },
   "outputs": [],
   "source": [
    "In [11]: b=numpy.array([2,3,3,4])\n",
    "\n",
    "In [12]: a+b\n",
    "Out[12]: array([3, 5, 6, 8])\n",
    "\n",
    "In [13]: a\n",
    "Out[13]: array([1, 2, 3, 4])\n",
    "\n",
    "In [14]: b\n",
    "Out[14]: array([2, 3, 3, 4])\n",
    "\n",
    "In [15]: from operator import *\n",
    "\n",
    "In [16]: reduce(add,(a,b))\n",
    "Out[16]: array([3, 5, 6, 8])\n",
    "\n",
    "In [17]: map(add,a,b)\n",
    "Out[17]: [3, 5, 6, 8]\n"
   ]
  },
  {
   "cell_type": "code",
   "execution_count": null,
   "metadata": {
    "collapsed": true
   },
   "outputs": [],
   "source": [
    ">>> a\n",
    "[3, 9, 8, 5, 2]\n",
    ">>> b\n",
    "[1, 4, 9, 2, 6]\n",
    "\n",
    ">>> zip(a,b)        #复习一下 zip，下面的方法中要用到\n",
    "[(3, 1), (9, 4), (8, 9), (5, 2), (2, 6)]\n",
    "\n",
    ">>> sum(x*y for x,y in zip(a,b))    #解析后直接求和\n",
    "133\n",
    "\n",
    ">>> new_list = [x*y for x,y in zip(a,b)]    #可以看做是上面方法的分布实施\n",
    "\n",
    ">>> #这样解析也可以：new_tuple = (x*y for x,y in zip(a,b))\n",
    ">>> new_list\n",
    "[3, 36, 72, 10, 12]\n",
    ">>> sum(new_list)     #或者:sum(new_tuple)\n",
    "133\n",
    "\n",
    ">>> reduce(lambda sum,(x,y): sum+x*y,zip(a,b),0)    #这个方法是在耍酷呢吗？\n",
    "133\n",
    "\n",
    ">>> from operator import add,mul            #耍酷的方法也不止一个\n",
    ">>> reduce(add,map(mul,a,b))\n",
    "133\n",
    "\n",
    ">>> reduce(lambda x,y: x+y, map(lambda x,y: x*y, a,b))  #map,reduce,lambda 都齐全了，更酷吗？\n",
    "133"
   ]
  },
  {
   "cell_type": "code",
   "execution_count": 19,
   "metadata": {
    "collapsed": true
   },
   "outputs": [],
   "source": [
    "def is_prime(n):\n",
    "    if n<=1:\n",
    "        return False\n",
    "    elif  not isinstance(n,int):\n",
    "        return False\n",
    "    elif 0 not in [n%x for x in range(2,n)]:\n",
    "        return True   \n",
    "    else:\n",
    "        return False"
   ]
  },
  {
   "cell_type": "code",
   "execution_count": 20,
   "metadata": {
    "collapsed": false
   },
   "outputs": [
    {
     "data": {
      "text/plain": [
       "True"
      ]
     },
     "execution_count": 20,
     "metadata": {},
     "output_type": "execute_result"
    }
   ],
   "source": [
    "is_prime(2)"
   ]
  },
  {
   "cell_type": "code",
   "execution_count": 21,
   "metadata": {
    "collapsed": false
   },
   "outputs": [
    {
     "data": {
      "text/plain": [
       "False"
      ]
     },
     "execution_count": 21,
     "metadata": {},
     "output_type": "execute_result"
    }
   ],
   "source": [
    "is_prime(1)"
   ]
  },
  {
   "cell_type": "code",
   "execution_count": 22,
   "metadata": {
    "collapsed": false
   },
   "outputs": [
    {
     "data": {
      "text/plain": [
       "False"
      ]
     },
     "execution_count": 22,
     "metadata": {},
     "output_type": "execute_result"
    }
   ],
   "source": [
    "is_prime(4)"
   ]
  },
  {
   "cell_type": "code",
   "execution_count": 23,
   "metadata": {
    "collapsed": false
   },
   "outputs": [
    {
     "data": {
      "text/plain": [
       "True"
      ]
     },
     "execution_count": 23,
     "metadata": {},
     "output_type": "execute_result"
    }
   ],
   "source": [
    "is_prime(11)"
   ]
  },
  {
   "cell_type": "code",
   "execution_count": 24,
   "metadata": {
    "collapsed": false
   },
   "outputs": [
    {
     "data": {
      "text/plain": [
       "False"
      ]
     },
     "execution_count": 24,
     "metadata": {},
     "output_type": "execute_result"
    }
   ],
   "source": [
    "is_prime(11.1)"
   ]
  },
  {
   "cell_type": "code",
   "execution_count": 25,
   "metadata": {
    "collapsed": false
   },
   "outputs": [
    {
     "data": {
      "text/plain": [
       "False"
      ]
     },
     "execution_count": 25,
     "metadata": {},
     "output_type": "execute_result"
    }
   ],
   "source": [
    "is_prime('dd')"
   ]
  },
  {
   "cell_type": "code",
   "execution_count": null,
   "metadata": {
    "collapsed": true
   },
   "outputs": [],
   "source": [
    "python2.7"
   ]
  },
  {
   "cell_type": "code",
   "execution_count": null,
   "metadata": {
    "collapsed": true
   },
   "outputs": [],
   "source": [
    "旧式类"
   ]
  },
  {
   "cell_type": "code",
   "execution_count": null,
   "metadata": {
    "collapsed": true
   },
   "outputs": [],
   "source": [
    "\n",
    "In [1]: class AA:\n",
    "   ...:     pass\n",
    "   ...: \n",
    "\n",
    "In [2]: aa=AA()\n",
    "\n",
    "In [3]: type(aa)\n",
    "Out[3]: instance\n",
    "\n",
    "In [4]: type(AA)\n",
    "Out[4]: classobj\n",
    "\n",
    "In [5]: aa.__class__\n",
    "Out[5]: <class __main__.AA at 0x7f102232ece8>\n",
    "\n",
    "\n",
    "  \n",
    "\n",
    "\n"
   ]
  },
  {
   "cell_type": "code",
   "execution_count": null,
   "metadata": {
    "collapsed": true
   },
   "outputs": [],
   "source": [
    "新式类"
   ]
  },
  {
   "cell_type": "code",
   "execution_count": null,
   "metadata": {
    "collapsed": true
   },
   "outputs": [],
   "source": [
    "\n",
    "In [7]: class BB(object):\n",
    "   ...:     pass\n",
    "   ...: \n",
    "\n",
    "In [8]: bb=BB()\n",
    "\n",
    "In [9]: type(bb)\n",
    "Out[9]: __main__.BB\n",
    "\n",
    "In [10]: type(BB)\n",
    "Out[10]: type\n",
    "\n",
    "\n",
    "\n",
    "In [12]: bb.__class__\n",
    "Out[12]: __main__.BB"
   ]
  },
  {
   "cell_type": "code",
   "execution_count": null,
   "metadata": {
    "collapsed": true
   },
   "outputs": [],
   "source": [
    ">>> __metaclass__ = type\n",
    ">>> class CC:\n",
    "...     pass\n",
    "... \n",
    ">>> cc = CC()\n",
    ">>> cc.__class__\n",
    "<class '__main__.CC'>\n",
    ">>> type(cc)\n",
    "<class '__main__.CC'>"
   ]
  },
  {
   "cell_type": "code",
   "execution_count": null,
   "metadata": {
    "collapsed": true
   },
   "outputs": [],
   "source": [
    "python3.5"
   ]
  },
  {
   "cell_type": "code",
   "execution_count": null,
   "metadata": {
    "collapsed": true
   },
   "outputs": [],
   "source": [
    "\n",
    "In [1]: class AA:\n",
    "   ...:     pass                       |         \n",
    "   ...: \n",
    "\n",
    "In [2]: aa=AA()\n",
    "\n",
    "In [3]: type(aa)                                 \n",
    "Out[3]: __main__.AA\n",
    "\n",
    "In [4]: type(AA)\n",
    "Out[4]: type\n",
    "\n",
    "In [5]: aa.__class__\n",
    "Out[5]: __main__.AA\n",
    "\n",
    "\n"
   ]
  },
  {
   "cell_type": "code",
   "execution_count": null,
   "metadata": {
    "collapsed": true
   },
   "outputs": [],
   "source": [
    "\n",
    "In [1]: class BB(object):\n",
    "   ...:     pass\n",
    "   ...: \n",
    "\n",
    "In [2]: bb=BB()\n",
    "\n",
    "In [4]: type(bb)\n",
    "Out[4]: __main__.BB\n",
    "\n",
    "In [5]: type(BB)\n",
    "Out[5]: type\n",
    "\n",
    "In [6]: bb.__class__\n",
    "Out[6]: __main__.BB\n"
   ]
  },
  {
   "cell_type": "code",
   "execution_count": null,
   "metadata": {
    "collapsed": true
   },
   "outputs": [],
   "source": []
  },
  {
   "cell_type": "markdown",
   "metadata": {},
   "source": [
    "# A\n",
    "\n",
    "***\n",
    "## B\n",
    "\n",
    "***\n",
    "### C\n",
    "\n",
    "\n",
    "\n"
   ]
  },
  {
   "cell_type": "code",
   "execution_count": null,
   "metadata": {
    "collapsed": true
   },
   "outputs": [],
   "source": [
    "List"
   ]
  },
  {
   "cell_type": "markdown",
   "metadata": {},
   "source": [
    "* a\n",
    "* b\n",
    "* c"
   ]
  },
  {
   "cell_type": "markdown",
   "metadata": {},
   "source": [
    "- a\n",
    "- b\n",
    "- c"
   ]
  },
  {
   "cell_type": "markdown",
   "metadata": {},
   "source": [
    "3. Bird\n",
    "1. McHale\n",
    "8. Parish"
   ]
  },
  {
   "cell_type": "code",
   "execution_count": null,
   "metadata": {
    "collapsed": true
   },
   "outputs": [],
   "source": [
    "Picture"
   ]
  },
  {
   "cell_type": "markdown",
   "metadata": {},
   "source": [
    "![](http://stimg0.tuicool.com/QNviIn.png)"
   ]
  },
  {
   "cell_type": "code",
   "execution_count": null,
   "metadata": {
    "collapsed": true
   },
   "outputs": [],
   "source": [
    "Quote"
   ]
  },
  {
   "cell_type": "markdown",
   "metadata": {},
   "source": [
    "\n",
    "> Donec sit amet nisl. Aliquam semper ipsum sit amet velit.\n",
    "    Suspendisse id sem consectetuer libero luctus adipiscing.\n"
   ]
  },
  {
   "cell_type": "code",
   "execution_count": null,
   "metadata": {
    "collapsed": true
   },
   "outputs": [],
   "source": [
    "换行:空格+空格+回车"
   ]
  },
  {
   "cell_type": "markdown",
   "metadata": {},
   "source": [
    "ABVD   \n",
    "FEFFFF   \n"
   ]
  },
  {
   "cell_type": "markdown",
   "metadata": {},
   "source": [
    "> 这是一级引用\n",
    ">>这是二级引用\n",
    ">>> 这是三级引用\n"
   ]
  },
  {
   "cell_type": "markdown",
   "metadata": {},
   "source": [
    "```javascript\n",
    "var canvas = document.getElementById(\"canvas\");\n",
    "var context = canvas.getContext(\"2d\");\n",
    "```"
   ]
  },
  {
   "cell_type": "markdown",
   "metadata": {},
   "source": [
    "|         序号    |    交易名    |    交易说明    |    备注    |\n",
    "|    ------: |    :-------:    |    :---------   |    ------    |\n",
    "|    1    |    prfcfg    |    菜单配置    |    可以通过此交易查询到所有交易码和菜单的对应关系    |\n",
    "|    2    |    gentmo    |    编译所有交易    |    |\n",
    "|    100000    |    sysdba    |    数据库表模型汇总    |    |"
   ]
  },
  {
   "cell_type": "markdown",
   "metadata": {},
   "source": [
    "~~这是一条删除线~~"
   ]
  },
  {
   "cell_type": "markdown",
   "metadata": {},
   "source": [
    "https://www.zybuluo.com/AntLog/note/63228"
   ]
  },
  {
   "cell_type": "code",
   "execution_count": 8,
   "metadata": {
    "collapsed": false
   },
   "outputs": [],
   "source": [
    "def createGenerator():\n",
    "        mylist = range(3)\n",
    "        for i in mylist:\n",
    "            yield i*i\n"
   ]
  },
  {
   "cell_type": "code",
   "execution_count": 9,
   "metadata": {
    "collapsed": true
   },
   "outputs": [],
   "source": [
    "a=createGenerator()"
   ]
  },
  {
   "cell_type": "code",
   "execution_count": 10,
   "metadata": {
    "collapsed": false
   },
   "outputs": [
    {
     "data": {
      "text/plain": [
       "0"
      ]
     },
     "execution_count": 10,
     "metadata": {},
     "output_type": "execute_result"
    }
   ],
   "source": [
    "next(a)"
   ]
  },
  {
   "cell_type": "code",
   "execution_count": 11,
   "metadata": {
    "collapsed": false
   },
   "outputs": [
    {
     "data": {
      "text/plain": [
       "1"
      ]
     },
     "execution_count": 11,
     "metadata": {},
     "output_type": "execute_result"
    }
   ],
   "source": [
    "next(a)"
   ]
  },
  {
   "cell_type": "code",
   "execution_count": 12,
   "metadata": {
    "collapsed": false
   },
   "outputs": [
    {
     "data": {
      "text/plain": [
       "4"
      ]
     },
     "execution_count": 12,
     "metadata": {},
     "output_type": "execute_result"
    }
   ],
   "source": [
    "next(a)"
   ]
  },
  {
   "cell_type": "code",
   "execution_count": 13,
   "metadata": {
    "collapsed": false
   },
   "outputs": [
    {
     "data": {
      "text/plain": [
       "0"
      ]
     },
     "execution_count": 13,
     "metadata": {},
     "output_type": "execute_result"
    }
   ],
   "source": [
    "next(createGenerator())"
   ]
  },
  {
   "cell_type": "code",
   "execution_count": 14,
   "metadata": {
    "collapsed": false
   },
   "outputs": [
    {
     "data": {
      "text/plain": [
       "0"
      ]
     },
     "execution_count": 14,
     "metadata": {},
     "output_type": "execute_result"
    }
   ],
   "source": [
    "next(createGenerator())"
   ]
  },
  {
   "cell_type": "markdown",
   "metadata": {},
   "source": [
    " # 变量名定义在形参,初始化于默认参数\n"
   ]
  },
  {
   "cell_type": "code",
   "execution_count": 22,
   "metadata": {
    "collapsed": true
   },
   "outputs": [],
   "source": [
    "\n",
    "In [24]: def a(n=0):\n",
    "    ...:     while 1:\n",
    "    ...:         n+=1\n",
    "    ...:         yield n\n",
    "    ...:         \n",
    "    ...:         \n",
    "    ...:         \n",
    "    ...:         \n",
    "\n"
   ]
  },
  {
   "cell_type": "code",
   "execution_count": 16,
   "metadata": {
    "collapsed": true
   },
   "outputs": [],
   "source": [
    "a=a(1)"
   ]
  },
  {
   "cell_type": "code",
   "execution_count": 17,
   "metadata": {
    "collapsed": false
   },
   "outputs": [
    {
     "data": {
      "text/plain": [
       "<generator object a at 0x7f9e24721500>"
      ]
     },
     "execution_count": 17,
     "metadata": {},
     "output_type": "execute_result"
    }
   ],
   "source": [
    "a"
   ]
  },
  {
   "cell_type": "code",
   "execution_count": 18,
   "metadata": {
    "collapsed": false
   },
   "outputs": [
    {
     "data": {
      "text/plain": [
       "2"
      ]
     },
     "execution_count": 18,
     "metadata": {},
     "output_type": "execute_result"
    }
   ],
   "source": [
    "next(a)"
   ]
  },
  {
   "cell_type": "code",
   "execution_count": 19,
   "metadata": {
    "collapsed": false
   },
   "outputs": [
    {
     "data": {
      "text/plain": [
       "3"
      ]
     },
     "execution_count": 19,
     "metadata": {},
     "output_type": "execute_result"
    }
   ],
   "source": [
    "next(a)"
   ]
  },
  {
   "cell_type": "code",
   "execution_count": 20,
   "metadata": {
    "collapsed": false
   },
   "outputs": [
    {
     "data": {
      "text/plain": [
       "4"
      ]
     },
     "execution_count": 20,
     "metadata": {},
     "output_type": "execute_result"
    }
   ],
   "source": [
    "next(a)"
   ]
  },
  {
   "cell_type": "code",
   "execution_count": 21,
   "metadata": {
    "collapsed": false
   },
   "outputs": [
    {
     "data": {
      "text/plain": [
       "5"
      ]
     },
     "execution_count": 21,
     "metadata": {},
     "output_type": "execute_result"
    }
   ],
   "source": [
    "next(a)"
   ]
  },
  {
   "cell_type": "code",
   "execution_count": 25,
   "metadata": {
    "collapsed": true
   },
   "outputs": [],
   "source": [
    " def a(L):\n",
    "        for j in range(len(L)):\n",
    "            for i in range(len(L) - 1):\n",
    "                if L[i] > L[i+1]:\n",
    "                    L[i], L[i+1]=L[i+1], L[i]\n",
    "        print L\n"
   ]
  },
  {
   "cell_type": "code",
   "execution_count": 31,
   "metadata": {
    "collapsed": true
   },
   "outputs": [],
   "source": [
    "L=[17,2,1,0.5,5,3,8,2]"
   ]
  },
  {
   "cell_type": "code",
   "execution_count": 32,
   "metadata": {
    "collapsed": false
   },
   "outputs": [
    {
     "name": "stdout",
     "output_type": "stream",
     "text": [
      "[0.5, 1, 2, 2, 3, 5, 8, 17]\n"
     ]
    }
   ],
   "source": [
    "a(L)"
   ]
  },
  {
   "cell_type": "code",
   "execution_count": 34,
   "metadata": {
    "collapsed": false
   },
   "outputs": [],
   "source": [
    "a=[]\n",
    "for i in range(5):\n",
    "    for j in range(5):\n",
    "        a.append((i,j))\n",
    "        "
   ]
  },
  {
   "cell_type": "code",
   "execution_count": 35,
   "metadata": {
    "collapsed": false
   },
   "outputs": [
    {
     "data": {
      "text/plain": [
       "[(0, 0),\n",
       " (0, 1),\n",
       " (0, 2),\n",
       " (0, 3),\n",
       " (0, 4),\n",
       " (1, 0),\n",
       " (1, 1),\n",
       " (1, 2),\n",
       " (1, 3),\n",
       " (1, 4),\n",
       " (2, 0),\n",
       " (2, 1),\n",
       " (2, 2),\n",
       " (2, 3),\n",
       " (2, 4),\n",
       " (3, 0),\n",
       " (3, 1),\n",
       " (3, 2),\n",
       " (3, 3),\n",
       " (3, 4),\n",
       " (4, 0),\n",
       " (4, 1),\n",
       " (4, 2),\n",
       " (4, 3),\n",
       " (4, 4)]"
      ]
     },
     "execution_count": 35,
     "metadata": {},
     "output_type": "execute_result"
    }
   ],
   "source": [
    "a"
   ]
  },
  {
   "cell_type": "code",
   "execution_count": 36,
   "metadata": {
    "collapsed": false
   },
   "outputs": [
    {
     "data": {
      "text/plain": [
       "25"
      ]
     },
     "execution_count": 36,
     "metadata": {},
     "output_type": "execute_result"
    }
   ],
   "source": [
    "len(a)"
   ]
  },
  {
   "cell_type": "code",
   "execution_count": null,
   "metadata": {
    "collapsed": true
   },
   "outputs": [],
   "source": [
    "In [19]: def jiecheng(n):\n",
    "    ...:     if n==1:\n",
    "    ...:         b=1\n",
    "    ...:     else:\n",
    "    ...:         b= n*jiecheng(n-1)\n",
    "    ...:     return  b\n"
   ]
  },
  {
   "cell_type": "code",
   "execution_count": null,
   "metadata": {
    "collapsed": true
   },
   "outputs": [],
   "source": [
    "\n",
    "In [12]: a=1\n",
    "\n",
    "In [13]: for i in range(1,10):\n",
    "    ...:     c=a*i\n",
    "    ...:     print ('{}*{}={}'.format(a,i,c))\n",
    "    ...:     a=c\n",
    "    ...:     \n",
    "    ...:     \n",
    "    ...:     \n",
    "    ...:     \n",
    "    ...:     \n",
    "1*1=1\n",
    "1*2=2\n",
    "2*3=6\n",
    "6*4=24\n",
    "24*5=120\n",
    "120*6=720\n",
    "720*7=5040\n",
    "5040*8=40320\n",
    "40320*9=362880\n"
   ]
  },
  {
   "cell_type": "code",
   "execution_count": null,
   "metadata": {
    "collapsed": true
   },
   "outputs": [],
   "source": [
    "In [53]: def fun2(n):\n",
    "    ...:     a=0\n",
    "    ...:     for i in range(5,n+5,5):\n",
    "    ...:         j=i\n",
    "    ...:         while 1:\n",
    "    ...:           if  j%5==0:\n",
    "    ...:               a+=1\n",
    "    ...:               j/=5\n",
    "    ...:           else:\n",
    "    ...:               break\n",
    "    ...:     return a\n",
    "    ...:     \n",
    "    ...:           \n",
    "    ...:     \n",
    "\n",
    "In [54]: fun2(10)\n",
    "Out[54]: 2\n",
    "    \n",
    "   \n",
    "\n",
    "\n",
    "\n",
    "\n",
    "\n",
    "\n",
    "In [55]: def fun2(n):\n",
    "    ...:     a=0\n",
    "    ...:     while n:\n",
    "    ...:         a+=n//5\n",
    "    ...:         n//=5\n",
    "    ...:     return a\n",
    "    ...: \n",
    "\n",
    "In [56]: fun2(10)\n",
    "Out[56]: 2\n",
    "\n",
    "In [57]: fun2(5)\n",
    "Out[57]: 1\n",
    "\n",
    "In [58]: fun2(1000)\n",
    "Out[58]: 249\n",
    "\n",
    "\n",
    "    \n",
    "    \n",
    "    \n",
    "    \n",
    "    \n",
    "    \n",
    "    \n",
    "http://www.programgo.com/article/11822812666/"
   ]
  },
  {
   "cell_type": "code",
   "execution_count": null,
   "metadata": {
    "collapsed": true
   },
   "outputs": [],
   "source": [
    "In [70]: def fun2(n):\n",
    "    ...:     a=0\n",
    "    ...:     i=1\n",
    "    ...:     while n:\n",
    "    ...:         if 5**i > n:\n",
    "    ...:             break\n",
    "    ...:         a+=n//(5**i)\n",
    "    ...:         i+=1\n",
    "    ...:       \n",
    "    ...:     return a\n",
    "    \n",
    "    \n",
    "    ...: \n",
    "比如求1到100的数因式分解中有多少个5，可以知道5的倍数有20个，25的倍数有4个，所以一共有24个5。\n",
    "Z=N/5 + N/(5^2) + N/(5^3)+.\n"
   ]
  },
  {
   "cell_type": "code",
   "execution_count": null,
   "metadata": {
    "collapsed": true
   },
   "outputs": [],
   "source": []
  }
 ],
 "metadata": {
  "kernelspec": {
   "display_name": "Python 2",
   "language": "python",
   "name": "python2"
  },
  "language_info": {
   "codemirror_mode": {
    "name": "ipython",
    "version": 2
   },
   "file_extension": ".py",
   "mimetype": "text/x-python",
   "name": "python",
   "nbconvert_exporter": "python",
   "pygments_lexer": "ipython2",
   "version": "2.7.12"
  }
 },
 "nbformat": 4,
 "nbformat_minor": 1
}
