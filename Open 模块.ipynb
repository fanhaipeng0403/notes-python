{
 "metadata": {
  "name": "",
  "signature": "sha256:7e995afa4f758ea12b3380e3b22eb0df5e1e51d144d1d5106b4a9851ea910f66"
 },
 "nbformat": 3,
 "nbformat_minor": 0,
 "worksheets": [
  {
   "cells": [
    {
     "cell_type": "markdown",
     "metadata": {},
     "source": [
      "<a id=\"cb_post_title_url\" class=\"postTitle2\" href=\"http://www.cnblogs.com/dkblog/archive/2011/02/24/1980651.html\">python:open/\u6587\u4ef6\u64cd\u4f5c</a>\n",
      "\t\t</h1>\n",
      "\t\t<div class=\"clear\"></div>\n",
      "\t\t<div class=\"postBody\">\n",
      "\t\t\t<div id=\"cnblogs_post_body\"><p>open/\u6587\u4ef6\u64cd\u4f5c<br>f=open('/tmp/hello','w')<br><br>#open(\u8def\u5f84+\u6587\u4ef6\u540d,\u8bfb\u5199\u6a21\u5f0f)<br><br>#\u8bfb\u5199\u6a21\u5f0f:r\u53ea\u8bfb,r+\u8bfb\u5199,w\u65b0\u5efa(\u4f1a\u8986\u76d6\u539f\u6709\u6587\u4ef6),a\u8ffd\u52a0,b\u4e8c\u8fdb\u5236\u6587\u4ef6.\u5e38\u7528\u6a21\u5f0f<br><br>\u5982:'rb','wb','r+b'\u7b49\u7b49</p>\n",
      "<p>\u8bfb\u5199\u6a21\u5f0f\u7684\u7c7b\u578b\u6709\uff1a</p>\n",
      "<p><span style=\"font-family: Verdana;\">rU \u6216 Ua \u4ee5\u8bfb\u65b9\u5f0f\u6253\u5f00, \u540c\u65f6\u63d0\u4f9b\u901a\u7528\u6362\u884c\u7b26\u652f\u6301 (PEP 278)<br>w&nbsp;&nbsp;&nbsp;&nbsp;&nbsp;\u4ee5\u5199\u65b9\u5f0f\u6253\u5f00\uff0c<br>a&nbsp;&nbsp;&nbsp;&nbsp;&nbsp;\u4ee5\u8ffd\u52a0\u6a21\u5f0f\u6253\u5f00 (\u4ece EOF \u5f00\u59cb, \u5fc5\u8981\u65f6\u521b\u5efa\u65b0\u6587\u4ef6)<br>r+&nbsp;&nbsp;&nbsp;&nbsp;&nbsp;\u4ee5\u8bfb\u5199\u6a21\u5f0f\u6253\u5f00<br>w+&nbsp;&nbsp;&nbsp;&nbsp;&nbsp;\u4ee5\u8bfb\u5199\u6a21\u5f0f\u6253\u5f00 (\u53c2\u89c1 w )<br>a+&nbsp;&nbsp;&nbsp;&nbsp;&nbsp;\u4ee5\u8bfb\u5199\u6a21\u5f0f\u6253\u5f00 (\u53c2\u89c1 a )<br>rb&nbsp;&nbsp;&nbsp;&nbsp;&nbsp;\u4ee5\u4e8c\u8fdb\u5236\u8bfb\u6a21\u5f0f\u6253\u5f00<br>wb&nbsp;&nbsp;&nbsp;&nbsp;&nbsp;\u4ee5\u4e8c\u8fdb\u5236\u5199\u6a21\u5f0f\u6253\u5f00 (\u53c2\u89c1 w )<br>ab&nbsp;&nbsp;&nbsp;&nbsp;&nbsp;\u4ee5\u4e8c\u8fdb\u5236\u8ffd\u52a0\u6a21\u5f0f\u6253\u5f00 (\u53c2\u89c1 a )<br>rb+&nbsp;&nbsp;&nbsp;&nbsp;\u4ee5\u4e8c\u8fdb\u5236\u8bfb\u5199\u6a21\u5f0f\u6253\u5f00 (\u53c2\u89c1 r+ )<br>wb+&nbsp;&nbsp;&nbsp;&nbsp;\u4ee5\u4e8c\u8fdb\u5236\u8bfb\u5199\u6a21\u5f0f\u6253\u5f00 (\u53c2\u89c1 w+ )<br>ab+&nbsp;&nbsp;&nbsp;&nbsp;\u4ee5\u4e8c\u8fdb\u5236\u8bfb\u5199\u6a21\u5f0f\u6253\u5f00 (\u53c2\u89c1 a+ )</span></p>\n",
      "<p><span style=\"font-family: Verdana;\"><br></span><span style=\"font-family: Verdana;\">\u6ce8\u610f\uff1a</span></p>\n",
      "<p><span style=\"font-family: Verdana;\">1\u3001\u4f7f\u7528'W'\uff0c\u6587\u4ef6\u82e5\u5b58\u5728\uff0c\u9996\u5148\u8981\u6e05\u7a7a</span>\uff0c\u7136\u540e\uff08\u91cd\u65b0\uff09\u521b\u5efa\uff0c</p>\n",
      "<p>2\u3001\u4f7f\u7528'a'\u6a21\u5f0f \uff0c\u628a\u6240\u6709\u8981\u5199\u5165\u6587\u4ef6\u7684\u6570\u636e\u90fd\u8ffd\u52a0\u5230\u6587\u4ef6\u7684\u672b\u5c3e\uff0c\u5373\u4f7f\u4f60\u4f7f\u7528\u4e86seek\uff08\uff09\u6307\u5411\u6587\u4ef6\u7684\u5176\u4ed6\u5730\u65b9\uff0c\u5982\u679c\u6587\u4ef6\u4e0d\u5b58\u5728\uff0c\u5c06\u81ea\u52a8\u88ab\u521b\u5efa\u3002</p>\n",
      "<p><br><br>f.read([size]) size\u672a\u6307\u5b9a\u5219\u8fd4\u56de\u6574\u4e2a\u6587\u4ef6,\u5982\u679c\u6587\u4ef6\u5927\u5c0f&gt;2\u500d\u5185\u5b58\u5219\u6709\u95ee\u9898.f.read()\u8bfb\u5230\u6587\u4ef6\u5c3e\u65f6\u8fd4\u56de\"\"(\u7a7a\u5b57\u4e32)<br><br>file.readline() \u8fd4\u56de\u4e00\u884c<br><br>file.readline([size]) \u8fd4\u56de\u5305\u542bsize\u884c\u7684\u5217\u8868,size \u672a\u6307\u5b9a\u5219\u8fd4\u56de\u5168\u90e8\u884c<br><br>for line in f: print line #\u901a\u8fc7\u8fed\u4ee3\u5668\u8bbf\u95ee<br><br>f.write(\"hello\\n\") #\u5982\u679c\u8981\u5199\u5165\u5b57\u7b26\u4e32\u4ee5\u5916\u7684\u6570\u636e,\u5148\u5c06\u4ed6\u8f6c\u6362\u4e3a\u5b57\u7b26\u4e32.<br><br>f.tell() \u8fd4\u56de\u4e00\u4e2a\u6574\u6570,\u8868\u793a\u5f53\u524d\u6587\u4ef6\u6307\u9488\u7684\u4f4d\u7f6e(\u5c31\u662f\u5230\u6587\u4ef6\u5934\u7684\u6bd4\u7279\u6570).<br><br>f.seek(\u504f\u79fb\u91cf,[\u8d77\u59cb\u4f4d\u7f6e])<br><br>\u7528\u6765\u79fb\u52a8\u6587\u4ef6\u6307\u9488<br><br>\u504f\u79fb\u91cf:\u5355\u4f4d:\u6bd4\u7279,\u53ef\u6b63\u53ef\u8d1f<br><br>\u8d77\u59cb\u4f4d\u7f6e:0-\u6587\u4ef6\u5934,\u9ed8\u8ba4\u503c;1-\u5f53\u524d\u4f4d\u7f6e;2-\u6587\u4ef6\u5c3e<br><br>f.close() \u5173\u95ed\u6587\u4ef6<br><br>Code:</p>\n",
      "<table class=\"code\">\n",
      "<tbody>\n",
      "<tr>\n",
      "<td><br>#!/usr/bin/env python<br># Filename: using_file.py<br><br>poem='''\\Programming is funWhen the work is doneif you wanna make your work also fun: use Python!'''<br>f=file('poem.txt','w') # open for 'w'riting<br>f.write(poem) # write text to file<br>f.close() # close the file<br>f=file('poem.txt')<br><br># if no mode is specified, 'r'ead mode is assumed by default<br>while True: <br>line=f.readline() <br>if len(line)==0: # Zero length indicates EOF <br>break <br>print line, <br># Notice comma to avoid automatic newline added by Python<br>f.close() <br># close the file</td>"
     ]
    },
    {
     "cell_type": "markdown",
     "metadata": {},
     "source": [
      "* w\u65b0\u5efa,\u6587\u4ef6\u82e5\u5b58\u5728\uff0c\u9996\u5148\u8981\u6e05\u7a7a\uff0c\u7136\u540e\uff08\u91cd\u65b0\uff09\u521b\u5efa"
     ]
    },
    {
     "cell_type": "markdown",
     "metadata": {},
     "source": [
      "- a     \u4ee5\u8ffd\u52a0\u6a21\u5f0f\u6253\u5f00 (\u4ece EOF \u5f00\u59cb, \u5fc5\u8981\u65f6\u521b\u5efa\u65b0\u6587\u4ef6)\n",
      "- a+     \u4ee5\u8bfb\u5199\u6a21\u5f0f\u6253\u5f00 (\u53c2\u89c1 a )\n",
      "- ab     \u4ee5\u4e8c\u8fdb\u5236\u8ffd\u52a0\u6a21\u5f0f\u6253\u5f00 (\u53c2\u89c1 a )\n",
      "- ab+    \u4ee5\u4e8c\u8fdb\u5236\u8bfb\u5199\u6a21\u5f0f\u6253\u5f00\n"
     ]
    }
   ],
   "metadata": {}
  }
 ]
}