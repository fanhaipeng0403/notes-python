{
 "metadata": {
  "name": "",
  "signature": "sha256:82665f92773768c49838fe74c62dd1833fdf64b5c23f9304c9a87c86c4da5289"
 },
 "nbformat": 3,
 "nbformat_minor": 0,
 "worksheets": [
  {
   "cells": [
    {
     "cell_type": "code",
     "collapsed": false,
     "input": [],
     "language": "python",
     "metadata": {},
     "outputs": []
    }
   ],
   "metadata": {}
  }
 ]
}