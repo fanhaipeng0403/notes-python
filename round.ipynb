{
 "cells": [
  {
   "cell_type": "code",
   "execution_count": null,
   "metadata": {
    "collapsed": true
   },
   "outputs": [],
   "source": [
    "In [1]:  0.1  +  0.2\n",
    "Out[1]: 0.30000000000000004\n",
    "\n",
    "In [2]: from decimal import Decimal\n",
    "\n",
    "In [3]: Decimal(0.1)\n",
    "Out[3]: Decimal('0.1000000000000000055511151231257827021181583404541015625')\n",
    "\n",
    "In [4]: 2.675\n",
    "Out[4]: 2.675\n",
    "\n",
    "In [5]: round(2.675)\n",
    "Out[5]: 3.0\n",
    "\n",
    "In [6]: round(2.675,2)\n",
    "Out[6]: 2.67\n",
    "\n",
    "In [7]: Decimal(2.675)\n",
    "Out[7]: Decimal('2.67499999999999982236431605997495353221893310546875')\n",
    "\n",
    "In [8]: round(Decimal(2.675),2)\n",
    "Out[8]: 2.67\n",
    "\n"
   ]
  }
 ],
 "metadata": {
  "kernelspec": {
   "display_name": "Python 2",
   "language": "python",
   "name": "python2"
  },
  "language_info": {
   "codemirror_mode": {
    "name": "ipython",
    "version": 2
   },
   "file_extension": ".py",
   "mimetype": "text/x-python",
   "name": "python",
   "nbconvert_exporter": "python",
   "pygments_lexer": "ipython2",
   "version": "2.7.12"
  }
 },
 "nbformat": 4,
 "nbformat_minor": 1
}
