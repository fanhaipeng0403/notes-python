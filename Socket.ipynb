{
 "cells": [
  {
   "cell_type": "code",
   "execution_count": null,
   "metadata": {
    "collapsed": true
   },
   "outputs": [],
   "source": [
    "本文实例总结了python在windows和linux下获得本机本地ip地址方法。分享给大家供大家参考。具体分析如下：\n",
    "python的socket包含了丰富的函数和方法可以获得本机的ip地址信息，socket对象的gethostbyname方法可以根据主机名获得本机ip地址，socket对象的gethostbyname_ex方法可以获得本机所有ip地址列表\n",
    "第一种方法：通过socket.gethostbyname方法获得\n",
    "?\n",
    "1\n",
    "2\n",
    "3\n",
    "import socket\n",
    "localIP = socket.gethostbyname(socket.gethostname())#得到本地ip\n",
    "print \"local ip:%s \"%localIP\n",
    "返回结果如下：\n",
    "'172.16.34.102'\n",
    "第二种方法:通过socket.gethostbyname_ex方法获得本机主机名和ip地址列表\n",
    "\n",
    "import socket\n",
    "ipList = socket.gethostbyname_ex(socket.gethostname())\n",
    "print(ipList)\n",
    "返回结果如下：\n",
    "('china-43226208c', [], ['192.168.5.196'])\n",
    "以上两种方法在linux下也可以使用，linux下还以通过下面的代码获取本机ip地址\n",
    "\n",
    "import socket\n",
    "import fcntl\n",
    "import struct\n",
    "def get_ip_address(ifname):\n",
    "  s = socket.socket(socket.AF_INET, socket.SOCK_DGRAM)\n",
    "  return socket.inet_ntoa(fcntl.ioctl(\n",
    "    s.fileno(),\n",
    "    0x8915, # SIOCGIFADDR\n",
    "    struct.pack('256s', ifname[:15])\n",
    "  )[20:24])"
   ]
  }
 ],
 "metadata": {
  "kernelspec": {
   "display_name": "Python 2",
   "language": "python",
   "name": "python2"
  },
  "language_info": {
   "codemirror_mode": {
    "name": "ipython",
    "version": 2
   },
   "file_extension": ".py",
   "mimetype": "text/x-python",
   "name": "python",
   "nbconvert_exporter": "python",
   "pygments_lexer": "ipython2",
   "version": "2.7.12"
  }
 },
 "nbformat": 4,
 "nbformat_minor": 1
}
