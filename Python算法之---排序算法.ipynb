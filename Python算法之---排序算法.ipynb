{
 "cells": [
  {
   "cell_type": "code",
   "execution_count": null,
   "metadata": {
    "collapsed": true
   },
   "outputs": [],
   "source": [
    "Python算法之---冒泡，选择，插入排序算法\n"
   ]
  },
  {
   "cell_type": "markdown",
   "metadata": {},
   "source": [
    "# 冒泡\n",
    "---\n",
    "**就是不断的从一堆数里找出最大或者最小数,不断的矬子拔将军**\n"
   ]
  },
  {
   "cell_type": "code",
   "execution_count": 18,
   "metadata": {
    "collapsed": false
   },
   "outputs": [
    {
     "name": "stdout",
     "output_type": "stream",
     "text": [
      "~~~~~~~~~~~~~~~~~~~~~~~~~~~~~~~~~~~~~~~~~~~~~~~~~bubble_sort~~~~~~~~~~~~~~~~~~~~~~~~~~~~~~~~~~~~~~~~~~~~~~~~~~\n"
     ]
    }
   ],
   "source": [
    "print 'bubble_sort'.center(110,'~')\n"
   ]
  },
  {
   "cell_type": "code",
   "execution_count": 26,
   "metadata": {
    "collapsed": false
   },
   "outputs": [
    {
     "data": {
      "text/plain": [
       "0.125"
      ]
     },
     "execution_count": 26,
     "metadata": {},
     "output_type": "execute_result"
    }
   ],
   "source": [
    "def min_self(seq):\n",
    "   ...:     for i in range(len(seq)):\n",
    "   ...:         if seq[i]<seq[0]:\n",
    "                    seq[i],seq[0]=seq[0],seq[i]\n",
    "#    ...:             tmp=seq[i]\n",
    "#    ...:             seq[i]=seq[0]\n",
    "#    ...:             seq[0]=tmp\n",
    "   ...:     return seq[0]\n",
    "   ...: \n",
    "\n",
    "min_self([5,1,3,4,2222,0.5,0.125])\n",
    "\n"
   ]
  },
  {
   "cell_type": "code",
   "execution_count": 16,
   "metadata": {
    "collapsed": true
   },
   "outputs": [],
   "source": [
    "def bubble_sort(seq):\n",
    "    for i in range(len(seq)):\n",
    "        for j in range(i,len(seq)):\n",
    "            if seq[j] < seq[i]:\n",
    "                seq[i],seq[0]=seq[0],seq[i]"
   ]
  },
  {
   "cell_type": "markdown",
   "metadata": {},
   "source": [
    "In [9]: a\n",
    "Out[9]: [4, 2, 3]\n",
    "\n",
    "In [10]: b\n",
    "Out[10]: [2, 5, 6]\n",
    "\n",
    "In [11]: a[0],b[0]=b[0],a[0]\n",
    "\n",
    "In [12]: a\n",
    "Out[12]: [2, 2, 3]\n",
    "\n",
    "In [13]: b\n",
    "Out[13]: [4, 5, 6]\n"
   ]
  },
  {
   "cell_type": "code",
   "execution_count": 11,
   "metadata": {
    "collapsed": false
   },
   "outputs": [
    {
     "name": "stdout",
     "output_type": "stream",
     "text": [
      "~~~~~~~~~~~~~~~~~~~~~~~~~~~~~~~~~~~~~~~~~~~~~~~~~~selection~~~~~~~~~~~~~~~~~~~~~~~~~~~~~~~~~~~~~~~~~~~~~~~~~~~\n"
     ]
    }
   ],
   "source": [
    "print 'selection'.center(110,'~')\n"
   ]
  },
  {
   "cell_type": "markdown",
   "metadata": {},
   "source": [
    "![](https://upload.wikimedia.org/wikipedia/commons/thumb/0/0f/Insertion-sort-example-300px.gif/220px-Insertion-sort-example-300px.gif)"
   ]
  },
  {
   "cell_type": "code",
   "execution_count": null,
   "metadata": {
    "collapsed": true
   },
   "outputs": [],
   "source": []
  }
 ],
 "metadata": {
  "kernelspec": {
   "display_name": "Python 2",
   "language": "python",
   "name": "python2"
  },
  "language_info": {
   "codemirror_mode": {
    "name": "ipython",
    "version": 2
   },
   "file_extension": ".py",
   "mimetype": "text/x-python",
   "name": "python",
   "nbconvert_exporter": "python",
   "pygments_lexer": "ipython2",
   "version": "2.7.12"
  }
 },
 "nbformat": 4,
 "nbformat_minor": 1
}
