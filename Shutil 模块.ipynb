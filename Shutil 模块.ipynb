{
 "metadata": {
  "name": "",
  "signature": "sha256:5fdcd6eef55cb5a563253d6e6697eab98db14bb508dff49073d1591194469215"
 },
 "nbformat": 3,
 "nbformat_minor": 0,
 "worksheets": [
  {
   "cells": [
    {
     "cell_type": "markdown",
     "metadata": {},
     "source": [
      "http://www.cnblogs.com/wang-yc/p/5625046.html"
     ]
    },
    {
     "cell_type": "markdown",
     "metadata": {},
     "source": [
      "http://xukaizijian.blog.163.com/blog/static/170433119201111414053801/"
     ]
    },
    {
     "cell_type": "code",
     "collapsed": false,
     "input": [],
     "language": "python",
     "metadata": {},
     "outputs": []
    }
   ],
   "metadata": {}
  }
 ]
}