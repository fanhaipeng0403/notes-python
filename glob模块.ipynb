{
 "metadata": {
  "name": "",
  "signature": "sha256:7c3c216d1813862c681d070634a6af28eabbb3f3a726c9d75336345c7eb700bc"
 },
 "nbformat": 3,
 "nbformat_minor": 0,
 "worksheets": [
  {
   "cells": [
    {
     "cell_type": "markdown",
     "metadata": {},
     "source": [
      "glob\u6a21\u5757\u662f\u6700\u7b80\u5355\u7684\u6a21\u5757\u4e4b\u4e00\uff0c\u5185\u5bb9\u975e\u5e38\u5c11\u3002\u7528\u5b83\u53ef\u4ee5\u67e5\u627e\u7b26\u5408\u7279\u5b9a\u89c4\u5219\u7684\u6587\u4ef6\u8def\u5f84\u540d\u3002\u8ddf\u4f7f\u7528windows\u4e0b\u7684\u6587\u4ef6\u641c\u7d22\u5dee\u4e0d\u591a\u3002\u67e5\u627e\u6587\u4ef6\u53ea\u7528\u5230\u4e09\u4e2a\u5339\u914d\u7b26\uff1a\u201d*\u201d, \u201c?\u201d, \u201c[]\u201d\u3002\u201d*\u201d\u5339\u914d0\u4e2a\u6216\u591a\u4e2a\u5b57\u7b26\uff1b\u201d?\u201d\u5339\u914d\u5355\u4e2a\u5b57\u7b26\uff1b\u201d[]\u201d\u5339\u914d\u6307\u5b9a\u8303\u56f4\u5185\u7684\u5b57\u7b26\uff0c\u5982\uff1a[0-9]\u5339\u914d\u6570\u5b57\u3002"
     ]
    },
    {
     "cell_type": "code",
     "collapsed": false,
     "input": [
      "import glob"
     ],
     "language": "python",
     "metadata": {},
     "outputs": [],
     "prompt_number": 2
    },
    {
     "cell_type": "code",
     "collapsed": false,
     "input": [
      "glob.glob('/home/fanhaipeng/*.py')"
     ],
     "language": "python",
     "metadata": {},
     "outputs": [
      {
       "metadata": {},
       "output_type": "pyout",
       "prompt_number": 3,
       "text": [
        "['/home/fanhaipeng/untitled.py',\n",
        " '/home/fanhaipeng/threadtest.py',\n",
        " '/home/fanhaipeng/sorted.py',\n",
        " '/home/fanhaipeng/flasktest.py',\n",
        " '/home/fanhaipeng/f2.py',\n",
        " '/home/fanhaipeng/try_except.py']"
       ]
      }
     ],
     "prompt_number": 3
    },
    {
     "cell_type": "code",
     "collapsed": false,
     "input": [
      "PY=glob.iglob('/home/fanhaipeng/*.py')"
     ],
     "language": "python",
     "metadata": {},
     "outputs": [],
     "prompt_number": 11
    },
    {
     "cell_type": "code",
     "collapsed": false,
     "input": [
      "PY.next()"
     ],
     "language": "python",
     "metadata": {},
     "outputs": [
      {
       "metadata": {},
       "output_type": "pyout",
       "prompt_number": 12,
       "text": [
        "'/home/fanhaipeng/untitled.py'"
       ]
      }
     ],
     "prompt_number": 12
    },
    {
     "cell_type": "code",
     "collapsed": false,
     "input": [
      "for py in PY:\n",
      "    print py"
     ],
     "language": "python",
     "metadata": {},
     "outputs": [
      {
       "output_type": "stream",
       "stream": "stdout",
       "text": [
        "/home/fanhaipeng/threadtest.py\n",
        "/home/fanhaipeng/sorted.py\n",
        "/home/fanhaipeng/flasktest.py\n",
        "/home/fanhaipeng/f2.py\n",
        "/home/fanhaipeng/try_except.py\n"
       ]
      }
     ],
     "prompt_number": 13
    },
    {
     "cell_type": "code",
     "collapsed": false,
     "input": [],
     "language": "python",
     "metadata": {},
     "outputs": []
    }
   ],
   "metadata": {}
  }
 ]
}