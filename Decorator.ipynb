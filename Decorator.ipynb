{
 "metadata": {
  "name": "",
  "signature": "sha256:13bf197ca8a32f604355ffb09a27ed1901f3730e3f8f597e1f10f2788baaf961"
 },
 "nbformat": 3,
 "nbformat_minor": 0,
 "worksheets": [
  {
   "cells": [
    {
     "cell_type": "markdown",
     "metadata": {},
     "source": [
      "# \u65e0\u53c2\u6570\u88c5\u9970\u5668"
     ]
    },
    {
     "cell_type": "code",
     "collapsed": false,
     "input": [
      "def log(func):\n",
      "    def wrapper(*args, **kw):\n",
      "        print('call %s():' % func.__name__)\n",
      "        return func(*args, **kw)\n",
      "    return wrapper\n"
     ],
     "language": "python",
     "metadata": {},
     "outputs": [],
     "prompt_number": 3
    },
    {
     "cell_type": "markdown",
     "metadata": {},
     "source": [
      "\n",
      "\u8fd4\u56de\u7684\u662f\u4e00\u4e2a\u5305\u542bfunc,(\u5373\u539f\u6765now\u51fd\u6570\u5b9e\u4f53)\u7684wrapper,**fun\u5904\u4e8e\u7b49\u5f85\u88ab\u8c03\u7528\u72b6\u6001**.\u56e0\u6b64\u7ed3\u679c\u5982\u4e0b:"
     ]
    },
    {
     "cell_type": "code",
     "collapsed": false,
     "input": [
      "@log\n",
      "def now():\n",
      "    print('2015-3-25')"
     ],
     "language": "python",
     "metadata": {},
     "outputs": [],
     "prompt_number": 5
    },
    {
     "cell_type": "markdown",
     "metadata": {},
     "source": [
      "\u5f53\u4f7f\u7528\u4e86@\u8bed\u6cd5\u7cd6\u4e4b\u540e,\u9ed8\u8ba4\u6267\u884c\u4e86now=log(now).\u5373now\u51fd\u6570\u540d\u6307\u9488\u5bf9\u5e94\u7684\u662f:log\u51fd\u6570,\u914d\u5408\u4e0a\u53c2\u6570**now**\u51fd\u6570\u5b9e\u4f53,\u7ec4\u6210\u7684\u51fd\u6570\u5b9e\u4f53."
     ]
    },
    {
     "cell_type": "markdown",
     "metadata": {},
     "source": [
      "now\u5bf9\u5e94\u7684\u51fd\u6570\u5b9e\u4f53\u53d8\u91cf\u540d\u53d8\u4e3a\u4e86func"
     ]
    },
    {
     "cell_type": "markdown",
     "metadata": {},
     "source": [
      "\u6700\u7ec8\u8fd4\u56defunc,\u5373\u6267\u884c\u539f\u6765\u7684now\u51fd\u6570\u5b9e\u4f53"
     ]
    },
    {
     "cell_type": "code",
     "collapsed": false,
     "input": [
      "now()"
     ],
     "language": "python",
     "metadata": {},
     "outputs": [
      {
       "output_type": "stream",
       "stream": "stdout",
       "text": [
        "call now():\n",
        "2015-3-25\n"
       ]
      }
     ],
     "prompt_number": 6
    },
    {
     "cell_type": "markdown",
     "metadata": {},
     "source": [
      "## \u4f60\u53ef\u80fd\u6709\u4e2a\u7591\u95ee,wrapper\u591a\u6b64\u4e00\u4e3e?\u4e3a\u4ec0\u4e48\u4e0d\u8fd9\u6837:"
     ]
    },
    {
     "cell_type": "code",
     "collapsed": false,
     "input": [
      "def log(func):\n",
      "        print('call %s():' % func.__name__)\n",
      "        return func() "
     ],
     "language": "python",
     "metadata": {},
     "outputs": [],
     "prompt_number": 6
    },
    {
     "cell_type": "markdown",
     "metadata": {},
     "source": [
      "\u6ce8\u610f\u8fd9\u91cc\u662f\u76f4\u63a5\u8fd4\u56defunc(),\u5373\u539f\u6765now()\u5bf9\u5e94\u7684\u51fd\u6570\u5b9e\u4f53**\u8c03\u7528\u7ed3\u679c**,\u5982\u4e0b"
     ]
    },
    {
     "cell_type": "code",
     "collapsed": false,
     "input": [
      "@log\n",
      "def now():\n",
      "    print('2015-3-25')"
     ],
     "language": "python",
     "metadata": {},
     "outputs": [
      {
       "output_type": "stream",
       "stream": "stdout",
       "text": [
        "call now():\n",
        "2015-3-25\n"
       ]
      }
     ],
     "prompt_number": 13
    },
    {
     "cell_type": "markdown",
     "metadata": {},
     "source": [
      "# \u6709\u53c2\u6570\u88c5\u9970\u5668"
     ]
    },
    {
     "cell_type": "code",
     "collapsed": false,
     "input": [
      "def log(text):\n",
      "    def decorator(func):\n",
      "        def wrapper(*args, **kw):\n",
      "            print('%s %s():' % (text, func.__name__))\n",
      "            return func(*args, **kw)\n",
      "        return wrapper\n",
      "    return decorator"
     ],
     "language": "python",
     "metadata": {},
     "outputs": [],
     "prompt_number": 2
    },
    {
     "cell_type": "code",
     "collapsed": false,
     "input": [
      "@log('execute')\n",
      "def now():\n",
      "    print('2015-3-25')"
     ],
     "language": "python",
     "metadata": {},
     "outputs": [],
     "prompt_number": 4
    },
    {
     "cell_type": "code",
     "collapsed": true,
     "input": [
      "now()"
     ],
     "language": "python",
     "metadata": {},
     "outputs": [
      {
       "output_type": "stream",
       "stream": "stdout",
       "text": [
        "execute now():\n",
        "2015-3-25\n"
       ]
      }
     ],
     "prompt_number": 5
    },
    {
     "cell_type": "markdown",
     "metadata": {},
     "source": [
      "\u5f53\u4f7f\u7528\u4e86@\u8bed\u6cd5\u7cd6\u4e4b\u540e,\u9ed8\u8ba4\u6267\u884c\u4e86now = log('execute')(now),\u5176\u5b9e\u5c31\u662f\u5148\u6267\u884c\u4e86log('execute'),\u7136\u540e\u5c06\u8fd9\u4e2a\u8fd4\u56de\u51fd\u6570\u4f5c\u4e3a**\u65e0\u53c2\u6570\u88c5\u9970\u5668\u4f7f\u7528**,\u5373now=decorator(now)\n",
      "\n",
      "\n"
     ]
    },
    {
     "cell_type": "markdown",
     "metadata": {},
     "source": [
      "now\u5bf9\u5e94\u7684\u51fd\u6570\u5b9e\u4f53\u53d8\u91cf\u540d\u540c\u6837\u53d8\u4e3a\u4e86func"
     ]
    },
    {
     "cell_type": "markdown",
     "metadata": {},
     "source": [
      "\u6700\u7ec8\u8fd4\u56defunc,\u5373\u6267\u884c\u539f\u6765\u7684now\u51fd\u6570\u5b9e\u4f53"
     ]
    }
   ],
   "metadata": {}
  }
 ]
}