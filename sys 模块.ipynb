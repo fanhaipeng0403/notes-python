{
 "metadata": {
  "name": "",
  "signature": "sha256:8b55d72252dd2e825969b321aeffe4f7d9e57d68572bb5c18802b1b630234d95"
 },
 "nbformat": 3,
 "nbformat_minor": 0,
 "worksheets": [
  {
   "cells": [
    {
     "cell_type": "markdown",
     "metadata": {},
     "source": [
      "<h1>\u4f7f\u7528 sys \u6a21\u5757</h1>\n",
      "<pre><code>\n",
      "    #!/usr/bin/python\n",
      "    # Filename: using_sys.py\n",
      "\n",
      "    import sys\n",
      "\n",
      "    print 'The command line arguments are:'\n",
      "    for i in sys.argv:\n",
      "        print i\n",
      "\n",
      "    print '\\n\\nThe PYTHONPATH is', sys.path, '\\n'\n",
      "</code></pre>\n",
      "\n",
      "<p><strong>\u8f93\u51fa</strong></p>\n",
      "<pre><code>\n",
      "    $ python using_sys.py we are arguments\n",
      "    The command line arguments are:\n",
      "    using_sys.py\n",
      "    we\n",
      "    are\n",
      "    arguments\n",
      "\n",
      "    The PYTHONPATH is ['/home/swaroop/byte/code', '/usr/lib/python23.zip',\n",
      "    '/usr/lib/python2.3', '/usr/lib/python2.3/plat-linux2',\n",
      "    '/usr/lib/python2.3/lib-tk', '/usr/lib/python2.3/lib-dynload',\n",
      "    '/usr/lib/python2.3/site-packages', '/usr/lib/python2.3/site-packages/gtk-2.0']"
     ]
    },
    {
     "cell_type": "code",
     "collapsed": false,
     "input": [],
     "language": "python",
     "metadata": {},
     "outputs": []
    }
   ],
   "metadata": {}
  }
 ]
}