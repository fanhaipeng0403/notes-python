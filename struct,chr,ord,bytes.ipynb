{
 "cells": [
  {
   "cell_type": "markdown",
   "metadata": {},
   "source": [
    "# struct.pack('>I',ord('中')) <----------> bin(ord('中'))<--------->'0b100111000101101'\n"
   ]
  },
  {
   "cell_type": "markdown",
   "metadata": {},
   "source": [
    "In [1]: a='中'\n",
    "\n",
    "In [2]: ord('中')\n",
    "Out[2]: 20013\n",
    "\n",
    "In [4]: b=a.encode('unicode-escape')\n",
    "\n",
    "In [5]: b\n",
    "Out[5]: b'\\\\u4e2d'\n",
    "\n",
    "In [6]: hex(20013)\n",
    "Out[6]: '0x4e2d'\n",
    "\n",
    "In [8]: import struct\n",
    "\n",
    "In [9]: struct.pack('>I',20013)\n",
    "Out[9]: b'\\x00\\x00N-'\n",
    "\n",
    "In [11]: ord('N')\n",
    "Out[11]: 78\n",
    "\n",
    "In [12]: ord('-')\n",
    "Out[12]: 45\n",
    "\n",
    "In [13]: hex(78)\n",
    "Out[13]: '0x4e'\n",
    "\n",
    "In [14]: hex(45)\n",
    "Out[14]: '0x2d'\n",
    "\n",
    "In [22]: bin(20013)\n",
    "Out[22]: '0b100111000101101'\n",
    "\n",
    "In [23]: bin(0x4e2d)\n",
    "Out[23]: '0b100111000101101'\n",
    "\n",
    "In [24]: bin(0x4e2d)==bin(20013)\n",
    "Out[24]: True\n",
    "\n",
    "struct.pack('>I',ord('中')) <----------> bin(ord('中'))<--------->'0b100111000101101'\n",
    "\n"
   ]
  }
 ],
 "metadata": {
  "kernelspec": {
   "display_name": "Python 2",
   "language": "python",
   "name": "python2"
  },
  "language_info": {
   "codemirror_mode": {
    "name": "ipython",
    "version": 2
   },
   "file_extension": ".py",
   "mimetype": "text/x-python",
   "name": "python",
   "nbconvert_exporter": "python",
   "pygments_lexer": "ipython2",
   "version": "2.7.12"
  }
 },
 "nbformat": 4,
 "nbformat_minor": 1
}
