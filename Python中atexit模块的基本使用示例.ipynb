{
 "metadata": {
  "name": "",
  "signature": "sha256:38a7496fdacbccba51c05e7580f12a14da4eeb11f975acd115b4b370ca3e6387"
 },
 "nbformat": 3,
 "nbformat_minor": 0,
 "worksheets": [
  {
   "cells": [
    {
     "cell_type": "markdown",
     "metadata": {},
     "source": [
      "atexit\u6a21\u5757\u5f88\u7b80\u5355\uff0c\u53ea\u5b9a\u4e49\u4e86\u4e00\u4e2aregister\u51fd\u6570\u7528\u4e8e\u6ce8\u518c**\u7a0b\u5e8f\u9000\u51fa**\u65f6\u7684\u56de\u8c03\u51fd\u6570\uff0c\u6211\u4eec\u53ef\u4ee5\u5728\u8fd9\u4e2a\u56de\u8c03\u51fd\u6570\u4e2d\u505a\u4e00\u4e9b\u8d44\u6e90\u6e05\u7406\u7684\u64cd\u4f5c\u3002\n",
      "\u6ce8\uff1a\u5982\u679c\u7a0b\u5e8f\u662f\u975e\u6b63\u5e38crash\uff0c\u6ce8\u518c\u7684\u56de\u8c03\u51fd\u6570\u5c06\u4e0d\u4f1a\u88ab\u8c03\u7528\u3002\n",
      "\u6211\u4eec\u4e5f\u53ef\u4ee5\u901a\u8fc7sys.exitfunc\u6765\u6ce8\u518c\u56de\u8c03\uff0c\u4f46\u901a\u8fc7\u5b83\u53ea\u80fd\u6ce8\u518c\u4e00\u4e2a\u56de\u8c03\uff0c\u800c\u4e14\u8fd8\u4e0d\u652f\u6301\u53c2\u6570\u3002\u6240\u4ee5\u5efa\u8bae\u5927\u5bb6\u4f7f\u7528atexit\u6765\u6ce8\u518c\u56de\u8c03\u51fd\u6570\u3002\u4f46\u5343\u4e07\u4e0d\u8981\u5728\u7a0b\u5e8f\u4e2d\u540c\u65f6\u4f7f\u7528\u8fd9\u4e24\u79cd\u65b9\u5f0f\uff0c\u5426\u5219\u901a\u8fc7atexit\u6ce8\u518c\u7684\u56de\u8c03\u53ef\u80fd\u4e0d\u4f1a\u88ab\u6b63\u5e38\u8c03\u7528\u3002\u5176\u5b9e\u901a\u8fc7\u67e5\u9605atexit\u7684\u6e90\u7801\uff0c\u4f60\u4f1a\u53d1\u73b0\u539f\u6765\u5b83\u5185\u90e8\u662f\u901a\u8fc7sys.exitfunc\u6765\u5b9e\u73b0\u7684\uff0c\u5b83\u5148\u628a\u6ce8\u518c\u7684\u56de\u8c03\u51fd\u6570\u653e\u5230\u4e00\u4e2a\u5217\u8868\u4e2d\uff0c\u5f53\u7a0b\u5e8f\u9000\u51fa\u7684\u65f6\u5019\uff0c\u6309**\u5148\u8fdb\u540e\u51fa\u7684\u987a\u5e8f**\u8c03\u7528\u6ce8\u518c\u7684\u56de\u8c03\u3002\u5982\u679c\u56de\u8c03\u51fd\u6570\u5728\u6267\u884c\u8fc7\u7a0b\u4e2d\u629b\u51fa\u4e86\u5f02\u5e38\uff0catexit\u4f1a\u6253\u5370\u5f02\u5e38\u7684\u6587\u5b57\u4fe1\u606f\uff0c\u5e76\u7ee7\u7eed\u6267\u884c\u4e0b\u4e00\u4e0b\u56de\u8c03\uff0c\u76f4\u5230\u6240\u6709\u7684\u56de\u8c03\u90fd\u6267\u884c\u5b8c\u6bd5\uff0c\u5b83\u4f1a\u91cd\u65b0\u629b\u51fa\u6700\u540e\u63a5\u6536\u5230\u7684\u5f02\u5e38\u3002\n",
      "\u5982\u679c\u4f7f\u7528\u7684python\u7248\u672c\u662f2.6\uff0c**\u53ef\u4ee5\u7528\u88c5\u9970\u5668\u7684\u8bed\u6cd5**\u6765\u6ce8\u518c\u56de\u8c03\u51fd\u6570\u3002\n",
      "\u4e0b\u9762\u662f\u4e00\u4e2a\u4f8b\u5b50\uff0c\u5c55\u793a\u4e86atexit\u6a21\u5757\u7684\u4f7f\u7528"
     ]
    },
    {
     "cell_type": "code",
     "collapsed": false,
     "input": [
      "import atexit\n",
      "  \n",
      "def exit0(*args, **kwarg):\n",
      "  print 'exit0'\n",
      "  for arg in args:\n",
      "    print ' ' * 4, arg\n",
      "  \n",
      "  for item in kwarg.items():\n",
      "    print ' ' * 4, item\n",
      "  \n",
      "def exit1():\n",
      "  print 'exit1'\n",
      "  raise Exception, 'exit1'\n",
      "  \n",
      "def exit2():\n",
      "  print 'exit2' \n",
      "  \n",
      "atexit.register(exit0, *[1, 2, 3], **{ \"a\": 1, \"b\": 2, })\n",
      "atexit.register(exit1)\n",
      "atexit.register(exit2)\n",
      "  \n",
      "@atexit.register\n",
      "def exit3():\n",
      "  print 'exit3'\n",
      "  \n",
      "if __name__ == '__main__':\n",
      "  pass"
     ],
     "language": "python",
     "metadata": {},
     "outputs": [],
     "prompt_number": 1
    },
    {
     "cell_type": "markdown",
     "metadata": {},
     "source": [
      "![f](http://files.jb51.net/file_images/article/201507/201578113956933.jpg?201568114110)"
     ]
    }
   ],
   "metadata": {}
  }
 ]
}