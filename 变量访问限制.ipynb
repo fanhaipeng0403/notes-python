{
 "metadata": {
  "name": "",
  "signature": "sha256:4c1121aea8683e98f8d14e7687f98cdf96d58d6a564ec989463f76e840f29916"
 },
 "nbformat": 3,
 "nbformat_minor": 0,
 "worksheets": [
  {
   "cells": [
    {
     "cell_type": "markdown",
     "metadata": {},
     "source": [
      "1.\u5728\u521b\u5efa\u6a21\u5757\u65f6,\u5185\u90e8_ _ doc_ _ \u662f\u7279\u6b8a\u53d8\u91cf, _ private \u662f\u79c1\u6709\u53d8\u91cf,\u4e0d\u5e94\u8be5\u88ab\u8bbf\u95ee."
     ]
    },
    {
     "cell_type": "markdown",
     "metadata": {},
     "source": [
      "2.\u5728\u7c7b\u7684\u5185\u90e8,_ _init_ _\u662f\u7279\u6b8a\u53d8\u91cf, self_name\u6837\u7684\u662f\u79c1\u6709\u53d8\u91cf,\u65e0\u6cd5\u88ab\u8bbf\u95ee."
     ]
    },
    {
     "cell_type": "markdown",
     "metadata": {},
     "source": [
      "3._ _slots_ _ = ('name', 'age'),\u89c4\u5b9a\u5b9e\u4f8b\u53ef\u4ee5\u7ed1\u5b9a\u7684\u5c5e\u6027\u8303\u56f4.\u5982\u679c\u6709\u7236\u7c7b,\u4e5f\u53ef\u4ee5\u7ed1\u5b9a\u7236\u7c7b_ _slots_ _ \u89c4\u5b9a\u7684\u8303\u56f4."
     ]
    }
   ],
   "metadata": {}
  }
 ]
}