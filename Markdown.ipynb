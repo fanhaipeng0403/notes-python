{
 "cells": [
  {
   "cell_type": "markdown",
   "metadata": {},
   "source": [
    "https://www.zybuluo.com/AntLog/note/63228"
   ]
  },
  {
   "cell_type": "markdown",
   "metadata": {
    "collapsed": true
   },
   "source": [
    "\n",
    "\n",
    "# 这是一级标题\n",
    "## 这是二级标题\n",
    "### 这是三级标题\n",
    "###### 这是六级标题\n"
   ]
  },
  {
   "cell_type": "markdown",
   "metadata": {
    "collapsed": true
   },
   "source": [
    "这是高阶标题（效果和一级标题一样 ）\n",
    "========\n"
   ]
  },
  {
   "cell_type": "markdown",
   "metadata": {},
   "source": [
    "这是次阶标题（效果和二级标题一样）\n",
    "--------------"
   ]
  },
  {
   "cell_type": "markdown",
   "metadata": {},
   "source": [
    "> 这是一级引用\n",
    ">>这是二级引用\n",
    ">>> 这是三级引用\n",
    ">这是一级引用"
   ]
  },
  {
   "cell_type": "markdown",
   "metadata": {},
   "source": [
    "```javascript \n",
    "var canvas = document.getElementById(\"canvas\"); \n",
    "var context = canvas.getContext(\"2d\"); \n",
    "```\n",
    "\n"
   ]
  },
  {
   "cell_type": "markdown",
   "metadata": {},
   "source": [
    "这是`javascript`代码"
   ]
  },
  {
   "cell_type": "markdown",
   "metadata": {},
   "source": [
    "![Markdown](http://images.cnitblog.com/blog/404392/201501/122257231047591.jpg)"
   ]
  },
  {
   "cell_type": "markdown",
   "metadata": {},
   "source": [
    "* a\n",
    "  * ff\n",
    "  * fff\n",
    "* b\n",
    "* c"
   ]
  },
  {
   "cell_type": "markdown",
   "metadata": {},
   "source": [
    "- a\n",
    "- b\n",
    "- c"
   ]
  },
  {
   "cell_type": "markdown",
   "metadata": {},
   "source": [
    "3. Bird\n",
    "1. McHale\n",
    "8. Parish"
   ]
  },
  {
   "cell_type": "markdown",
   "metadata": {},
   "source": [
    "+ 呵呵\n",
    "    * 嘉嘉\n",
    "    - 嘻嘻\n",
    "    - 吼吼\n",
    "        - 嘎嘎\n",
    "        + 桀桀\n",
    "* 哈哈"
   ]
  },
  {
   "cell_type": "markdown",
   "metadata": {
    "collapsed": true
   },
   "source": [
    " **粗体1**    __粗体2__\n",
    " *斜体1*    _斜体2_"
   ]
  },
  {
   "cell_type": "code",
   "execution_count": null,
   "metadata": {
    "collapsed": true
   },
   "outputs": [],
   "source": [
    "换行:空格+空格+回车"
   ]
  },
  {
   "cell_type": "markdown",
   "metadata": {},
   "source": [
    "ABVD   \n",
    "FEFFFF   \n"
   ]
  },
  {
   "cell_type": "markdown",
   "metadata": {},
   "source": [
    "|         序号    |    交易名    |    交易说明    |    备注    |\n",
    "|    ------: |    :-------:    |    :---------   |    ------    |\n",
    "|    1    |    prfcfg    |    菜单配置    |    可以通过此交易查询到所有交易码和菜单的对应关系    |\n",
    "|    2    |    gentmo    |    编译所有交易    |    |\n",
    "|    100000    |    sysdba    |    数据库表模型汇总    |    |"
   ]
  },
  {
   "cell_type": "markdown",
   "metadata": {},
   "source": [
    "~~这是一条删除线~~"
   ]
  },
  {
   "cell_type": "markdown",
   "metadata": {},
   "source": [
    " |         序号    |    交易名    |    交易说明    |    备注    |\n",
    "|    ------: |    :-------:    |    :---------   |    ------    |\n",
    "|    1    |    prfcfg    |    菜单配置    |    可以通过此交易查询到所有交易码和菜单的对应关系    |\n",
    "|    2    |    gentmo    |    编译所有交易    |    |\n",
    "|    100000    |    sysdba    |    数据库表模型汇总    |    |"
   ]
  },
  {
   "cell_type": "markdown",
   "metadata": {},
   "source": [
    "| 1 | 2 | 3 |\n",
    "|----|----|---|\n",
    "| a|b|c|\n",
    "|a|b|c|"
   ]
  },
  {
   "cell_type": "markdown",
   "metadata": {},
   "source": [
    "| 1 | 2 | 3 |\n",
    "|----:|:----:|:---|\n",
    "| a      |b|c       |\n",
    "|a|b|c| "
   ]
  },
  {
   "cell_type": "markdown",
   "metadata": {},
   "source": [
    "|     |    |   |\n",
    "|----|:----|---|\n",
    "|     |     |   |"
   ]
  },
  {
   "cell_type": "markdown",
   "metadata": {},
   "source": [
    "---\n",
    "***\n",
    "* * *\n"
   ]
  },
  {
   "cell_type": "markdown",
   "metadata": {},
   "source": [
    "这就是我们常用的地址：[Baidu](www.baidu.com )"
   ]
  },
  {
   "cell_type": "markdown",
   "metadata": {},
   "source": [
    "\n",
    "\n",
    "# Heading\n",
    "\n",
    "## Sub-heading\n",
    "\n",
    "### Another deeper heading\n",
    " \n",
    "Paragraphs are separated\n",
    "by a blank line.\n",
    "\n",
    "Two spaces at the end of a line leave a  \n",
    "line break.\n",
    "\n",
    "Text attributes _italic_, *italic*, __bold__, **bold**, `monospace`.\n",
    "\n",
    "Horizontal rule:\n",
    "\n",
    "---\n",
    "\n",
    "Bullet list:\n",
    "\n",
    "  * apples\n",
    "  * oranges\n",
    "  * pears\n",
    "\n",
    "Numbered list:\n",
    "\n",
    "  1. apples\n",
    "  2. oranges\n",
    "  3. pears\n",
    "\n",
    "A [link](http://example.com)."
   ]
  }
 ],
 "metadata": {
  "kernelspec": {
   "display_name": "Python 2",
   "language": "python",
   "name": "python2"
  },
  "language_info": {
   "codemirror_mode": {
    "name": "ipython",
    "version": 2
   },
   "file_extension": ".py",
   "mimetype": "text/x-python",
   "name": "python",
   "nbconvert_exporter": "python",
   "pygments_lexer": "ipython2",
   "version": "2.7.12"
  }
 },
 "nbformat": 4,
 "nbformat_minor": 1
}
