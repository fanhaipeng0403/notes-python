{
 "cells": [
  {
   "cell_type": "markdown",
   "metadata": {},
   "source": [
    "\n",
    "<p>MD5(Message-Digest Algorithm 5) 模块用于计算信息密文（信息摘要），得出一个128位的密文。sha模块跟md5相似，但生成的是160位的签名。使用方法是相同的。</p>\n",
    "<p>如下实例是使用md5的：</p>\n",
    "<p></p><div class=\"codetitle\"><span><a style=\"CURSOR: pointer\" data=\"49790\" class=\"copybut\" id=\"copybut49790\" onclick=\"doCopy('code49790')\"><u>复制代码</u></a></span> 代码如下:</div><div class=\"codebody\" id=\"code49790\"><br>\n",
    " /usr/bin/python<br>\n",
    " -*- coding:utf-8 -*-<br>\n",
    "import base64<br>\n",
    "try:<br>\n",
    "&nbsp;&nbsp;&nbsp; import hashlib<br>\n",
    "&nbsp;&nbsp;&nbsp; hash = hashlib.md5()<br>\n",
    "except ImportError:<br>\n",
    "&nbsp;&nbsp;&nbsp; # for Python &lt;&lt; 2.5<br>\n",
    "&nbsp;&nbsp;&nbsp; import md5<br>\n",
    "&nbsp;&nbsp;&nbsp; hash = md5.new()<br>\n",
    "hash.update('spam,spam,and egges')<br>\n",
    "value = hash.digest()<br>\n",
    "print repr(value)&nbsp;&nbsp; #得到的是二进制的字符串<br>\n",
    "print hash.hexdigest()&nbsp; #得到的是一个十六进制的值<br>\n",
    "print base64.encodestring(value) #得到base64的值<br>\n",
    "</div><p></p>\n",
    "<p></p><div class=\"codetitle\"><span><a style=\"CURSOR: pointer\" data=\"41504\" class=\"copybut\" id=\"copybut41504\" onclick=\"doCopy('code41504')\"><u>复制代码</u></a></span> 代码如下:</div><div class=\"codebody\" id=\"code41504\"><br>\n",
    " /usr/bin/python<br>\n",
    " -*- coding:utf-8 -*-<br>\n",
    "客户端与服务器端通信的信息的验证<p></p>\n",
    "<p>import string<br>\n",
    "import random</p>\n",
    "<p>def getchallenge():<br>\n",
    "&nbsp;&nbsp;&nbsp; challenge = map(lambda i: chr(random.randint(0,255)),range(16))<br>\n",
    "&nbsp;&nbsp;&nbsp; return string.join(challenge,\"\")</p>\n",
    "<p>def getresponse(password,challenge):<br>\n",
    "&nbsp;&nbsp;&nbsp; try:<br>\n",
    "&nbsp;&nbsp;&nbsp;&nbsp;&nbsp;&nbsp;&nbsp; import hashlib<br>\n",
    "&nbsp;&nbsp;&nbsp;&nbsp;&nbsp;&nbsp;&nbsp; hash = hashlib.md5()<br>\n",
    "&nbsp;&nbsp;&nbsp; except ImportError:<br>\n",
    "&nbsp;&nbsp;&nbsp;&nbsp;&nbsp;&nbsp;&nbsp; # for Python &lt;&lt; 2.5<br>\n",
    "&nbsp;&nbsp;&nbsp;&nbsp;&nbsp;&nbsp;&nbsp; import md5<br>\n",
    "&nbsp;&nbsp;&nbsp;&nbsp;&nbsp;&nbsp;&nbsp; hash = md5.new()<br>\n",
    "&nbsp;&nbsp;&nbsp; hash.update(password)<br>\n",
    "&nbsp;&nbsp;&nbsp; hash.update(challenge)<br>\n",
    "&nbsp;&nbsp;&nbsp; return&nbsp; hash.digest()</p>\n",
    "<p>print \"client: \",\"connect\"<br>\n",
    "challenge= getchallenge()<br>\n",
    "print \"server: \",repr(challenge)<br>\n",
    "client_response = getresponse(\"trustno1\",challenge)<br>\n",
    "print \"client: \",repr(client_response)<br>\n",
    "server_response = getresponse(\"trustno1\",challenge)<br>\n",
    "if client_response == server_response:<br>\n",
    "&nbsp;&nbsp;&nbsp; print \"server:\",\"login ok\"<br>\n",
    "</p></div><p></p>\n",
    "<p>crypt 模块(只用于 Unix)实现了单向的 DES 加密, Unix 系统使用这个加密算法来储存密码, 这个模块真正也就只在检查这样的密码时有用。</p>\n",
    "<p>如下实例，展示了如何使用 crypt.crypt 来加密一个密码, 将密码和 salt组合起来然后传递给函数, 这里的 salt 包含两位随机字符.现在你可以扔掉原密码而只保存加密后的字符串了。<br>\n",
    "</p><div class=\"codetitle\"><span><a style=\"CURSOR: pointer\" data=\"19478\" class=\"copybut\" id=\"copybut19478\" onclick=\"doCopy('code19478')\"><u>复制代码</u></a></span> 代码如下:</div><div class=\"codebody\" id=\"code19478\"><br>\n",
    " /usr/bin/python<br>\n",
    "-*- coding:utf-8 -*-<p></p>\n",
    "<p>import crypt<br>\n",
    "import random,string</p>\n",
    "<p>def getsalt(chars = string.letters+string.digits):<br>\n",
    "&nbsp;&nbsp;&nbsp; return random.choice(chars)+random.choice(chars)</p>\n",
    "<p>salt = getsalt()<br>\n",
    "print salt<br>\n",
    "print crypt.crypt('bananas',salt)<br>\n",
    "</p></div><p></p>\n",
    "<p><span style=\"color: #800000\"><strong>PS：关于加密技术，本站还提供了如下加密工具供大家参考使用：</strong>"
   ]
  },
  {
   "cell_type": "code",
   "execution_count": null,
   "metadata": {
    "collapsed": true
   },
   "outputs": [],
   "source": []
  }
 ],
 "metadata": {
  "kernelspec": {
   "display_name": "Python 2",
   "language": "python",
   "name": "python2"
  },
  "language_info": {
   "codemirror_mode": {
    "name": "ipython",
    "version": 2
   },
   "file_extension": ".py",
   "mimetype": "text/x-python",
   "name": "python",
   "nbconvert_exporter": "python",
   "pygments_lexer": "ipython2",
   "version": "2.7.12"
  }
 },
 "nbformat": 4,
 "nbformat_minor": 1
}
