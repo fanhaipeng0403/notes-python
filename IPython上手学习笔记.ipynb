{
 "cells": [
  {
   "cell_type": "code",
   "execution_count": null,
   "metadata": {
    "collapsed": true
   },
   "outputs": [],
   "source": [
    "ipython 基本使用方法\n",
    "\n",
    "b = [1，2，3]\n",
    "\n",
    "b.<tab> 查看b的方法(<tab = tab键>)\n",
    "\n",
    "b? 可以查看b的类型还有长度等一些信息\n",
    "\n",
    "b??  显示函数源代码 如果b是一段函数的话\n",
    "\n",
    "np.*load*? 列出模块包里面包含load的函数\n",
    "\n",
    "%run 01.py  直接运行python脚本\n",
    "\n",
    "运行完了python的脚本以后 可以直接运行里面调用出来的函数\n",
    "\n",
    "%cpaste\n",
    "\n",
    "直接黏贴代码查看\n",
    "\n",
    "--   #结束\n",
    "\n",
    "常用的快捷键：\n",
    "\n",
    "ctrl+u 删除整行（光标在最后）\n",
    "\n",
    "ctrl+k 删除整行（光标在最前）\n",
    "\n",
    "ctrl+a 跳转到第一行\n",
    "\n",
    "ctrl+e 跳转到最后\n",
    "\n",
    "苹果键+k 清空屏幕\n",
    "\n",
    "ctrl+l 清空屏幕\n",
    "\n",
    "ctrl+r 反向搜索历史\n",
    "\n",
    "ctrl+c 中止运行程序\n",
    "\n",
    "目录/书签\n",
    "\n",
    "%pwd: 显示当前工作目录。\n",
    "\n",
    "%cd: 切换工作目录。\n",
    "\n",
    "%bookmark: 工作目录书签。 (永久？) cd 和 bookmark 配合起来用，非常方便"
   ]
  }
 ],
 "metadata": {
  "kernelspec": {
   "display_name": "Python 2",
   "language": "python",
   "name": "python2"
  },
  "language_info": {
   "codemirror_mode": {
    "name": "ipython",
    "version": 2
   },
   "file_extension": ".py",
   "mimetype": "text/x-python",
   "name": "python",
   "nbconvert_exporter": "python",
   "pygments_lexer": "ipython2",
   "version": "2.7.12"
  }
 },
 "nbformat": 4,
 "nbformat_minor": 1
}
