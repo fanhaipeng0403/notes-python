{
 "metadata": {
  "name": "",
  "signature": "sha256:cdfcf09dc4c02c13ae2d4d850fd87352d50941b3bffe4584f843e73f66ffd7b8"
 },
 "nbformat": 3,
 "nbformat_minor": 0,
 "worksheets": [
  {
   "cells": [
    {
     "cell_type": "markdown",
     "metadata": {},
     "source": [
      "reprlib\u6a21\u5757 \u63d0\u4f9b\u4e86\u5bf9\u8868\u793a\u5bf9\u8c61\u7684\u5b57\u7b26\u4e32\u5927\u5c0f\u7684\u9650\u5236\u3002\u5b83\u63d0\u4f9b\u7684\u529f\u80fd\u662f\u5185\u5efa\u51fd\u6570repr\uff08\uff09\u7684\u52a0\u5f3a"
     ]
    },
    {
     "cell_type": "code",
     "collapsed": false,
     "input": [
      "import reprlib"
     ],
     "language": "python",
     "metadata": {},
     "outputs": [],
     "prompt_number": 2
    },
    {
     "cell_type": "markdown",
     "metadata": {},
     "source": [
      "Repr\u7c7b,\u63d0\u4f9b\u4e86\u4e00\u4e2a\u7c7b\u4f3c\u5185\u5efa\u65b9\u6cd5repr\uff08\uff09\u7684\u65b9\u6cd5\u5b9e\u73b0"
     ]
    },
    {
     "cell_type": "code",
     "collapsed": false,
     "input": [
      "r=reprlib.Repr()"
     ],
     "language": "python",
     "metadata": {},
     "outputs": [],
     "prompt_number": 3
    },
    {
     "cell_type": "code",
     "collapsed": false,
     "input": [
      "r.repr('s')"
     ],
     "language": "python",
     "metadata": {},
     "outputs": [
      {
       "metadata": {},
       "output_type": "pyout",
       "prompt_number": 7,
       "text": [
        "\"'s'\""
       ]
      }
     ],
     "prompt_number": 7
    },
    {
     "cell_type": "markdown",
     "metadata": {},
     "source": [
      "http://blog.csdn.net/iamaiearner/article/details/9379483"
     ]
    }
   ],
   "metadata": {}
  }
 ]
}